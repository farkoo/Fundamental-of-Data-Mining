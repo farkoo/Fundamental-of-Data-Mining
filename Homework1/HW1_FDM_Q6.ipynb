{
  "nbformat": 4,
  "nbformat_minor": 0,
  "metadata": {
    "colab": {
      "name": "HW1-FDM-Q6.ipynb",
      "provenance": [],
      "collapsed_sections": []
    },
    "kernelspec": {
      "name": "python3",
      "display_name": "Python 3"
    },
    "language_info": {
      "name": "python"
    }
  },
  "cells": [
    {
      "cell_type": "markdown",
      "source": [
        "# <div dir=\"rtl\">سوال ششم:</div>"
      ],
      "metadata": {
        "id": "EcyTdQkDAfii"
      }
    },
    {
      "cell_type": "code",
      "execution_count": 1,
      "metadata": {
        "colab": {
          "base_uri": "https://localhost:8080/"
        },
        "id": "ehGm1cjzmh_H",
        "outputId": "4dd9b976-050f-4c34-f819-76606a71f88a"
      },
      "outputs": [
        {
          "output_type": "stream",
          "name": "stdout",
          "text": [
            "/content/drive/MyDrive/FDM\n"
          ]
        }
      ],
      "source": [
        "%cd drive/MyDrive/FDM"
      ]
    },
    {
      "cell_type": "code",
      "source": [
        "!pip install jenkspy"
      ],
      "metadata": {
        "colab": {
          "base_uri": "https://localhost:8080/"
        },
        "id": "8V4g6x3PzePD",
        "outputId": "8e83edb1-3cb6-4e90-a248-98eef0423dc6"
      },
      "execution_count": 2,
      "outputs": [
        {
          "output_type": "stream",
          "name": "stdout",
          "text": [
            "Collecting jenkspy\n",
            "  Downloading jenkspy-0.2.0.tar.gz (55 kB)\n",
            "\u001b[?25l\r\u001b[K     |██████                          | 10 kB 18.5 MB/s eta 0:00:01\r\u001b[K     |███████████▉                    | 20 kB 25.1 MB/s eta 0:00:01\r\u001b[K     |█████████████████▊              | 30 kB 14.6 MB/s eta 0:00:01\r\u001b[K     |███████████████████████▋        | 40 kB 10.9 MB/s eta 0:00:01\r\u001b[K     |█████████████████████████████▌  | 51 kB 7.9 MB/s eta 0:00:01\r\u001b[K     |████████████████████████████████| 55 kB 2.9 MB/s \n",
            "\u001b[?25hBuilding wheels for collected packages: jenkspy\n",
            "  Building wheel for jenkspy (setup.py) ... \u001b[?25l\u001b[?25hdone\n",
            "  Created wheel for jenkspy: filename=jenkspy-0.2.0-cp37-cp37m-linux_x86_64.whl size=71227 sha256=90875dd1a1e8a27c8c5cae915de5fc1e708133c32f6161f25b511e37a5e3feaf\n",
            "  Stored in directory: /root/.cache/pip/wheels/d8/d1/42/9bd05164ef706b84674905892f0542f8db6ac4a652473ca7e0\n",
            "Successfully built jenkspy\n",
            "Installing collected packages: jenkspy\n",
            "Successfully installed jenkspy-0.2.0\n"
          ]
        }
      ]
    },
    {
      "cell_type": "code",
      "source": [
        "import pandas as pd\n",
        "import seaborn as sns\n",
        "import matplotlib.pyplot as plt\n",
        "import jenkspy"
      ],
      "metadata": {
        "id": "VGps35ymnnA7"
      },
      "execution_count": 3,
      "outputs": []
    },
    {
      "cell_type": "code",
      "source": [
        "machine_data = pd.read_csv(\"machines.csv\", index_col=None, header=None).drop(0, axis=1)\n",
        "machine_data = machine_data.rename(columns={1: '‫‪Vendor_name', 2: 'model', 3: 'MCYT', 4: 'MMIN', 5: 'MMAX', \n",
        "                                            6: 'CACH', 7: 'CHMIN', 8: 'CHMAX', 9: 'PRP', 10: 'ERP'})"
      ],
      "metadata": {
        "id": "8uvaL77znm-Q"
      },
      "execution_count": 4,
      "outputs": []
    },
    {
      "cell_type": "markdown",
      "source": [
        "# <div dir=\"rtl\">قسمت a:</div>\n",
        "\n",
        "<div dir=\"rtl\">\n",
        "\n",
        "در این قسمت ستون CACH را با استفاده از روش cut تقسیم بندی میکنیم.\n",
        "\n",
        "برای اینکار از تابع cut از کتابخانه pandas استفاده میکنیم. به تابع آرگومان سه و نام ستونها را می‌دهیم تا داده ها را تقسیم بندی کند.\n",
        "\n",
        "این تابع بصورت فاصله مساوی داده ها را به گروه های مختلف تقسیم میکند برای همین نمیتوان انتظار توزیع یکنواخت داده ها بین گروه ها را داشت.\n",
        "\n",
        "در شکل زیر هیستوگرام داده هایی که با این روش تقسیم بندی شده اند را نشان داده ایم.\n",
        "\n",
        "<div>"
      ],
      "metadata": {
        "id": "TGd-Vy7fAnu0"
      }
    },
    {
      "cell_type": "code",
      "source": [
        "category = pd.cut(machine_data.CACH,bins=3,labels=['C','B', 'A'])\n",
        "machine_data.insert(machine_data.shape[1]-4,'CACH_cut',category)"
      ],
      "metadata": {
        "id": "2CPbCNe8nm5v"
      },
      "execution_count": 5,
      "outputs": []
    },
    {
      "cell_type": "code",
      "source": [
        "sns.histplot(data=machine_data['CACH_cut'], color='yellow')\n",
        "plt.title('Binning - cut', fontsize=18)\n",
        "plt.show()"
      ],
      "metadata": {
        "colab": {
          "base_uri": "https://localhost:8080/",
          "height": 300
        },
        "id": "GCqC95w-tr3q",
        "outputId": "a37a7fa2-3a4a-4d9d-a1e5-4bb3b4f67fed"
      },
      "execution_count": 6,
      "outputs": [
        {
          "output_type": "display_data",
          "data": {
            "image/png": "[encoded data removed]",
            "text/plain": [
              "<Figure size 432x288 with 1 Axes>"
            ]
          },
          "metadata": {
            "needs_background": "light"
          }
        }
      ]
    },
    {
      "cell_type": "markdown",
      "source": [
        "# <div dir=\"rtl\">قسمت b:</div>\n",
        "\n",
        "<div dir=\"rtl\">\n",
        "\n",
        "در این قسمت ستون CACH را با استفاده از روش qcut تقسیم بندی میکنیم.\n",
        "\n",
        "برای اینکار از تابع qcut از کتابخانه pandas استفاده میکنیم. به تابع آرگومان سه و نام ستونها را می‌دهیم تا داده ها را تقسیم بندی کند.\n",
        "\n",
        "در این روش داده ها و فاصله بین ها را به گونه ای مشخص میکند تا در حد امکان بینهایی که ایجاد میشود تعداد یکسانی داده در بر داشته باشند. البته اگر بعد از این داده ای به ستون اضافه شود تضمین نمیشود که این توزیع یکنواخت همچنان حذف شود.\n",
        "\n",
        "در شکل زیر هیستوگرام داده هایی که با این روش تقسیم بندی شده اند را نشان داده ایم و مشخص است که داده ها توزیع یکنواختی در بینها دارند.\n",
        "\n",
        "<div>"
      ],
      "metadata": {
        "id": "_7IaWoEcBZup"
      }
    },
    {
      "cell_type": "code",
      "source": [
        "machine_data.insert(machine_data.shape[1]-4,'CACH_qcut',pd.qcut(machine_data['CACH'],3,labels=[\"A\", \"B\", \"C\"]))"
      ],
      "metadata": {
        "id": "EikXjtTNr5di"
      },
      "execution_count": 7,
      "outputs": []
    },
    {
      "cell_type": "code",
      "source": [
        "sns.histplot(data=machine_data['CACH_qcut'], color='skyblue')\n",
        "plt.title('Binning - qcut', fontsize=18)\n",
        "plt.show()"
      ],
      "metadata": {
        "colab": {
          "base_uri": "https://localhost:8080/",
          "height": 300
        },
        "id": "hidafpnQzaJf",
        "outputId": "b091bbcd-ed30-49f8-f605-cf0def8f2a46"
      },
      "execution_count": 8,
      "outputs": [
        {
          "output_type": "display_data",
          "data": {
            "image/png": "[encoded data removed]",
            "text/plain": [
              "<Figure size 432x288 with 1 Axes>"
            ]
          },
          "metadata": {
            "needs_background": "light"
          }
        }
      ]
    },
    {
      "cell_type": "markdown",
      "source": [
        "# <div dir=\"rtl\">قسمت c:</div>\n",
        "\n",
        "<div dir=\"rtl\">\n",
        "\n",
        "در این قسمت ستون CACH را با استفاده از روش jenks_breaks تقسیم بندی میکنیم.\n",
        "\n",
        "برای اینکار از تابع jenks_breaks از کتابخانه jenkspy استفاده میکنیم. به تابع تعداد گروه ها و داده ها را می‌دهیم تا مناسبترین محلها برای شکست را پیدا کند.\n",
        "\n",
        "در این روش گروه ها به گونه ای ساخته میشوند که اعضای یک گروه به یکدیگر در نزدیکترین حالت را داشته باشند یعنی اعضای یک گروه واریانس کمینه داشته باشند.\n",
        "\n",
        "در شکل زیر هیستوگرام داده هایی که با این روش تقسیم بندی شده اند را نشان داده ایم.\n",
        "\n",
        "<div>"
      ],
      "metadata": {
        "id": "Poiy9ygfCA7Q"
      }
    },
    {
      "cell_type": "code",
      "source": [
        "natural_breaks = jenkspy.jenks_breaks(machine_data['CACH'], nb_class=3)\n",
        "category_jenks = pd.cut(machine_data.CACH, bins=natural_breaks, labels=['C','B', 'A'])\n",
        "machine_data.insert(machine_data.shape[1]-4, 'CACH_jenks', category_jenks)"
      ],
      "metadata": {
        "id": "Smzt2DOfyWQ6"
      },
      "execution_count": 9,
      "outputs": []
    },
    {
      "cell_type": "code",
      "source": [
        "sns.histplot(data=machine_data['CACH_jenks'], color='violet')\n",
        "plt.title('Binning - qcut', fontsize=18)\n",
        "plt.show()"
      ],
      "metadata": {
        "colab": {
          "base_uri": "https://localhost:8080/",
          "height": 300
        },
        "id": "K1cIH_dH0wE2",
        "outputId": "c8792335-2f57-4151-e470-d3577701e1dd"
      },
      "execution_count": 10,
      "outputs": [
        {
          "output_type": "display_data",
          "data": {
            "image/png": "[encoded data removed]",
            "text/plain": [
              "<Figure size 432x288 with 1 Axes>"
            ]
          },
          "metadata": {
            "needs_background": "light"
          }
        }
      ]
    },
    {
      "cell_type": "code",
      "source": [
        ""
      ],
      "metadata": {
        "id": "GqIm3Y2600rA"
      },
      "execution_count": 10,
      "outputs": []
    }
  ]
}