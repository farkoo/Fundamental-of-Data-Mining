{
  "nbformat": 4,
  "nbformat_minor": 0,
  "metadata": {
    "colab": {
      "name": "HW1-FDM-Q4.ipynb",
      "provenance": [],
      "collapsed_sections": []
    },
    "kernelspec": {
      "name": "python3",
      "display_name": "Python 3"
    },
    "language_info": {
      "name": "python"
    }
  },
  "cells": [
    {
      "cell_type": "markdown",
      "source": [
        "# <div dir=\"rtl\">سوال چهارم:</div>"
      ],
      "metadata": {
        "id": "coRpVVos1e7X"
      }
    },
    {
      "cell_type": "markdown",
      "source": [
        "# <div dir=\"rtl\">قسمت a:</div>\n",
        "\n",
        "<div dir=\"rtl\">\n",
        "\n",
        "در این سوال خواسته شده است که تاثیر داده‌های imbalance را بررسی کنیم.\n",
        "\n",
        "فرض کنید با مسئله دسته بندی روبرو هستیم. در کلاس اول 80 داده و در کلاس دوم 20 داده داریم یعنی نسبت کلاس‌ها بصورت 4:1 است. در این زمان میگوییم هنگام آموزش مدل بصورت بایاس شده عمل میکند و در زمان مواجه شدن با داده هایی که قبلا ندیده است بصورت مناسبی رفتار نخواهد کرد. \n",
        "\n",
        "فرض کنید مدل بسیار ساده باشد و همه ی داده ها را به کلاس اول نسبت دهد. در این صورت در زمان آموزش به صحت 80 درصد میرسیم. برای دیگر مدلهایی که روی این داده ها آموزش میبینند نیز شرایطی مشابه پیش می‌آید و مدل آموزش دیده شده هنگام کار روی داده‌های تست عملکرد خوبی نخواهد داشت.\n",
        "\n",
        "<div>"
      ],
      "metadata": {
        "id": "FLQ7pOwd1sA6"
      }
    },
    {
      "cell_type": "code",
      "execution_count": 1,
      "metadata": {
        "colab": {
          "base_uri": "https://localhost:8080/"
        },
        "id": "PfqDvxWDCIKU",
        "outputId": "ee25d1c6-4c68-4638-aa79-739e39f12eca"
      },
      "outputs": [
        {
          "output_type": "stream",
          "name": "stdout",
          "text": [
            "/content/drive/MyDrive/FDM\n"
          ]
        }
      ],
      "source": [
        "%cd drive/MyDrive/FDM"
      ]
    },
    {
      "cell_type": "code",
      "source": [
        "import pandas as pd\n",
        "import matplotlib.pyplot as plt\n",
        "from sklearn.utils import resample,shuffle"
      ],
      "metadata": {
        "id": "0kMBD0ifCPn7"
      },
      "execution_count": 2,
      "outputs": []
    },
    {
      "cell_type": "code",
      "source": [
        "machine_data = pd.read_csv(\"machines.csv\", index_col=None, header=None).drop(0, axis=1)\n",
        "machine_data = machine_data.rename(columns={1: '‫‪Vendor_name', 2: 'model', 3: 'MCYT', 4: 'MMIN', 5: 'MMAX', \n",
        "                                            6: 'CACH', 7: 'CHMIN', 8: 'CHMAX', 9: 'PRP', 10: 'ERP'})"
      ],
      "metadata": {
        "id": "5TwfQgdTCQ8V"
      },
      "execution_count": 3,
      "outputs": []
    },
    {
      "cell_type": "markdown",
      "source": [
        "# <div dir=\"rtl\">قسمت b:</div>\n",
        "\n",
        "<div dir=\"rtl\">\n",
        "\n",
        "در این سوال خواسته شده است براساس مقدار ستون PRP داده ها را به دو دسته تقسیم کنیم.\n",
        "\n",
        "اگر مقدار این ستون از 300 کمتر مساوی باشد در گروه A قرار گیرد و در غیر این صورت به گروه B.\n",
        "\n",
        "این کار را در سلول زیر و با استفاده از تابع cut انجام داده ایم.\n",
        "\n",
        "<div>"
      ],
      "metadata": {
        "id": "W6knxP4m3Ayk"
      }
    },
    {
      "cell_type": "code",
      "source": [
        "category = pd.cut(machine_data.PRP,bins=[0,300, 1151],labels=['A','B'])\n",
        "machine_data.insert(machine_data.shape[1]-1,'labeled_PRP',category)"
      ],
      "metadata": {
        "id": "yyF8BPo2Ca5L"
      },
      "execution_count": 4,
      "outputs": []
    },
    {
      "cell_type": "markdown",
      "source": [
        "# <div dir=\"rtl\">قسمت c:</div>\n",
        "\n",
        "<div dir=\"rtl\">\n",
        "\n",
        "در این قسمت از ما خواسته شده مشخص کنیم ستون labeled_PRP بالانس است یا خیر.\n",
        "\n",
        "من با استفاده از نمودار pie توزیع داده های این ستون را نمایش داده ام.\n",
        "\n",
        "همانطور که قابل مشاهده است 17 درصد از داده ها متعلق به کلاس B هستند و 92 درصد از داده ها متعلق به کلاس A هستند یعنی نسبت بین این دو بیشتر از 4 به 1 است . شدیدا داده ها غیربالانس هستند.\n",
        "\n",
        "\n",
        "<div>"
      ],
      "metadata": {
        "id": "OV3abnaC3dDh"
      }
    },
    {
      "cell_type": "code",
      "source": [
        "def label_function(val):\n",
        "    return f'{val / 100 * len(machine_data):.0f}\\n{val:.0f}%'\n",
        "\n",
        "fig, (ax1) = plt.subplots(ncols=1, figsize=(10, 5))\n",
        "machine_data.groupby('labeled_PRP').size().plot(kind='pie',  autopct=label_function, textprops={'fontsize': 12},\n",
        "                                                colors=['salmon', 'skyblue'], ax=ax1)\n",
        "ax1.set_ylabel('labeled_PRP', size=15)\n",
        "\n",
        "plt.show()"
      ],
      "metadata": {
        "colab": {
          "base_uri": "https://localhost:8080/",
          "height": 303
        },
        "id": "q0sOdGwsCybr",
        "outputId": "642fc601-16bb-4f3a-f033-ac9afbc9181a"
      },
      "execution_count": 5,
      "outputs": [
        {
          "output_type": "display_data",
          "data": {
            "image/png": "[encoded data removed]",
            "text/plain": [
              "<Figure size 720x360 with 1 Axes>"
            ]
          },
          "metadata": {}
        }
      ]
    },
    {
      "cell_type": "markdown",
      "source": [
        "# <div dir=\"rtl\">قسمت d:</div>\n",
        "\n",
        "<div dir=\"rtl\">\n",
        "در قسمت قبل نشان دادیم که داده ها غیر بالانس هستند الان به دنبال روشی هستیم که بتوانیم داده ها را بالانس کنیم.\n",
        "\n",
        "از آنجایی که تعداد دادههای متعلق به گروه B برابر با 17 و بسیار کمتر از گروه دیگر است میخواهیم از تکنیک upSampling استفاده کنیم و داده ها را بالانس کنیم.\n",
        "\n",
        "بدین منظور داده های دو گروه را از هم جدا میکنیم.\n",
        "\n",
        "با داده های متعلق به گروه A کاری نداریم و قصد upSampling داده های گروه B را داریم.\n",
        "\n",
        "داده های این گروه را به تابع resample از کتابخانه sklearn میدهیم و میگوییم با تکرار تصادفی این 17 سطر 192 سطر برای ما بسازد در حرالی که بعضی از سطرها چند بار تکرار میشوند.\n",
        "\n",
        "نهایتا با اتصال داده های دو گروه به یک دیگر یک دیتاست بالانس نسبت به ویژگی PRP داریم.\n",
        "\n",
        "در شکل زیر با استفاده از نمودار pie توزیع داده ها را نمایش داده ام و همانطور که مشخص است هر کلاس 50 درصد از داده ها را ساخته است.\n",
        "\n",
        "<div>"
      ],
      "metadata": {
        "id": "nqavNbzz4BcK"
      }
    },
    {
      "cell_type": "code",
      "source": [
        "df_A = machine_data[machine_data['labeled_PRP'] == 'A']\n",
        "df_B = machine_data[machine_data['labeled_PRP'] == 'B']\n",
        "df_A.shape, df_B.shape"
      ],
      "metadata": {
        "colab": {
          "base_uri": "https://localhost:8080/"
        },
        "id": "MR0etw0uDAaz",
        "outputId": "e27bd007-6c37-4d76-effa-c3fba905346b"
      },
      "execution_count": 6,
      "outputs": [
        {
          "output_type": "execute_result",
          "data": {
            "text/plain": [
              "((192, 11), (17, 11))"
            ]
          },
          "metadata": {},
          "execution_count": 6
        }
      ]
    },
    {
      "cell_type": "code",
      "source": [
        "df_B_upsampled = resample(df_B,random_state=42,n_samples=192,replace=True)\n",
        "df_B_upsampled.shape"
      ],
      "metadata": {
        "colab": {
          "base_uri": "https://localhost:8080/"
        },
        "id": "0NJNNkGZLcY9",
        "outputId": "3ffd3c1e-a0e8-4306-e280-31ca93bd7dd5"
      },
      "execution_count": 7,
      "outputs": [
        {
          "output_type": "execute_result",
          "data": {
            "text/plain": [
              "(192, 11)"
            ]
          },
          "metadata": {},
          "execution_count": 7
        }
      ]
    },
    {
      "cell_type": "code",
      "source": [
        "df_upSampled = pd.concat([df_A, df_B_upsampled])"
      ],
      "metadata": {
        "id": "y3AQEW1NLwPZ"
      },
      "execution_count": 8,
      "outputs": []
    },
    {
      "cell_type": "code",
      "source": [
        "fig, (ax1) = plt.subplots(ncols=1, figsize=(10, 5))\n",
        "df_upSampled.groupby('labeled_PRP').size().plot(kind='pie',  autopct=label_function, textprops={'fontsize': 12},\n",
        "                                                colors=['salmon', 'skyblue'], ax=ax1)\n",
        "ax1.set_ylabel('labeled_PRP', size=15)\n",
        "\n",
        "plt.show()"
      ],
      "metadata": {
        "colab": {
          "base_uri": "https://localhost:8080/",
          "height": 303
        },
        "id": "JyR5vpkFNWiA",
        "outputId": "63ccb1e3-7cff-4f55-c207-0f34d2a9fd31"
      },
      "execution_count": 9,
      "outputs": [
        {
          "output_type": "display_data",
          "data": {
            "image/png": "[encoded data removed]",
            "text/plain": [
              "<Figure size 720x360 with 1 Axes>"
            ]
          },
          "metadata": {}
        }
      ]
    },
    {
      "cell_type": "markdown",
      "source": [
        "# <div dir=\"rtl\">قسمت d:</div>\n",
        "\n",
        "<div dir=\"rtl\">\n",
        "\n",
        "اگر چه داده ها در این قسمت بالانس هستند اما برای استفاده از تکنیک downSampling این قسمت را انجام می‌دهیم.\n",
        "\n",
        "\n",
        "ابتدا با استفاده از resample تعداد داده های گروه B را به 240 افزایش میدهیم در حالیکه تعداد داده های گره A همچنان 192 تا است. اکنون داده ها بصورت غیر بالانس درآمده اند.\n",
        "\n",
        "در نمودار pie زیر توزیع داده های دو کلاس نمایش داده شده است که بصورت 44 درصد و 56 درصد می باشد.\n",
        "\n",
        "سپس با استفاده از تابع sample از کتابخانه pandas 192 سطر از 240 سطر را بصورت تصادفی نمونه میگیریم تا از هر دو دسته به یک اندازه داده داشته باشیم.\n",
        "\n",
        "نهایتا دو دسته هم اندازه را به هم متصل میکنیم.\n",
        "\n",
        "در آخرین قدم توزیع یکنواخت کلاسها را با استفاده از تابع  pie نمایش میدهیم.\n",
        "\n",
        "<div>"
      ],
      "metadata": {
        "id": "pWDK5vm15T4M"
      }
    },
    {
      "cell_type": "code",
      "source": [
        "df_B_upsampled2 = resample(df_B,random_state=42,n_samples=240,replace=True)\n",
        "df_B_upsampled2.shape"
      ],
      "metadata": {
        "colab": {
          "base_uri": "https://localhost:8080/"
        },
        "id": "mi5hE6VgNcqJ",
        "outputId": "cf13059d-6eb0-491c-f5b5-65b3e32b36e3"
      },
      "execution_count": 10,
      "outputs": [
        {
          "output_type": "execute_result",
          "data": {
            "text/plain": [
              "(240, 11)"
            ]
          },
          "metadata": {},
          "execution_count": 10
        }
      ]
    },
    {
      "cell_type": "code",
      "source": [
        "machine_data_upsampled2 = pd.concat([df_A, df_B_upsampled2])"
      ],
      "metadata": {
        "id": "J-wxRXTZNy1M"
      },
      "execution_count": 11,
      "outputs": []
    },
    {
      "cell_type": "code",
      "source": [
        "fig, (ax1) = plt.subplots(ncols=1, figsize=(10, 5))\n",
        "machine_data_upsampled2.groupby('labeled_PRP').size().plot(kind='pie',  autopct=label_function, textprops={'fontsize': 12},\n",
        "                                                colors=['salmon', 'skyblue'], ax=ax1)\n",
        "ax1.set_ylabel('labeled_PRP', size=15)\n",
        "\n",
        "plt.show()"
      ],
      "metadata": {
        "colab": {
          "base_uri": "https://localhost:8080/",
          "height": 303
        },
        "id": "bheMzM1JN1uX",
        "outputId": "eb0385a8-4496-483a-d3c4-f670b4444c35"
      },
      "execution_count": 12,
      "outputs": [
        {
          "output_type": "display_data",
          "data": {
            "image/png": "[encoded data removed]",
            "text/plain": [
              "<Figure size 720x360 with 1 Axes>"
            ]
          },
          "metadata": {}
        }
      ]
    },
    {
      "cell_type": "code",
      "source": [
        "df_B_upsampled2_downsamped = df_B_upsampled2.sample(n=192, replace=False, random_state=42)\n",
        "df_downSampled = pd.concat([df_A, df_B_upsampled2_downsamped])"
      ],
      "metadata": {
        "id": "QLG0PvUBNokZ"
      },
      "execution_count": 13,
      "outputs": []
    },
    {
      "cell_type": "code",
      "source": [
        "fig, (ax1) = plt.subplots(ncols=1, figsize=(10, 5))\n",
        "df_downSampled.groupby('labeled_PRP').size().plot(kind='pie',  autopct=label_function, textprops={'fontsize': 12},\n",
        "                                                colors=['salmon', 'skyblue'], ax=ax1)\n",
        "ax1.set_ylabel('labeled_PRP', size=15)\n",
        "\n",
        "plt.show()"
      ],
      "metadata": {
        "colab": {
          "base_uri": "https://localhost:8080/",
          "height": 303
        },
        "id": "byWB2ZtePr4v",
        "outputId": "8b77ecef-1434-4753-824c-b319f830da41"
      },
      "execution_count": 14,
      "outputs": [
        {
          "output_type": "display_data",
          "data": {
            "image/png": "[encoded data removed]",
            "text/plain": [
              "<Figure size 720x360 with 1 Axes>"
            ]
          },
          "metadata": {}
        }
      ]
    },
    {
      "cell_type": "code",
      "source": [
        ""
      ],
      "metadata": {
        "id": "geBZHbmxPucG"
      },
      "execution_count": 14,
      "outputs": []
    }
  ]
}