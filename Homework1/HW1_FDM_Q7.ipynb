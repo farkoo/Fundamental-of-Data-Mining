{
  "nbformat": 4,
  "nbformat_minor": 0,
  "metadata": {
    "colab": {
      "name": "HW1-FDM-Q7.ipynb",
      "provenance": [],
      "collapsed_sections": []
    },
    "kernelspec": {
      "name": "python3",
      "display_name": "Python 3"
    },
    "language_info": {
      "name": "python"
    }
  },
  "cells": [
    {
      "cell_type": "markdown",
      "source": [
        "# <div dir=\"rtl\">سوال هفتم:</div>\n"
      ],
      "metadata": {
        "id": "H3R4SOSZDulv"
      }
    },
    {
      "cell_type": "code",
      "execution_count": null,
      "metadata": {
        "colab": {
          "base_uri": "https://localhost:8080/"
        },
        "id": "1wr_vB7f1sTQ",
        "outputId": "c2ec0752-5ef0-443b-8654-d266be4504a8"
      },
      "outputs": [
        {
          "output_type": "stream",
          "name": "stdout",
          "text": [
            "[Errno 2] No such file or directory: 'drive/MyDrive/FDM'\n",
            "/content/drive/MyDrive/FDM\n"
          ]
        }
      ],
      "source": [
        "%cd drive/MyDrive/FDM"
      ]
    },
    {
      "cell_type": "code",
      "source": [
        "import pandas as pd\n",
        "import seaborn as sns\n",
        "import matplotlib.pyplot as plt\n",
        "import operator\n",
        "from collections import OrderedDict\n",
        "import numpy as np"
      ],
      "metadata": {
        "id": "ijsjxYuQ1z58"
      },
      "execution_count": null,
      "outputs": []
    },
    {
      "cell_type": "markdown",
      "source": [
        "# <div dir=\"rtl\">قسمت a:</div>\n",
        "\n",
        "<div dir=\"rtl\">\n",
        "\n",
        "در این قسمت خواسته شده داده ها را بررسی کنیم.\n",
        "\n",
        "ابتدا پنج سطر ابتدایی داده ها را نمایش میدهیم.\n",
        "\n",
        "سپس نام ستونها و نوع داده ای هر ستون را بررسی میکنیم.\n",
        "\n",
        "سپس با استفاده از تابع describe مقادیر تعداد اعضای هر ستون، میانگین هر ستون، ماکزیمم و مینیمم، انحراف معیار و اطلاعات صدکهای داده را نمایش میدهیم.\n",
        "\n",
        "<div>"
      ],
      "metadata": {
        "id": "8z5qGQuSD7hQ"
      }
    },
    {
      "cell_type": "code",
      "source": [
        "titanic_data = pd.read_csv(\"train.csv\")"
      ],
      "metadata": {
        "id": "-UxSyE0f1z3K"
      },
      "execution_count": null,
      "outputs": []
    },
    {
      "cell_type": "code",
      "source": [
        "titanic_data.head()"
      ],
      "metadata": {
        "colab": {
          "base_uri": "https://localhost:8080/",
          "height": 206
        },
        "id": "ty6wGpcOmExc",
        "outputId": "59b7453d-4805-4381-95b9-aaba41a2809f"
      },
      "execution_count": null,
      "outputs": [
        {
          "output_type": "execute_result",
          "data": {
            "text/html": [
              "\n",
              "  <div id=\"df-fde9edfd-0824-4b44-ba00-d1d3af0be9b6\">\n",
              "    <div class=\"colab-df-container\">\n",
              "      <div>\n",
              "<style scoped>\n",
              "    .dataframe tbody tr th:only-of-type {\n",
              "        vertical-align: middle;\n",
              "    }\n",
              "\n",
              "    .dataframe tbody tr th {\n",
              "        vertical-align: top;\n",
              "    }\n",
              "\n",
              "    .dataframe thead th {\n",
              "        text-align: right;\n",
              "    }\n",
              "</style>\n",
              "<table border=\"1\" class=\"dataframe\">\n",
              "  <thead>\n",
              "    <tr style=\"text-align: right;\">\n",
              "      <th></th>\n",
              "      <th>PassengerId</th>\n",
              "      <th>Survived</th>\n",
              "      <th>Pclass</th>\n",
              "      <th>Name</th>\n",
              "      <th>Sex</th>\n",
              "      <th>Age</th>\n",
              "      <th>SibSp</th>\n",
              "      <th>Parch</th>\n",
              "      <th>Ticket</th>\n",
              "      <th>Fare</th>\n",
              "      <th>Cabin</th>\n",
              "      <th>Embarked</th>\n",
              "    </tr>\n",
              "  </thead>\n",
              "  <tbody>\n",
              "    <tr>\n",
              "      <th>0</th>\n",
              "      <td>1</td>\n",
              "      <td>0</td>\n",
              "      <td>3</td>\n",
              "      <td>Braund, Mr. Owen Harris</td>\n",
              "      <td>male</td>\n",
              "      <td>22.0</td>\n",
              "      <td>1</td>\n",
              "      <td>0</td>\n",
              "      <td>A/5 21171</td>\n",
              "      <td>7.2500</td>\n",
              "      <td>NaN</td>\n",
              "      <td>S</td>\n",
              "    </tr>\n",
              "    <tr>\n",
              "      <th>1</th>\n",
              "      <td>2</td>\n",
              "      <td>1</td>\n",
              "      <td>1</td>\n",
              "      <td>Cumings, Mrs. John Bradley (Florence Briggs Th...</td>\n",
              "      <td>female</td>\n",
              "      <td>38.0</td>\n",
              "      <td>1</td>\n",
              "      <td>0</td>\n",
              "      <td>PC 17599</td>\n",
              "      <td>71.2833</td>\n",
              "      <td>C85</td>\n",
              "      <td>C</td>\n",
              "    </tr>\n",
              "    <tr>\n",
              "      <th>2</th>\n",
              "      <td>3</td>\n",
              "      <td>1</td>\n",
              "      <td>3</td>\n",
              "      <td>Heikkinen, Miss. Laina</td>\n",
              "      <td>female</td>\n",
              "      <td>26.0</td>\n",
              "      <td>0</td>\n",
              "      <td>0</td>\n",
              "      <td>STON/O2. 3101282</td>\n",
              "      <td>7.9250</td>\n",
              "      <td>NaN</td>\n",
              "      <td>S</td>\n",
              "    </tr>\n",
              "    <tr>\n",
              "      <th>3</th>\n",
              "      <td>4</td>\n",
              "      <td>1</td>\n",
              "      <td>1</td>\n",
              "      <td>Futrelle, Mrs. Jacques Heath (Lily May Peel)</td>\n",
              "      <td>female</td>\n",
              "      <td>35.0</td>\n",
              "      <td>1</td>\n",
              "      <td>0</td>\n",
              "      <td>113803</td>\n",
              "      <td>53.1000</td>\n",
              "      <td>C123</td>\n",
              "      <td>S</td>\n",
              "    </tr>\n",
              "    <tr>\n",
              "      <th>4</th>\n",
              "      <td>5</td>\n",
              "      <td>0</td>\n",
              "      <td>3</td>\n",
              "      <td>Allen, Mr. William Henry</td>\n",
              "      <td>male</td>\n",
              "      <td>35.0</td>\n",
              "      <td>0</td>\n",
              "      <td>0</td>\n",
              "      <td>373450</td>\n",
              "      <td>8.0500</td>\n",
              "      <td>NaN</td>\n",
              "      <td>S</td>\n",
              "    </tr>\n",
              "  </tbody>\n",
              "</table>\n",
              "</div>\n",
              "      <button class=\"colab-df-convert\" onclick=\"convertToInteractive('df-fde9edfd-0824-4b44-ba00-d1d3af0be9b6')\"\n",
              "              title=\"Convert this dataframe to an interactive table.\"\n",
              "              style=\"display:none;\">\n",
              "        \n",
              "  <svg xmlns=\"http://www.w3.org/2000/svg\" height=\"24px\"viewBox=\"0 0 24 24\"\n",
              "       width=\"24px\">\n",
              "    <path d=\"M0 0h24v24H0V0z\" fill=\"none\"/>\n",
              "    <path d=\"M18.56 5.44l.94 2.06.94-2.06 2.06-.94-2.06-.94-.94-2.06-.94 2.06-2.06.94zm-11 1L8.5 8.5l.94-2.06 2.06-.94-2.06-.94L8.5 2.5l-.94 2.06-2.06.94zm10 10l.94 2.06.94-2.06 2.06-.94-2.06-.94-.94-2.06-.94 2.06-2.06.94z\"/><path d=\"M17.41 7.96l-1.37-1.37c-.4-.4-.92-.59-1.43-.59-.52 0-1.04.2-1.43.59L10.3 9.45l-7.72 7.72c-.78.78-.78 2.05 0 2.83L4 21.41c.39.39.9.59 1.41.59.51 0 1.02-.2 1.41-.59l7.78-7.78 2.81-2.81c.8-.78.8-2.07 0-2.86zM5.41 20L4 18.59l7.72-7.72 1.47 1.35L5.41 20z\"/>\n",
              "  </svg>\n",
              "      </button>\n",
              "      \n",
              "  <style>\n",
              "    .colab-df-container {\n",
              "      display:flex;\n",
              "      flex-wrap:wrap;\n",
              "      gap: 12px;\n",
              "    }\n",
              "\n",
              "    .colab-df-convert {\n",
              "      background-color: #E8F0FE;\n",
              "      border: none;\n",
              "      border-radius: 50%;\n",
              "      cursor: pointer;\n",
              "      display: none;\n",
              "      fill: #1967D2;\n",
              "      height: 32px;\n",
              "      padding: 0 0 0 0;\n",
              "      width: 32px;\n",
              "    }\n",
              "\n",
              "    .colab-df-convert:hover {\n",
              "      background-color: #E2EBFA;\n",
              "      box-shadow: 0px 1px 2px rgba(60, 64, 67, 0.3), 0px 1px 3px 1px rgba(60, 64, 67, 0.15);\n",
              "      fill: #174EA6;\n",
              "    }\n",
              "\n",
              "    [theme=dark] .colab-df-convert {\n",
              "      background-color: #3B4455;\n",
              "      fill: #D2E3FC;\n",
              "    }\n",
              "\n",
              "    [theme=dark] .colab-df-convert:hover {\n",
              "      background-color: #434B5C;\n",
              "      box-shadow: 0px 1px 3px 1px rgba(0, 0, 0, 0.15);\n",
              "      filter: drop-shadow(0px 1px 2px rgba(0, 0, 0, 0.3));\n",
              "      fill: #FFFFFF;\n",
              "    }\n",
              "  </style>\n",
              "\n",
              "      <script>\n",
              "        const buttonEl =\n",
              "          document.querySelector('#df-fde9edfd-0824-4b44-ba00-d1d3af0be9b6 button.colab-df-convert');\n",
              "        buttonEl.style.display =\n",
              "          google.colab.kernel.accessAllowed ? 'block' : 'none';\n",
              "\n",
              "        async function convertToInteractive(key) {\n",
              "          const element = document.querySelector('#df-fde9edfd-0824-4b44-ba00-d1d3af0be9b6');\n",
              "          const dataTable =\n",
              "            await google.colab.kernel.invokeFunction('convertToInteractive',\n",
              "                                                     [key], {});\n",
              "          if (!dataTable) return;\n",
              "\n",
              "          const docLinkHtml = 'Like what you see? Visit the ' +\n",
              "            '<a target=\"_blank\" href=https://colab.research.google.com/notebooks/data_table.ipynb>data table notebook</a>'\n",
              "            + ' to learn more about interactive tables.';\n",
              "          element.innerHTML = '';\n",
              "          dataTable['output_type'] = 'display_data';\n",
              "          await google.colab.output.renderOutput(dataTable, element);\n",
              "          const docLink = document.createElement('div');\n",
              "          docLink.innerHTML = docLinkHtml;\n",
              "          element.appendChild(docLink);\n",
              "        }\n",
              "      </script>\n",
              "    </div>\n",
              "  </div>\n",
              "  "
            ],
            "text/plain": [
              "   PassengerId  Survived  Pclass  ...     Fare Cabin  Embarked\n",
              "0            1         0       3  ...   7.2500   NaN         S\n",
              "1            2         1       1  ...  71.2833   C85         C\n",
              "2            3         1       3  ...   7.9250   NaN         S\n",
              "3            4         1       1  ...  53.1000  C123         S\n",
              "4            5         0       3  ...   8.0500   NaN         S\n",
              "\n",
              "[5 rows x 12 columns]"
            ]
          },
          "metadata": {},
          "execution_count": 222
        }
      ]
    },
    {
      "cell_type": "code",
      "source": [
        "titanic_data.info()"
      ],
      "metadata": {
        "colab": {
          "base_uri": "https://localhost:8080/"
        },
        "id": "rUmlQZpumI1K",
        "outputId": "ceba654f-45e6-41c3-8cb4-7ea5b72ad722"
      },
      "execution_count": null,
      "outputs": [
        {
          "output_type": "stream",
          "name": "stdout",
          "text": [
            "<class 'pandas.core.frame.DataFrame'>\n",
            "RangeIndex: 891 entries, 0 to 890\n",
            "Data columns (total 12 columns):\n",
            " #   Column       Non-Null Count  Dtype  \n",
            "---  ------       --------------  -----  \n",
            " 0   PassengerId  891 non-null    int64  \n",
            " 1   Survived     891 non-null    int64  \n",
            " 2   Pclass       891 non-null    int64  \n",
            " 3   Name         891 non-null    object \n",
            " 4   Sex          891 non-null    object \n",
            " 5   Age          714 non-null    float64\n",
            " 6   SibSp        891 non-null    int64  \n",
            " 7   Parch        891 non-null    int64  \n",
            " 8   Ticket       891 non-null    object \n",
            " 9   Fare         891 non-null    float64\n",
            " 10  Cabin        204 non-null    object \n",
            " 11  Embarked     889 non-null    object \n",
            "dtypes: float64(2), int64(5), object(5)\n",
            "memory usage: 83.7+ KB\n"
          ]
        }
      ]
    },
    {
      "cell_type": "code",
      "source": [
        "titanic_data.describe()"
      ],
      "metadata": {
        "colab": {
          "base_uri": "https://localhost:8080/",
          "height": 300
        },
        "id": "ZEDHiBFA1z1S",
        "outputId": "cc3afa94-aaee-4aed-ddb6-f9754f2b45a2"
      },
      "execution_count": null,
      "outputs": [
        {
          "output_type": "execute_result",
          "data": {
            "text/html": [
              "\n",
              "  <div id=\"df-713128ee-f440-407f-82b8-b0c1dc2ff356\">\n",
              "    <div class=\"colab-df-container\">\n",
              "      <div>\n",
              "<style scoped>\n",
              "    .dataframe tbody tr th:only-of-type {\n",
              "        vertical-align: middle;\n",
              "    }\n",
              "\n",
              "    .dataframe tbody tr th {\n",
              "        vertical-align: top;\n",
              "    }\n",
              "\n",
              "    .dataframe thead th {\n",
              "        text-align: right;\n",
              "    }\n",
              "</style>\n",
              "<table border=\"1\" class=\"dataframe\">\n",
              "  <thead>\n",
              "    <tr style=\"text-align: right;\">\n",
              "      <th></th>\n",
              "      <th>PassengerId</th>\n",
              "      <th>Survived</th>\n",
              "      <th>Pclass</th>\n",
              "      <th>Age</th>\n",
              "      <th>SibSp</th>\n",
              "      <th>Parch</th>\n",
              "      <th>Fare</th>\n",
              "    </tr>\n",
              "  </thead>\n",
              "  <tbody>\n",
              "    <tr>\n",
              "      <th>count</th>\n",
              "      <td>891.000000</td>\n",
              "      <td>891.000000</td>\n",
              "      <td>891.000000</td>\n",
              "      <td>714.000000</td>\n",
              "      <td>891.000000</td>\n",
              "      <td>891.000000</td>\n",
              "      <td>891.000000</td>\n",
              "    </tr>\n",
              "    <tr>\n",
              "      <th>mean</th>\n",
              "      <td>446.000000</td>\n",
              "      <td>0.383838</td>\n",
              "      <td>2.308642</td>\n",
              "      <td>29.699118</td>\n",
              "      <td>0.523008</td>\n",
              "      <td>0.381594</td>\n",
              "      <td>32.204208</td>\n",
              "    </tr>\n",
              "    <tr>\n",
              "      <th>std</th>\n",
              "      <td>257.353842</td>\n",
              "      <td>0.486592</td>\n",
              "      <td>0.836071</td>\n",
              "      <td>14.526497</td>\n",
              "      <td>1.102743</td>\n",
              "      <td>0.806057</td>\n",
              "      <td>49.693429</td>\n",
              "    </tr>\n",
              "    <tr>\n",
              "      <th>min</th>\n",
              "      <td>1.000000</td>\n",
              "      <td>0.000000</td>\n",
              "      <td>1.000000</td>\n",
              "      <td>0.420000</td>\n",
              "      <td>0.000000</td>\n",
              "      <td>0.000000</td>\n",
              "      <td>0.000000</td>\n",
              "    </tr>\n",
              "    <tr>\n",
              "      <th>25%</th>\n",
              "      <td>223.500000</td>\n",
              "      <td>0.000000</td>\n",
              "      <td>2.000000</td>\n",
              "      <td>20.125000</td>\n",
              "      <td>0.000000</td>\n",
              "      <td>0.000000</td>\n",
              "      <td>7.910400</td>\n",
              "    </tr>\n",
              "    <tr>\n",
              "      <th>50%</th>\n",
              "      <td>446.000000</td>\n",
              "      <td>0.000000</td>\n",
              "      <td>3.000000</td>\n",
              "      <td>28.000000</td>\n",
              "      <td>0.000000</td>\n",
              "      <td>0.000000</td>\n",
              "      <td>14.454200</td>\n",
              "    </tr>\n",
              "    <tr>\n",
              "      <th>75%</th>\n",
              "      <td>668.500000</td>\n",
              "      <td>1.000000</td>\n",
              "      <td>3.000000</td>\n",
              "      <td>38.000000</td>\n",
              "      <td>1.000000</td>\n",
              "      <td>0.000000</td>\n",
              "      <td>31.000000</td>\n",
              "    </tr>\n",
              "    <tr>\n",
              "      <th>max</th>\n",
              "      <td>891.000000</td>\n",
              "      <td>1.000000</td>\n",
              "      <td>3.000000</td>\n",
              "      <td>80.000000</td>\n",
              "      <td>8.000000</td>\n",
              "      <td>6.000000</td>\n",
              "      <td>512.329200</td>\n",
              "    </tr>\n",
              "  </tbody>\n",
              "</table>\n",
              "</div>\n",
              "      <button class=\"colab-df-convert\" onclick=\"convertToInteractive('df-713128ee-f440-407f-82b8-b0c1dc2ff356')\"\n",
              "              title=\"Convert this dataframe to an interactive table.\"\n",
              "              style=\"display:none;\">\n",
              "        \n",
              "  <svg xmlns=\"http://www.w3.org/2000/svg\" height=\"24px\"viewBox=\"0 0 24 24\"\n",
              "       width=\"24px\">\n",
              "    <path d=\"M0 0h24v24H0V0z\" fill=\"none\"/>\n",
              "    <path d=\"M18.56 5.44l.94 2.06.94-2.06 2.06-.94-2.06-.94-.94-2.06-.94 2.06-2.06.94zm-11 1L8.5 8.5l.94-2.06 2.06-.94-2.06-.94L8.5 2.5l-.94 2.06-2.06.94zm10 10l.94 2.06.94-2.06 2.06-.94-2.06-.94-.94-2.06-.94 2.06-2.06.94z\"/><path d=\"M17.41 7.96l-1.37-1.37c-.4-.4-.92-.59-1.43-.59-.52 0-1.04.2-1.43.59L10.3 9.45l-7.72 7.72c-.78.78-.78 2.05 0 2.83L4 21.41c.39.39.9.59 1.41.59.51 0 1.02-.2 1.41-.59l7.78-7.78 2.81-2.81c.8-.78.8-2.07 0-2.86zM5.41 20L4 18.59l7.72-7.72 1.47 1.35L5.41 20z\"/>\n",
              "  </svg>\n",
              "      </button>\n",
              "      \n",
              "  <style>\n",
              "    .colab-df-container {\n",
              "      display:flex;\n",
              "      flex-wrap:wrap;\n",
              "      gap: 12px;\n",
              "    }\n",
              "\n",
              "    .colab-df-convert {\n",
              "      background-color: #E8F0FE;\n",
              "      border: none;\n",
              "      border-radius: 50%;\n",
              "      cursor: pointer;\n",
              "      display: none;\n",
              "      fill: #1967D2;\n",
              "      height: 32px;\n",
              "      padding: 0 0 0 0;\n",
              "      width: 32px;\n",
              "    }\n",
              "\n",
              "    .colab-df-convert:hover {\n",
              "      background-color: #E2EBFA;\n",
              "      box-shadow: 0px 1px 2px rgba(60, 64, 67, 0.3), 0px 1px 3px 1px rgba(60, 64, 67, 0.15);\n",
              "      fill: #174EA6;\n",
              "    }\n",
              "\n",
              "    [theme=dark] .colab-df-convert {\n",
              "      background-color: #3B4455;\n",
              "      fill: #D2E3FC;\n",
              "    }\n",
              "\n",
              "    [theme=dark] .colab-df-convert:hover {\n",
              "      background-color: #434B5C;\n",
              "      box-shadow: 0px 1px 3px 1px rgba(0, 0, 0, 0.15);\n",
              "      filter: drop-shadow(0px 1px 2px rgba(0, 0, 0, 0.3));\n",
              "      fill: #FFFFFF;\n",
              "    }\n",
              "  </style>\n",
              "\n",
              "      <script>\n",
              "        const buttonEl =\n",
              "          document.querySelector('#df-713128ee-f440-407f-82b8-b0c1dc2ff356 button.colab-df-convert');\n",
              "        buttonEl.style.display =\n",
              "          google.colab.kernel.accessAllowed ? 'block' : 'none';\n",
              "\n",
              "        async function convertToInteractive(key) {\n",
              "          const element = document.querySelector('#df-713128ee-f440-407f-82b8-b0c1dc2ff356');\n",
              "          const dataTable =\n",
              "            await google.colab.kernel.invokeFunction('convertToInteractive',\n",
              "                                                     [key], {});\n",
              "          if (!dataTable) return;\n",
              "\n",
              "          const docLinkHtml = 'Like what you see? Visit the ' +\n",
              "            '<a target=\"_blank\" href=https://colab.research.google.com/notebooks/data_table.ipynb>data table notebook</a>'\n",
              "            + ' to learn more about interactive tables.';\n",
              "          element.innerHTML = '';\n",
              "          dataTable['output_type'] = 'display_data';\n",
              "          await google.colab.output.renderOutput(dataTable, element);\n",
              "          const docLink = document.createElement('div');\n",
              "          docLink.innerHTML = docLinkHtml;\n",
              "          element.appendChild(docLink);\n",
              "        }\n",
              "      </script>\n",
              "    </div>\n",
              "  </div>\n",
              "  "
            ],
            "text/plain": [
              "       PassengerId    Survived      Pclass  ...       SibSp       Parch        Fare\n",
              "count   891.000000  891.000000  891.000000  ...  891.000000  891.000000  891.000000\n",
              "mean    446.000000    0.383838    2.308642  ...    0.523008    0.381594   32.204208\n",
              "std     257.353842    0.486592    0.836071  ...    1.102743    0.806057   49.693429\n",
              "min       1.000000    0.000000    1.000000  ...    0.000000    0.000000    0.000000\n",
              "25%     223.500000    0.000000    2.000000  ...    0.000000    0.000000    7.910400\n",
              "50%     446.000000    0.000000    3.000000  ...    0.000000    0.000000   14.454200\n",
              "75%     668.500000    1.000000    3.000000  ...    1.000000    0.000000   31.000000\n",
              "max     891.000000    1.000000    3.000000  ...    8.000000    6.000000  512.329200\n",
              "\n",
              "[8 rows x 7 columns]"
            ]
          },
          "metadata": {},
          "execution_count": 224
        }
      ]
    },
    {
      "cell_type": "markdown",
      "source": [
        "# <div dir=\"rtl\">قسمت b:</div>\n",
        "\n",
        "<div dir=\"rtl\">\n",
        "\n",
        "در این قسمت از ما خواسته شده میانگین ستون ها را استخراج کرده و بصورت مرتب شده داخل یک شکل نمایش دهیم.\n",
        "\n",
        "ابتدا من میانگینها را استخراج کردم.\n",
        "\n",
        "سپس اطلاعات یعنی نام ستونها و مقدار میانگین آنها را در یک دیکشنری ریختم و براساس مقدار میانگینها دیکشنری را مرتب کردم.\n",
        "\n",
        "نهایتا در یک نمودار میله ای بصورت مرتب شده مقادیر میانگین را به همراه نام ستونها نمایش دادم.\n",
        "\n",
        "از آنجا که رنج داده ها بسیار متفاوت است سعی کردم با افزایش سایز نمودار همه ی مقادیر قابل مشاهده باشند همچنین مقادیر را کنار هر ستون نمودار نوشته ام تا بهتر قابل فهم باشد.\n",
        "\n",
        "<div>"
      ],
      "metadata": {
        "id": "eLbrySkjE2R-"
      }
    },
    {
      "cell_type": "code",
      "source": [
        "titanic_data.describe().loc['mean']"
      ],
      "metadata": {
        "colab": {
          "base_uri": "https://localhost:8080/"
        },
        "id": "BZ1pi3XL1zzm",
        "outputId": "759a2443-ce6d-48d9-b021-5ea9889af4dd"
      },
      "execution_count": null,
      "outputs": [
        {
          "output_type": "execute_result",
          "data": {
            "text/plain": [
              "PassengerId    446.000000\n",
              "Survived         0.383838\n",
              "Pclass           2.308642\n",
              "Age             29.699118\n",
              "SibSp            0.523008\n",
              "Parch            0.381594\n",
              "Fare            32.204208\n",
              "Name: mean, dtype: float64"
            ]
          },
          "metadata": {},
          "execution_count": 225
        }
      ]
    },
    {
      "cell_type": "code",
      "source": [
        "zipb = zip(titanic_data.describe().loc['mean'].index, \n",
        "           titanic_data.describe().loc['mean'].values)\n",
        "dictb = dict(zipb)\n",
        "sorted_tuples = sorted(dictb.items(), key=operator.itemgetter(1))\n",
        "sorted_dict = OrderedDict()\n",
        "for k, v in sorted_tuples:\n",
        "    sorted_dict[k] = v"
      ],
      "metadata": {
        "id": "AVUuzQnB8LHb"
      },
      "execution_count": null,
      "outputs": []
    },
    {
      "cell_type": "code",
      "source": [
        "x = list(sorted_dict.keys())\n",
        "y = list(sorted_dict.values())\n",
        "plt.figure(figsize=(20, 20))\n",
        "plt.barh(x, y, color='violet')\n",
        "for index, value in enumerate(y):\n",
        "    plt.text(value, index, str(value))\n",
        "plt.show()"
      ],
      "metadata": {
        "colab": {
          "base_uri": "https://localhost:8080/",
          "height": 1000
        },
        "id": "BZ2KFpo8jAgf",
        "outputId": "340e9cfc-fa44-4028-c7b7-4ac5d67e1534"
      },
      "execution_count": null,
      "outputs": [
        {
          "output_type": "display_data",
          "data": {
            "image/png": "[encoded data removed]",
            "text/plain": [
              "<Figure size 1440x1440 with 1 Axes>"
            ]
          },
          "metadata": {
            "needs_background": "light"
          }
        }
      ]
    },
    {
      "cell_type": "markdown",
      "source": [
        "# <div dir=\"rtl\">قسمت c:</div>\n",
        "\n",
        "<div dir=\"rtl\">\n",
        "\n",
        "در این قسمت ستونهای عددی داده ها را استخراج کردم و boxplot همه ی آنها را داخل یک شکل مشخص کرده ام.\n",
        "\n",
        "از آنجا که رنج داده ها بسیار متفاوت است با افزایش اندازه نمودار سعی کردم همه ی قسمت ها قابل مشاهده باشند.\n",
        "\n",
        "<div>"
      ],
      "metadata": {
        "id": "BQoo6BxLFotM"
      }
    },
    {
      "cell_type": "code",
      "source": [
        "numerics = ['int16', 'int32', 'int64', 'float16', 'float32', 'float64']\n",
        "numeric_titanic = titanic_data.select_dtypes(include=numerics)\n",
        "numeric_titanic.boxplot(figsize=(18, 18))"
      ],
      "metadata": {
        "colab": {
          "base_uri": "https://localhost:8080/",
          "height": 1000
        },
        "id": "C8EHY2NBfQ0F",
        "outputId": "3356dd3a-54cc-402e-bfaf-86cdc1a18350"
      },
      "execution_count": null,
      "outputs": [
        {
          "output_type": "stream",
          "name": "stderr",
          "text": [
            "/usr/local/lib/python3.7/dist-packages/matplotlib/cbook/__init__.py:1376: VisibleDeprecationWarning: Creating an ndarray from ragged nested sequences (which is a list-or-tuple of lists-or-tuples-or ndarrays with different lengths or shapes) is deprecated. If you meant to do this, you must specify 'dtype=object' when creating the ndarray.\n",
            "  X = np.atleast_1d(X.T if isinstance(X, np.ndarray) else np.asarray(X))\n"
          ]
        },
        {
          "output_type": "execute_result",
          "data": {
            "text/plain": [
              "<matplotlib.axes._subplots.AxesSubplot at 0x7f0f1c49bb50>"
            ]
          },
          "metadata": {},
          "execution_count": 228
        },
        {
          "output_type": "display_data",
          "data": {
            "image/png": "[encoded data removed]",
            "text/plain": [
              "<Figure size 1296x1296 with 1 Axes>"
            ]
          },
          "metadata": {
            "needs_background": "light"
          }
        }
      ]
    },
    {
      "cell_type": "markdown",
      "source": [
        "# <div dir=\"rtl\">قسمت d:</div>\n",
        "\n",
        "<div dir=\"rtl\">\n",
        "\n",
        "در این قسمت ابتدا همبستگی بین داده ها را محاسبه کردم.\n",
        "\n",
        "در مرحله بعدی با استفادع از تابع heatmap از کتابخانه seaborn این نمودار را برای همه ی ستون ها رسم کرده ام.\n",
        "\n",
        "بیشترین همبستگی بین ستونهای Fare و Pclass و برابر با 0.55 است.\n",
        "\n",
        "<div>"
      ],
      "metadata": {
        "id": "gvpGCzELF-4T"
      }
    },
    {
      "cell_type": "code",
      "source": [
        "corr_matrix = titanic_data.corr().abs()\n",
        "\n",
        "threshold = 0.001\n",
        "\n",
        "filtered_corr_df = corr_matrix[(corr_matrix >= threshold) & (corr_matrix != 1.000)] \n",
        "\n",
        "plt.figure(figsize=(10,8))\n",
        "sns.heatmap(filtered_corr_df, annot=True, cmap=\"Reds\")\n",
        "plt.show()"
      ],
      "metadata": {
        "colab": {
          "base_uri": "https://localhost:8080/",
          "height": 483
        },
        "id": "OLbVUkO6nEYn",
        "outputId": "afd64e99-d889-4643-e2b9-1dd957265ee2"
      },
      "execution_count": null,
      "outputs": [
        {
          "output_type": "display_data",
          "data": {
            "image/png": "[encoded data removed]",
            "text/plain": [
              "<Figure size 720x576 with 2 Axes>"
            ]
          },
          "metadata": {
            "needs_background": "light"
          }
        }
      ]
    },
    {
      "cell_type": "markdown",
      "source": [
        "# <div dir=\"rtl\">قسمت e:</div>\n",
        "\n",
        "<div dir=\"rtl\">\n",
        "در این قسمت مقادیر missing را با استفده از heatmap نمایش داده ام.\n",
        "\n",
        "بعد افقی نمایشدهنده نام ستونهاست.\n",
        "\n",
        "بعد عمودی نشاندهنده ی آیدی مسافرهاست.\n",
        "\n",
        "خطوطی که به رنگ صورتی مشخص شده اند بیانگر اطلاعات missing شده هستند.\n",
        "\n",
        "<div>"
      ],
      "metadata": {
        "id": "2k8BfuDAGaUb"
      }
    },
    {
      "cell_type": "code",
      "source": [
        "plt.figure(figsize=(12,8))\n",
        "\n",
        "sns.heatmap(titanic_data.isnull(),cbar=False)"
      ],
      "metadata": {
        "colab": {
          "base_uri": "https://localhost:8080/",
          "height": 505
        },
        "id": "JtHhxQvJnlnY",
        "outputId": "34630449-374f-4a3f-fc64-109717789da0"
      },
      "execution_count": null,
      "outputs": [
        {
          "output_type": "execute_result",
          "data": {
            "text/plain": [
              "<matplotlib.axes._subplots.AxesSubplot at 0x7f0f1c79aa10>"
            ]
          },
          "metadata": {},
          "execution_count": 230
        },
        {
          "output_type": "display_data",
          "data": {
            "image/png": "[encoded data removed]",
            "text/plain": [
              "<Figure size 864x576 with 1 Axes>"
            ]
          },
          "metadata": {
            "needs_background": "light"
          }
        }
      ]
    },
    {
      "cell_type": "markdown",
      "source": [
        "# <div dir=\"rtl\">قسمت d:</div>\n",
        "\n",
        "<div dir=\"rtl\">\n",
        "\n",
        "در این قسمت درصد داده های missing برای هر ستون نمایش داده شده است.\n",
        "\n",
        "همانطور که مشاهده میشود ستون Cabin بیشترین missing را دارد چیزی حدود 77 درصد.\n",
        "\n",
        "<div>"
      ],
      "metadata": {
        "id": "RudesOhzGxA-"
      }
    },
    {
      "cell_type": "code",
      "source": [
        "titanic_data.isnull().sum()/titanic_data.shape[0]"
      ],
      "metadata": {
        "colab": {
          "base_uri": "https://localhost:8080/"
        },
        "id": "95Cp-oSpo8Hb",
        "outputId": "7dcc1e6e-7fb3-4294-88cb-6fb5f983746d"
      },
      "execution_count": null,
      "outputs": [
        {
          "output_type": "execute_result",
          "data": {
            "text/plain": [
              "PassengerId    0.000000\n",
              "Survived       0.000000\n",
              "Pclass         0.000000\n",
              "Name           0.000000\n",
              "Sex            0.000000\n",
              "Age            0.198653\n",
              "SibSp          0.000000\n",
              "Parch          0.000000\n",
              "Ticket         0.000000\n",
              "Fare           0.000000\n",
              "Cabin          0.771044\n",
              "Embarked       0.002245\n",
              "dtype: float64"
            ]
          },
          "metadata": {},
          "execution_count": 231
        }
      ]
    },
    {
      "cell_type": "markdown",
      "source": [
        "# <div dir=\"rtl\">قسمت f:</div>\n",
        "\n",
        "<div dir=\"rtl\">\n",
        "\n",
        "در دیتاست دو ستون وجود دارد که مشخص میکند این فرد همراه با چه کسی داخل کشتی بوده است و چه تعدادی.\n",
        "\n",
        "بعنوان مثال SibSp نشاندهده تعداد خواهر یا برادر یا همسر و ... است\n",
        "\n",
        "و Parch نشاندهنده ی تعداد پدر و مادر و یا فرزاندان است.\n",
        "\n",
        "پس اگر جمع این دو ستون برای کسی برابر با صفر باشد یعنی این فرد به تنهایی در کشتی است و برای فیلد alone مقدار یک میگیرد در غیر این صورت مقدار این فیلد برابر با صفر است\n",
        ".\n",
        "<div>"
      ],
      "metadata": {
        "id": "_z6-4Yj2HFTO"
      }
    },
    {
      "cell_type": "code",
      "source": [
        "titanic_data[\"alone\"] = titanic_data[\"SibSp\"] + titanic_data[\"Parch\"] == 0"
      ],
      "metadata": {
        "id": "EIM5LPE3rGo0"
      },
      "execution_count": null,
      "outputs": []
    },
    {
      "cell_type": "code",
      "source": [
        "titanic_data"
      ],
      "metadata": {
        "id": "e_TopnRCHqdy"
      },
      "execution_count": null,
      "outputs": []
    },
    {
      "cell_type": "markdown",
      "source": [
        "# <div dir=\"rtl\">قسمت g:</div>\n",
        "\n",
        "<div dir=\"rtl\">\n",
        "\n",
        "در این قسمت هیستوگرام برای سن را نمایش میدهیم.\n",
        "\n",
        "بعد افق نشاندهنده محدوده ی سن می باشد.\n",
        "\n",
        "بعد عمودی نشاندهنده تعداد افراد در محدوده سنی مشخص شده است.\n",
        "\n",
        "با بررسی نمودار مشخص میشود که نمودار دارای کجی راست است و بیشترین افراد حاضر در کشتی حدود 25 تا 35 سال سن داشته اند.\n",
        "\n",
        "افراد مسن بسیار کم بوده اند و تعداد بچه ها بیشتر از تعداد افراد مسن است.\n",
        "\n",
        "<div>"
      ],
      "metadata": {
        "id": "gCimqB4yHscp"
      }
    },
    {
      "cell_type": "code",
      "source": [
        "titanic_data[\"Age\"].plot.hist(grid=True, bins=40, rwidth=0.9, color='#61ac8f')\n",
        "plt.xlabel('Age')\n",
        "plt.ylabel('Frequency')\n",
        "plt.grid(axis='y', alpha=0.75)"
      ],
      "metadata": {
        "colab": {
          "base_uri": "https://localhost:8080/",
          "height": 279
        },
        "id": "Hu77PZNet5VU",
        "outputId": "d4c18f11-8c1e-4edc-ed32-ad7500608720"
      },
      "execution_count": null,
      "outputs": [
        {
          "output_type": "display_data",
          "data": {
            "image/png": "[encoded data removed]",
            "text/plain": [
              "<Figure size 432x288 with 1 Axes>"
            ]
          },
          "metadata": {
            "needs_background": "light"
          }
        }
      ]
    },
    {
      "cell_type": "markdown",
      "source": [
        "# <div dir=\"rtl\">قسمت h:</div>\n",
        "\n",
        "<div dir=\"rtl\">\n",
        "\n",
        "در سلول زیر مقادیر missing سن را با استفاده از مقدار mode سن پر کرده ام.\n",
        "\n",
        "همچنین در نهایت اطمینان یافتم که مقادیر missing پر شده اند.\n",
        "\n",
        "<div>"
      ],
      "metadata": {
        "id": "f1-9ErhOIaVI"
      }
    },
    {
      "cell_type": "code",
      "source": [
        "titanic_data[\"Age\"] = titanic_data[\"Age\"].fillna(titanic_data[\"Age\"].mode()[0])\n",
        "titanic_data.isnull().sum()"
      ],
      "metadata": {
        "colab": {
          "base_uri": "https://localhost:8080/"
        },
        "id": "sfcb6csoua7V",
        "outputId": "13710be4-d207-4f60-fb74-ef12f2526110"
      },
      "execution_count": null,
      "outputs": [
        {
          "output_type": "execute_result",
          "data": {
            "text/plain": [
              "PassengerId      0\n",
              "Survived         0\n",
              "Pclass           0\n",
              "Name             0\n",
              "Sex              0\n",
              "Age              0\n",
              "SibSp            0\n",
              "Parch            0\n",
              "Ticket           0\n",
              "Fare             0\n",
              "Cabin          687\n",
              "Embarked         2\n",
              "alone            0\n",
              "dtype: int64"
            ]
          },
          "metadata": {},
          "execution_count": 234
        }
      ]
    },
    {
      "cell_type": "markdown",
      "source": [
        "# <div dir=\"rtl\">قسمت i:</div>\n",
        "\n",
        "<div dir=\"rtl\">\n",
        "\n",
        "همینطور که قبلا هم بررسی شد 77 درصد از ستون کابین بصورت missing است و روشهای معمول انتخاب منطقی ای برای پر کردن این مقادیر نیستند.\n",
        "\n",
        "به نظر من بهترین راه حذف این ستون می باشد.\n",
        "\n",
        "<div>"
      ],
      "metadata": {
        "id": "biIAE5hrIsBx"
      }
    },
    {
      "cell_type": "markdown",
      "source": [
        "# <div dir=\"rtl\">قسمت j:</div>\n",
        "\n",
        "<div dir=\"rtl\">\n",
        "\n",
        "در سلول زیر نموداری کاملا مشابه با آنچه در سوال خواسته شده بود رسم شده است.\n",
        "\n",
        "<div>"
      ],
      "metadata": {
        "id": "A_nlHQ2dI-8r"
      }
    },
    {
      "cell_type": "code",
      "source": [
        "sur = (((titanic_data['Survived'] == 1) & (titanic_data['Sex'] == 'male')).sum(),\n",
        "       ((titanic_data['Survived'] == 1) & (titanic_data['Sex'] == 'female')).sum())\n",
        "unsur = (((titanic_data['Survived'] == 0) & (titanic_data['Sex'] == 'male')).sum(),\n",
        "       ((titanic_data['Survived'] == 0) & (titanic_data['Sex'] == 'female')).sum())\n",
        "\n",
        "ind = [1, 1+0.35]\n",
        "width = 0.35\n",
        "\n",
        "fig = plt.figure()\n",
        "ax = fig.add_axes([0,0,1,1])\n",
        "ax.bar(ind, unsur, width,bottom=sur, align='center', linewidth=0.8, edgecolor='black', color='#1f77b4', label=0)\n",
        "ax.bar(ind, sur, width, align='center', linewidth=0.8, edgecolor='black', color='#ff7f0e', label=1)\n",
        "\n",
        "ax.set_ylabel('Count')\n",
        "ax.set_xlabel('Sex')\n",
        "plt.xticks(ind,('Male', 'Female'))\n",
        "ax.set_yticks(np.arange(0, 700, 100))\n",
        "ax.legend(title='Survived')\n",
        "plt.show()"
      ],
      "metadata": {
        "colab": {
          "base_uri": "https://localhost:8080/",
          "height": 351
        },
        "id": "NJIxUjO238Iw",
        "outputId": "9e10a120-06d3-49c3-fabc-4cc3fded3702"
      },
      "execution_count": null,
      "outputs": [
        {
          "output_type": "display_data",
          "data": {
            "image/png": "[encoded data removed]",
            "text/plain": [
              "<Figure size 432x288 with 1 Axes>"
            ]
          },
          "metadata": {
            "needs_background": "light"
          }
        }
      ]
    },
    {
      "cell_type": "markdown",
      "source": [
        "# <div dir=\"rtl\">قسمت k:</div>\n",
        "\n",
        "<div dir=\"rtl\">\n",
        "\n",
        "در این قسمت بررسی میشود اگر سن مسافر کمتر از 10 باشد ستون who برابر با child میشود و در غیر اینصورت با جنسیت فرد پر میشود.\n",
        "\n",
        "<div>"
      ],
      "metadata": {
        "id": "VUxHSyRoJNg8"
      }
    },
    {
      "cell_type": "code",
      "source": [
        "for index, row in titanic_data.iterrows():\n",
        "  if row[\"Age\"] < 10:\n",
        "    titanic_data.at[index, 'who'] = 'child'\n",
        "  else:\n",
        "    titanic_data.at[index, 'who'] = row[\"Sex\"]"
      ],
      "metadata": {
        "id": "rGiwsAXQH9Y-"
      },
      "execution_count": null,
      "outputs": []
    },
    {
      "cell_type": "markdown",
      "source": [
        "# <div dir=\"rtl\">قسمت l:</div>\n",
        "\n",
        "<div dir=\"rtl\">\n",
        "\n",
        "در این قسمت داده های کرایه با استفاده از تابع cut به چهار دسته تقسیم شده اند.\n",
        "\n",
        "در سلول بعدی نمودار هیستوگرام فراوانی ستون categorical کرایه رسم شده است.\n",
        "\n",
        "<div>"
      ],
      "metadata": {
        "id": "_E2b5ezIJgv1"
      }
    },
    {
      "cell_type": "code",
      "source": [
        "category = pd.cut(titanic_data.Fare,bins=4,labels=['Expensive','Medium expensive', 'Medium cheap', 'Cheap'])\n",
        "titanic_data.insert(titanic_data.shape[1],'fare_cat',category)"
      ],
      "metadata": {
        "id": "3CqgPI8oIhpK"
      },
      "execution_count": null,
      "outputs": []
    },
    {
      "cell_type": "code",
      "source": [
        "sns.set(rc = {'figure.figsize':(15,8)})\n",
        "sns.histplot(data=titanic_data['fare_cat'], color='yellow')\n",
        "plt.show()"
      ],
      "metadata": {
        "colab": {
          "base_uri": "https://localhost:8080/",
          "height": 502
        },
        "id": "fyWsecXKLVFc",
        "outputId": "c87c580f-8d85-4d85-8a78-e82bdb6f377d"
      },
      "execution_count": null,
      "outputs": [
        {
          "output_type": "display_data",
          "data": {
            "image/png": "[encoded data removed]",
            "text/plain": [
              "<Figure size 1080x576 with 1 Axes>"
            ]
          },
          "metadata": {}
        }
      ]
    },
    {
      "cell_type": "code",
      "source": [
        ""
      ],
      "metadata": {
        "id": "sreT6qvmLWX7"
      },
      "execution_count": null,
      "outputs": []
    }
  ]
}