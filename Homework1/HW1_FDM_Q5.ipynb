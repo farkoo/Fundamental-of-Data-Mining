{
  "nbformat": 4,
  "nbformat_minor": 0,
  "metadata": {
    "colab": {
      "name": "HW1-FDM-Q5.ipynb",
      "provenance": [],
      "collapsed_sections": []
    },
    "kernelspec": {
      "name": "python3",
      "display_name": "Python 3"
    },
    "language_info": {
      "name": "python"
    }
  },
  "cells": [
    {
      "cell_type": "markdown",
      "source": [
        "# <div dir=\"rtl\">سوال پنجم:</div>"
      ],
      "metadata": {
        "id": "0PcuFi2V7oc-"
      }
    },
    {
      "cell_type": "code",
      "execution_count": 1,
      "metadata": {
        "colab": {
          "base_uri": "https://localhost:8080/"
        },
        "id": "5y4pLKZbQkO0",
        "outputId": "72ef3c5c-7fc3-4f9f-91c3-9dd9b13954b2"
      },
      "outputs": [
        {
          "output_type": "stream",
          "name": "stdout",
          "text": [
            "/content/drive/MyDrive/FDM\n"
          ]
        }
      ],
      "source": [
        "%cd drive/MyDrive/FDM"
      ]
    },
    {
      "cell_type": "code",
      "source": [
        "import pandas as pd\n",
        "import seaborn as sns\n",
        "import matplotlib.pyplot as plt\n",
        "import scipy.stats as stats"
      ],
      "metadata": {
        "id": "kayWkeb9QoIu"
      },
      "execution_count": 2,
      "outputs": []
    },
    {
      "cell_type": "code",
      "source": [
        "machine_data = pd.read_csv(\"machines.csv\", index_col=None, header=None).drop(0, axis=1)\n",
        "machine_data = machine_data.rename(columns={1: '‫‪Vendor_name', 2: 'model', 3: 'MCYT', 4: 'MMIN', 5: 'MMAX', \n",
        "                                            6: 'CACH', 7: 'CHMIN', 8: 'CHMAX', 9: 'PRP', 10: 'ERP'})"
      ],
      "metadata": {
        "id": "QxOWAwbfQphX"
      },
      "execution_count": 3,
      "outputs": []
    },
    {
      "cell_type": "markdown",
      "source": [
        "# <div dir=\"rtl\">قسمت a:</div>\n",
        "\n",
        "<div dir=\"rtl\">\n",
        "\n",
        "در این قسمت خواسته شده وجود outlierها را با رسم boxplot مشخص کنیم.\n",
        "\n",
        "به ترتیب برای هشت ستون عددی داده boxplot ها را رسم کردم.\n",
        "\n",
        "مشاهده میشود خارج از بخش اصلی دادگان همواره نقاط سیاهی مشخص شده اند که نشاندهنده ی داده های پرت برای هر ویژگی هستند. در این نمودار ها مقدار و محل تجمع داده ها مشخص شده است.\n",
        "\n",
        "<div>"
      ],
      "metadata": {
        "id": "huDH03Sb7xTT"
      }
    },
    {
      "cell_type": "code",
      "source": [
        "sns.set_theme(style=\"whitegrid\")\n",
        "fig, axes = plt.subplots(2, 4, figsize=(25, 10), sharey=True)\n",
        "fig.suptitle('Outliers')\n",
        "\n",
        "sns.boxplot(ax=axes[0,0], x=machine_data[\"MCYT\"], color='salmon')\n",
        "sns.boxplot(ax=axes[0,1], x=machine_data[\"MMIN\"], color='gold')\n",
        "sns.boxplot(ax=axes[0,2], x=machine_data[\"MMAX\"], color='red')\n",
        "sns.boxplot(ax=axes[0,3], x=machine_data[\"CACH\"], color='skyblue')\n",
        "sns.boxplot(ax=axes[1,0], x=machine_data[\"CHMIN\"], color='lime')\n",
        "sns.boxplot(ax=axes[1,1], x=machine_data[\"CHMAX\"], color='violet')\n",
        "sns.boxplot(ax=axes[1,2], x=machine_data[\"PRP\"], color='tomato')\n",
        "sns.boxplot(ax=axes[1,3], x=machine_data[\"ERP\"], color='yellow')\n",
        "plt.show()"
      ],
      "metadata": {
        "colab": {
          "base_uri": "https://localhost:8080/",
          "height": 582
        },
        "id": "BfL-fe5HSWA3",
        "outputId": "8fe0f5c8-2d67-4ae0-ced5-b166c915ad3a"
      },
      "execution_count": 4,
      "outputs": [
        {
          "output_type": "display_data",
          "data": {
            "image/png": "[encoded data removed]",
            "text/plain": [
              "<Figure size 1800x720 with 8 Axes>"
            ]
          },
          "metadata": {}
        }
      ]
    },
    {
      "cell_type": "markdown",
      "source": [
        "# <div dir=\"rtl\">قسمت b:</div>\n",
        "\n",
        "<div dir=\"rtl\">\n",
        "\n",
        "در این قسمت ابتدا با استفاده از تبدیل z-score داده ها را تبدیل میکنم و درون دیتافریمی با همین نام میریزم.\n",
        "\n",
        "سپس مقادیر مینیمم و ماکزیمم را برای هر ستون بعد از تبدیل زد حساب میکنم.\n",
        "\n",
        "سپس از این دیتافریم داده هایی که مقدار آنها کمتر از 3 و بیشتر از -3 باشد را مشخص میکنم و داخل دیتافریم جدیدی به نام df1 میریزم.\n",
        "\n",
        "برای اینکه مشخص کنیم چه تعداد از سطور حذف شده اند شکل داده اولیه و ثانویه را چاپ میکنیم که برابر با 209 و 188 هست پس نتیجه میگیریم که 21 سطر به عنوان outlier شناخته شده و حذف شده اند.\n",
        "\n",
        "نهایتا دوباره مقدار مینیمم و ماکزیمم مقادیر هر سطر را مشخص میکنیم و از حذف مقادیر outlier اطمینن میابیم.\n",
        "\n",
        "<div>"
      ],
      "metadata": {
        "id": "01kJquXL8dYJ"
      }
    },
    {
      "cell_type": "code",
      "source": [
        "df_zscored = machine_data.select_dtypes(include='number').apply(stats.zscore)\n",
        "df_zscored.head()"
      ],
      "metadata": {
        "colab": {
          "base_uri": "https://localhost:8080/",
          "height": 206
        },
        "id": "IrMSdjQOjz9C",
        "outputId": "3399c1c8-7bd9-4064-a50b-ab2dca4e274e"
      },
      "execution_count": 5,
      "outputs": [
        {
          "output_type": "execute_result",
          "data": {
            "text/html": [
              "\n",
              "  <div id=\"df-3b383145-009d-4747-a4cb-1ff222207ff8\">\n",
              "    <div class=\"colab-df-container\">\n",
              "      <div>\n",
              "<style scoped>\n",
              "    .dataframe tbody tr th:only-of-type {\n",
              "        vertical-align: middle;\n",
              "    }\n",
              "\n",
              "    .dataframe tbody tr th {\n",
              "        vertical-align: top;\n",
              "    }\n",
              "\n",
              "    .dataframe thead th {\n",
              "        text-align: right;\n",
              "    }\n",
              "</style>\n",
              "<table border=\"1\" class=\"dataframe\">\n",
              "  <thead>\n",
              "    <tr style=\"text-align: right;\">\n",
              "      <th></th>\n",
              "      <th>MCYT</th>\n",
              "      <th>MMIN</th>\n",
              "      <th>MMAX</th>\n",
              "      <th>CACH</th>\n",
              "      <th>CHMIN</th>\n",
              "      <th>CHMAX</th>\n",
              "      <th>PRP</th>\n",
              "      <th>ERP</th>\n",
              "    </tr>\n",
              "  </thead>\n",
              "  <tbody>\n",
              "    <tr>\n",
              "      <th>0</th>\n",
              "      <td>-0.303586</td>\n",
              "      <td>-0.675026</td>\n",
              "      <td>-0.495462</td>\n",
              "      <td>5.696280</td>\n",
              "      <td>1.661989</td>\n",
              "      <td>4.231033</td>\n",
              "      <td>0.575759</td>\n",
              "      <td>0.645587</td>\n",
              "    </tr>\n",
              "    <tr>\n",
              "      <th>1</th>\n",
              "      <td>-0.673330</td>\n",
              "      <td>1.326291</td>\n",
              "      <td>1.727049</td>\n",
              "      <td>0.167606</td>\n",
              "      <td>0.485509</td>\n",
              "      <td>0.529479</td>\n",
              "      <td>1.018277</td>\n",
              "      <td>0.995359</td>\n",
              "    </tr>\n",
              "    <tr>\n",
              "      <th>2</th>\n",
              "      <td>-0.673330</td>\n",
              "      <td>1.326291</td>\n",
              "      <td>1.727049</td>\n",
              "      <td>0.167606</td>\n",
              "      <td>0.485509</td>\n",
              "      <td>0.529479</td>\n",
              "      <td>0.712877</td>\n",
              "      <td>0.995359</td>\n",
              "    </tr>\n",
              "    <tr>\n",
              "      <th>3</th>\n",
              "      <td>-0.673330</td>\n",
              "      <td>1.326291</td>\n",
              "      <td>1.727049</td>\n",
              "      <td>0.167606</td>\n",
              "      <td>0.485509</td>\n",
              "      <td>0.529479</td>\n",
              "      <td>0.413710</td>\n",
              "      <td>0.995359</td>\n",
              "    </tr>\n",
              "    <tr>\n",
              "      <th>4</th>\n",
              "      <td>-0.673330</td>\n",
              "      <td>1.326291</td>\n",
              "      <td>0.359350</td>\n",
              "      <td>0.167606</td>\n",
              "      <td>0.485509</td>\n",
              "      <td>-0.087447</td>\n",
              "      <td>0.164405</td>\n",
              "      <td>0.211611</td>\n",
              "    </tr>\n",
              "  </tbody>\n",
              "</table>\n",
              "</div>\n",
              "      <button class=\"colab-df-convert\" onclick=\"convertToInteractive('df-3b383145-009d-4747-a4cb-1ff222207ff8')\"\n",
              "              title=\"Convert this dataframe to an interactive table.\"\n",
              "              style=\"display:none;\">\n",
              "        \n",
              "  <svg xmlns=\"http://www.w3.org/2000/svg\" height=\"24px\"viewBox=\"0 0 24 24\"\n",
              "       width=\"24px\">\n",
              "    <path d=\"M0 0h24v24H0V0z\" fill=\"none\"/>\n",
              "    <path d=\"M18.56 5.44l.94 2.06.94-2.06 2.06-.94-2.06-.94-.94-2.06-.94 2.06-2.06.94zm-11 1L8.5 8.5l.94-2.06 2.06-.94-2.06-.94L8.5 2.5l-.94 2.06-2.06.94zm10 10l.94 2.06.94-2.06 2.06-.94-2.06-.94-.94-2.06-.94 2.06-2.06.94z\"/><path d=\"M17.41 7.96l-1.37-1.37c-.4-.4-.92-.59-1.43-.59-.52 0-1.04.2-1.43.59L10.3 9.45l-7.72 7.72c-.78.78-.78 2.05 0 2.83L4 21.41c.39.39.9.59 1.41.59.51 0 1.02-.2 1.41-.59l7.78-7.78 2.81-2.81c.8-.78.8-2.07 0-2.86zM5.41 20L4 18.59l7.72-7.72 1.47 1.35L5.41 20z\"/>\n",
              "  </svg>\n",
              "      </button>\n",
              "      \n",
              "  <style>\n",
              "    .colab-df-container {\n",
              "      display:flex;\n",
              "      flex-wrap:wrap;\n",
              "      gap: 12px;\n",
              "    }\n",
              "\n",
              "    .colab-df-convert {\n",
              "      background-color: #E8F0FE;\n",
              "      border: none;\n",
              "      border-radius: 50%;\n",
              "      cursor: pointer;\n",
              "      display: none;\n",
              "      fill: #1967D2;\n",
              "      height: 32px;\n",
              "      padding: 0 0 0 0;\n",
              "      width: 32px;\n",
              "    }\n",
              "\n",
              "    .colab-df-convert:hover {\n",
              "      background-color: #E2EBFA;\n",
              "      box-shadow: 0px 1px 2px rgba(60, 64, 67, 0.3), 0px 1px 3px 1px rgba(60, 64, 67, 0.15);\n",
              "      fill: #174EA6;\n",
              "    }\n",
              "\n",
              "    [theme=dark] .colab-df-convert {\n",
              "      background-color: #3B4455;\n",
              "      fill: #D2E3FC;\n",
              "    }\n",
              "\n",
              "    [theme=dark] .colab-df-convert:hover {\n",
              "      background-color: #434B5C;\n",
              "      box-shadow: 0px 1px 3px 1px rgba(0, 0, 0, 0.15);\n",
              "      filter: drop-shadow(0px 1px 2px rgba(0, 0, 0, 0.3));\n",
              "      fill: #FFFFFF;\n",
              "    }\n",
              "  </style>\n",
              "\n",
              "      <script>\n",
              "        const buttonEl =\n",
              "          document.querySelector('#df-3b383145-009d-4747-a4cb-1ff222207ff8 button.colab-df-convert');\n",
              "        buttonEl.style.display =\n",
              "          google.colab.kernel.accessAllowed ? 'block' : 'none';\n",
              "\n",
              "        async function convertToInteractive(key) {\n",
              "          const element = document.querySelector('#df-3b383145-009d-4747-a4cb-1ff222207ff8');\n",
              "          const dataTable =\n",
              "            await google.colab.kernel.invokeFunction('convertToInteractive',\n",
              "                                                     [key], {});\n",
              "          if (!dataTable) return;\n",
              "\n",
              "          const docLinkHtml = 'Like what you see? Visit the ' +\n",
              "            '<a target=\"_blank\" href=https://colab.research.google.com/notebooks/data_table.ipynb>data table notebook</a>'\n",
              "            + ' to learn more about interactive tables.';\n",
              "          element.innerHTML = '';\n",
              "          dataTable['output_type'] = 'display_data';\n",
              "          await google.colab.output.renderOutput(dataTable, element);\n",
              "          const docLink = document.createElement('div');\n",
              "          docLink.innerHTML = docLinkHtml;\n",
              "          element.appendChild(docLink);\n",
              "        }\n",
              "      </script>\n",
              "    </div>\n",
              "  </div>\n",
              "  "
            ],
            "text/plain": [
              "       MCYT      MMIN      MMAX  ...     CHMAX       PRP       ERP\n",
              "0 -0.303586 -0.675026 -0.495462  ...  4.231033  0.575759  0.645587\n",
              "1 -0.673330  1.326291  1.727049  ...  0.529479  1.018277  0.995359\n",
              "2 -0.673330  1.326291  1.727049  ...  0.529479  0.712877  0.995359\n",
              "3 -0.673330  1.326291  1.727049  ...  0.529479  0.413710  0.995359\n",
              "4 -0.673330  1.326291  0.359350  ... -0.087447  0.164405  0.211611\n",
              "\n",
              "[5 rows x 8 columns]"
            ]
          },
          "metadata": {},
          "execution_count": 5
        }
      ]
    },
    {
      "cell_type": "code",
      "source": [
        "df_zscored.min(), df_zscored.max()"
      ],
      "metadata": {
        "colab": {
          "base_uri": "https://localhost:8080/"
        },
        "id": "iKTF-77yf8Yu",
        "outputId": "4e44fb3e-183c-4ea2-cf88-746b763a3758"
      },
      "execution_count": 6,
      "outputs": [
        {
          "output_type": "execute_result",
          "data": {
            "text/plain": [
              "(MCYT    -0.719547\n",
              " MMIN    -0.724645\n",
              " MMAX    -1.002879\n",
              " CACH    -0.621852\n",
              " CHMIN   -0.690971\n",
              " CHMAX   -0.704373\n",
              " PRP     -0.620909\n",
              " ERP     -0.546228\n",
              " dtype: float64, MCYT     4.992217\n",
              " MMIN     7.528719\n",
              " MMAX     4.462448\n",
              " CACH     5.696280\n",
              " CHMIN    6.956148\n",
              " CHMAX    6.081811\n",
              " PRP      6.509238\n",
              " ERP      7.375453\n",
              " dtype: float64)"
            ]
          },
          "metadata": {},
          "execution_count": 6
        }
      ]
    },
    {
      "cell_type": "code",
      "source": [
        "cdf1 = df_zscored[~((df_zscored < (-3)) |(df_zscored > (3))).any(axis=1)]\n",
        "machine_data.shape, cdf1.shape"
      ],
      "metadata": {
        "colab": {
          "base_uri": "https://localhost:8080/"
        },
        "id": "j0LU1u8ojFHj",
        "outputId": "4f4c5ebf-3c2a-471e-e532-c1769d0966b5"
      },
      "execution_count": 7,
      "outputs": [
        {
          "output_type": "execute_result",
          "data": {
            "text/plain": [
              "((209, 10), (188, 8))"
            ]
          },
          "metadata": {},
          "execution_count": 7
        }
      ]
    },
    {
      "cell_type": "code",
      "source": [
        "cdf1.min(), cdf1.max()"
      ],
      "metadata": {
        "colab": {
          "base_uri": "https://localhost:8080/"
        },
        "id": "BEpW1refjtJt",
        "outputId": "83ad8799-40f1-4491-8a59-f21a7205d9ce"
      },
      "execution_count": 8,
      "outputs": [
        {
          "output_type": "execute_result",
          "data": {
            "text/plain": [
              "(MCYT    -0.719547\n",
              " MMIN    -0.724645\n",
              " MMAX    -1.002879\n",
              " CACH    -0.621852\n",
              " CHMIN   -0.690971\n",
              " CHMAX   -0.704373\n",
              " PRP     -0.620909\n",
              " ERP     -0.546228\n",
              " dtype: float64, MCYT     2.681321\n",
              " MMIN     1.326291\n",
              " MMAX     1.727049\n",
              " CACH     2.881369\n",
              " CHMIN    2.838468\n",
              " CHMAX    1.763330\n",
              " PRP      1.865917\n",
              " ERP      1.830924\n",
              " dtype: float64)"
            ]
          },
          "metadata": {},
          "execution_count": 8
        }
      ]
    },
    {
      "cell_type": "markdown",
      "source": [
        "# <div dir=\"rtl\">قسمت c:</div>\n",
        "\n",
        "<div dir=\"rtl\">\n",
        "\n",
        "در این قسمت خواسته شده است که داده ها را به روش IQR تمیز کنیم.\n",
        "\n",
        "ابتدا سطح آستانه اول و سوم را میابیم و با محاسبه Q3-Q1 مقدار IQR را محاسبه میکنیم.\n",
        "\n",
        "سپس ناحیه مجاز برای مقدار ستونها را مشخص میکنیم و داده هایی که این شرایط را دارند را در دیتافریم df2 میریزیم و اگر یکی از مقادیر ستونها این شرایط را نقض کند کل سطر را پاک میکنیم.\n",
        "\n",
        "نهایتا برای اینکه مخشص کنیم چه تعداد از سطر ها حذف شده اند شکل اولیه و ثانیه داده ها رامشاهده میکنیم. میبینیم از 209 سطر به 149 سطر رسیده ایم پس متوجه میشویم 60 سطر از داده ها حذف شده اند.\n",
        "\n",
        "<div>"
      ],
      "metadata": {
        "id": "Cg-XSqMv9cL7"
      }
    },
    {
      "cell_type": "code",
      "source": [
        "Q1 = machine_data.quantile(0.25)\n",
        "Q3 = machine_data.quantile(0.75)\n",
        "IQR = Q3 - Q1\n",
        "print(IQR)"
      ],
      "metadata": {
        "colab": {
          "base_uri": "https://localhost:8080/"
        },
        "id": "GXnURZq5kOpG",
        "outputId": "5bd44d58-9b90-4412-e687-94cb2a2a145d"
      },
      "execution_count": 9,
      "outputs": [
        {
          "output_type": "stream",
          "name": "stdout",
          "text": [
            "MCYT       175.0\n",
            "MMIN      3232.0\n",
            "MMAX     12000.0\n",
            "CACH        32.0\n",
            "CHMIN        5.0\n",
            "CHMAX       19.0\n",
            "PRP         86.0\n",
            "ERP         73.0\n",
            "dtype: float64\n"
          ]
        }
      ]
    },
    {
      "cell_type": "code",
      "source": [
        "cdf2 = machine_data[~((machine_data < (Q1 - 1.5 * IQR)) |(machine_data > (Q3 + 1.5 * IQR))).any(axis=1)]\n",
        "machine_data.shape, cdf2.shape"
      ],
      "metadata": {
        "colab": {
          "base_uri": "https://localhost:8080/"
        },
        "id": "Z5B9lyvKlDM0",
        "outputId": "eca9fafa-1442-4530-dbda-a97e8bbb9d89"
      },
      "execution_count": 10,
      "outputs": [
        {
          "output_type": "stream",
          "name": "stderr",
          "text": [
            "/usr/local/lib/python3.7/dist-packages/ipykernel_launcher.py:1: FutureWarning: Automatic reindexing on DataFrame vs Series comparisons is deprecated and will raise ValueError in a future version.  Do `left, right = left.align(right, axis=1, copy=False)` before e.g. `left == right`\n",
            "  \"\"\"Entry point for launching an IPython kernel.\n"
          ]
        },
        {
          "output_type": "execute_result",
          "data": {
            "text/plain": [
              "((209, 10), (149, 10))"
            ]
          },
          "metadata": {},
          "execution_count": 10
        }
      ]
    },
    {
      "cell_type": "code",
      "source": [
        ""
      ],
      "metadata": {
        "id": "xHHa3FRPlkcS"
      },
      "execution_count": 11,
      "outputs": []
    }
  ]
}