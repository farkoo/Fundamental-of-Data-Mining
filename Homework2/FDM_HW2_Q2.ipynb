{
  "nbformat": 4,
  "nbformat_minor": 0,
  "metadata": {
    "colab": {
      "name": "FDM-HW2-Q2.ipynb",
      "provenance": [],
      "collapsed_sections": []
    },
    "kernelspec": {
      "name": "python3",
      "display_name": "Python 3"
    },
    "language_info": {
      "name": "python"
    }
  },
  "cells": [
    {
      "cell_type": "code",
      "execution_count": 1,
      "metadata": {
        "colab": {
          "base_uri": "https://localhost:8080/"
        },
        "id": "PjeECKGjuRNG",
        "outputId": "b0595849-a893-433b-b8cf-9f236cdd8acd"
      },
      "outputs": [
        {
          "output_type": "stream",
          "name": "stdout",
          "text": [
            "/content/drive/MyDrive/DataMining/hw2\n"
          ]
        }
      ],
      "source": [
        "%cd drive/MyDrive/DataMining/hw2"
      ]
    },
    {
      "cell_type": "markdown",
      "source": [
        "## <div dir=\"rtl\"> سوال دوم</div>\n"
      ],
      "metadata": {
        "id": "zww0BktsJRFl"
      }
    },
    {
      "cell_type": "code",
      "source": [
        "import pandas as pd\n",
        "import seaborn as sns\n",
        "import matplotlib.pyplot as plt\n",
        "from scipy.stats import skew\n",
        "import numpy as np\n",
        "from scipy.stats import boxcox"
      ],
      "metadata": {
        "id": "gAjt89zVuqQd"
      },
      "execution_count": 2,
      "outputs": []
    },
    {
      "cell_type": "code",
      "source": [
        "df = pd.read_csv(\"heart_diagnose.csv\")"
      ],
      "metadata": {
        "id": "qh-zPicEusd3"
      },
      "execution_count": 3,
      "outputs": []
    },
    {
      "cell_type": "code",
      "source": [
        "df.head()"
      ],
      "metadata": {
        "colab": {
          "base_uri": "https://localhost:8080/",
          "height": 337
        },
        "id": "9-G3A3Ouu7Xg",
        "outputId": "503f237a-9d1a-4a09-c3b3-384bd10d5284"
      },
      "execution_count": 4,
      "outputs": [
        {
          "output_type": "execute_result",
          "data": {
            "text/plain": [
              "   age  sex pain type  resting blood pressure  cholestoral  \\\n",
              "0   70  1.0      four                   130.0        322.0   \n",
              "1   67  0.0     three                   115.0        564.0   \n",
              "2   57  1.0       two                   124.0        261.0   \n",
              "3   64  1.0      four                   128.0        263.0   \n",
              "4   74  0.0       two                   120.0        269.0   \n",
              "\n",
              "   fasting blood sugar  resting electrocardiographic results  \\\n",
              "0                  0.0                                   2.0   \n",
              "1                  0.0                                   2.0   \n",
              "2                  0.0                                   0.0   \n",
              "3                  0.0                                   0.0   \n",
              "4                  0.0                                   2.0   \n",
              "\n",
              "   maximum heart rate  exercise induced angina  oldpeak  slope of peak  \\\n",
              "0               109.0                      0.0      2.4            2.0   \n",
              "1               160.0                      0.0      1.6            2.0   \n",
              "2               141.0                      0.0      0.3            1.0   \n",
              "3               105.0                      1.0      0.2            2.0   \n",
              "4               121.0                      1.0      0.2            1.0   \n",
              "\n",
              "   num of major vessels               thal  heart disease  \n",
              "0                   3.0             normal              1  \n",
              "1                   0.0  reversable defect              0  \n",
              "2                   0.0  reversable defect              1  \n",
              "3                   1.0  reversable defect              0  \n",
              "4                   1.0             normal              0  "
            ],
            "text/html": [
              "\n",
              "  <div id=\"df-1a7fd521-ffd4-4a25-8833-b49ddc02b036\">\n",
              "    <div class=\"colab-df-container\">\n",
              "      <div>\n",
              "<style scoped>\n",
              "    .dataframe tbody tr th:only-of-type {\n",
              "        vertical-align: middle;\n",
              "    }\n",
              "\n",
              "    .dataframe tbody tr th {\n",
              "        vertical-align: top;\n",
              "    }\n",
              "\n",
              "    .dataframe thead th {\n",
              "        text-align: right;\n",
              "    }\n",
              "</style>\n",
              "<table border=\"1\" class=\"dataframe\">\n",
              "  <thead>\n",
              "    <tr style=\"text-align: right;\">\n",
              "      <th></th>\n",
              "      <th>age</th>\n",
              "      <th>sex</th>\n",
              "      <th>pain type</th>\n",
              "      <th>resting blood pressure</th>\n",
              "      <th>cholestoral</th>\n",
              "      <th>fasting blood sugar</th>\n",
              "      <th>resting electrocardiographic results</th>\n",
              "      <th>maximum heart rate</th>\n",
              "      <th>exercise induced angina</th>\n",
              "      <th>oldpeak</th>\n",
              "      <th>slope of peak</th>\n",
              "      <th>num of major vessels</th>\n",
              "      <th>thal</th>\n",
              "      <th>heart disease</th>\n",
              "    </tr>\n",
              "  </thead>\n",
              "  <tbody>\n",
              "    <tr>\n",
              "      <th>0</th>\n",
              "      <td>70</td>\n",
              "      <td>1.0</td>\n",
              "      <td>four</td>\n",
              "      <td>130.0</td>\n",
              "      <td>322.0</td>\n",
              "      <td>0.0</td>\n",
              "      <td>2.0</td>\n",
              "      <td>109.0</td>\n",
              "      <td>0.0</td>\n",
              "      <td>2.4</td>\n",
              "      <td>2.0</td>\n",
              "      <td>3.0</td>\n",
              "      <td>normal</td>\n",
              "      <td>1</td>\n",
              "    </tr>\n",
              "    <tr>\n",
              "      <th>1</th>\n",
              "      <td>67</td>\n",
              "      <td>0.0</td>\n",
              "      <td>three</td>\n",
              "      <td>115.0</td>\n",
              "      <td>564.0</td>\n",
              "      <td>0.0</td>\n",
              "      <td>2.0</td>\n",
              "      <td>160.0</td>\n",
              "      <td>0.0</td>\n",
              "      <td>1.6</td>\n",
              "      <td>2.0</td>\n",
              "      <td>0.0</td>\n",
              "      <td>reversable defect</td>\n",
              "      <td>0</td>\n",
              "    </tr>\n",
              "    <tr>\n",
              "      <th>2</th>\n",
              "      <td>57</td>\n",
              "      <td>1.0</td>\n",
              "      <td>two</td>\n",
              "      <td>124.0</td>\n",
              "      <td>261.0</td>\n",
              "      <td>0.0</td>\n",
              "      <td>0.0</td>\n",
              "      <td>141.0</td>\n",
              "      <td>0.0</td>\n",
              "      <td>0.3</td>\n",
              "      <td>1.0</td>\n",
              "      <td>0.0</td>\n",
              "      <td>reversable defect</td>\n",
              "      <td>1</td>\n",
              "    </tr>\n",
              "    <tr>\n",
              "      <th>3</th>\n",
              "      <td>64</td>\n",
              "      <td>1.0</td>\n",
              "      <td>four</td>\n",
              "      <td>128.0</td>\n",
              "      <td>263.0</td>\n",
              "      <td>0.0</td>\n",
              "      <td>0.0</td>\n",
              "      <td>105.0</td>\n",
              "      <td>1.0</td>\n",
              "      <td>0.2</td>\n",
              "      <td>2.0</td>\n",
              "      <td>1.0</td>\n",
              "      <td>reversable defect</td>\n",
              "      <td>0</td>\n",
              "    </tr>\n",
              "    <tr>\n",
              "      <th>4</th>\n",
              "      <td>74</td>\n",
              "      <td>0.0</td>\n",
              "      <td>two</td>\n",
              "      <td>120.0</td>\n",
              "      <td>269.0</td>\n",
              "      <td>0.0</td>\n",
              "      <td>2.0</td>\n",
              "      <td>121.0</td>\n",
              "      <td>1.0</td>\n",
              "      <td>0.2</td>\n",
              "      <td>1.0</td>\n",
              "      <td>1.0</td>\n",
              "      <td>normal</td>\n",
              "      <td>0</td>\n",
              "    </tr>\n",
              "  </tbody>\n",
              "</table>\n",
              "</div>\n",
              "      <button class=\"colab-df-convert\" onclick=\"convertToInteractive('df-1a7fd521-ffd4-4a25-8833-b49ddc02b036')\"\n",
              "              title=\"Convert this dataframe to an interactive table.\"\n",
              "              style=\"display:none;\">\n",
              "        \n",
              "  <svg xmlns=\"http://www.w3.org/2000/svg\" height=\"24px\"viewBox=\"0 0 24 24\"\n",
              "       width=\"24px\">\n",
              "    <path d=\"M0 0h24v24H0V0z\" fill=\"none\"/>\n",
              "    <path d=\"M18.56 5.44l.94 2.06.94-2.06 2.06-.94-2.06-.94-.94-2.06-.94 2.06-2.06.94zm-11 1L8.5 8.5l.94-2.06 2.06-.94-2.06-.94L8.5 2.5l-.94 2.06-2.06.94zm10 10l.94 2.06.94-2.06 2.06-.94-2.06-.94-.94-2.06-.94 2.06-2.06.94z\"/><path d=\"M17.41 7.96l-1.37-1.37c-.4-.4-.92-.59-1.43-.59-.52 0-1.04.2-1.43.59L10.3 9.45l-7.72 7.72c-.78.78-.78 2.05 0 2.83L4 21.41c.39.39.9.59 1.41.59.51 0 1.02-.2 1.41-.59l7.78-7.78 2.81-2.81c.8-.78.8-2.07 0-2.86zM5.41 20L4 18.59l7.72-7.72 1.47 1.35L5.41 20z\"/>\n",
              "  </svg>\n",
              "      </button>\n",
              "      \n",
              "  <style>\n",
              "    .colab-df-container {\n",
              "      display:flex;\n",
              "      flex-wrap:wrap;\n",
              "      gap: 12px;\n",
              "    }\n",
              "\n",
              "    .colab-df-convert {\n",
              "      background-color: #E8F0FE;\n",
              "      border: none;\n",
              "      border-radius: 50%;\n",
              "      cursor: pointer;\n",
              "      display: none;\n",
              "      fill: #1967D2;\n",
              "      height: 32px;\n",
              "      padding: 0 0 0 0;\n",
              "      width: 32px;\n",
              "    }\n",
              "\n",
              "    .colab-df-convert:hover {\n",
              "      background-color: #E2EBFA;\n",
              "      box-shadow: 0px 1px 2px rgba(60, 64, 67, 0.3), 0px 1px 3px 1px rgba(60, 64, 67, 0.15);\n",
              "      fill: #174EA6;\n",
              "    }\n",
              "\n",
              "    [theme=dark] .colab-df-convert {\n",
              "      background-color: #3B4455;\n",
              "      fill: #D2E3FC;\n",
              "    }\n",
              "\n",
              "    [theme=dark] .colab-df-convert:hover {\n",
              "      background-color: #434B5C;\n",
              "      box-shadow: 0px 1px 3px 1px rgba(0, 0, 0, 0.15);\n",
              "      filter: drop-shadow(0px 1px 2px rgba(0, 0, 0, 0.3));\n",
              "      fill: #FFFFFF;\n",
              "    }\n",
              "  </style>\n",
              "\n",
              "      <script>\n",
              "        const buttonEl =\n",
              "          document.querySelector('#df-1a7fd521-ffd4-4a25-8833-b49ddc02b036 button.colab-df-convert');\n",
              "        buttonEl.style.display =\n",
              "          google.colab.kernel.accessAllowed ? 'block' : 'none';\n",
              "\n",
              "        async function convertToInteractive(key) {\n",
              "          const element = document.querySelector('#df-1a7fd521-ffd4-4a25-8833-b49ddc02b036');\n",
              "          const dataTable =\n",
              "            await google.colab.kernel.invokeFunction('convertToInteractive',\n",
              "                                                     [key], {});\n",
              "          if (!dataTable) return;\n",
              "\n",
              "          const docLinkHtml = 'Like what you see? Visit the ' +\n",
              "            '<a target=\"_blank\" href=https://colab.research.google.com/notebooks/data_table.ipynb>data table notebook</a>'\n",
              "            + ' to learn more about interactive tables.';\n",
              "          element.innerHTML = '';\n",
              "          dataTable['output_type'] = 'display_data';\n",
              "          await google.colab.output.renderOutput(dataTable, element);\n",
              "          const docLink = document.createElement('div');\n",
              "          docLink.innerHTML = docLinkHtml;\n",
              "          element.appendChild(docLink);\n",
              "        }\n",
              "      </script>\n",
              "    </div>\n",
              "  </div>\n",
              "  "
            ]
          },
          "metadata": {},
          "execution_count": 4
        }
      ]
    },
    {
      "cell_type": "code",
      "source": [
        "df.info()"
      ],
      "metadata": {
        "colab": {
          "base_uri": "https://localhost:8080/"
        },
        "id": "poe-YwIDvUsI",
        "outputId": "ee2ad67e-c8a8-4e79-f734-abb59d9bb27d"
      },
      "execution_count": 5,
      "outputs": [
        {
          "output_type": "stream",
          "name": "stdout",
          "text": [
            "<class 'pandas.core.frame.DataFrame'>\n",
            "RangeIndex: 270 entries, 0 to 269\n",
            "Data columns (total 14 columns):\n",
            " #   Column                                Non-Null Count  Dtype  \n",
            "---  ------                                --------------  -----  \n",
            " 0   age                                   270 non-null    int64  \n",
            " 1   sex                                   270 non-null    float64\n",
            " 2   pain type                             270 non-null    object \n",
            " 3   resting blood pressure                270 non-null    float64\n",
            " 4   cholestoral                           270 non-null    float64\n",
            " 5   fasting blood sugar                   270 non-null    float64\n",
            " 6   resting electrocardiographic results  270 non-null    float64\n",
            " 7   maximum heart rate                    270 non-null    float64\n",
            " 8   exercise induced angina               270 non-null    float64\n",
            " 9   oldpeak                               270 non-null    float64\n",
            " 10  slope of peak                         270 non-null    float64\n",
            " 11  num of major vessels                  270 non-null    float64\n",
            " 12  thal                                  270 non-null    object \n",
            " 13  heart disease                         270 non-null    int64  \n",
            "dtypes: float64(10), int64(2), object(2)\n",
            "memory usage: 29.7+ KB\n"
          ]
        }
      ]
    },
    {
      "cell_type": "markdown",
      "source": [
        "## <div dir=\"rtl\"> قسمت اول</div>\n",
        "\n",
        "<div dir=\"rtl\">\n",
        "\n",
        "با رسم هیستوگرام متوجه میشویم که دارای کجی راست است. مقدار عددی آن در سلول زیرین محاسبه شده است و مقدار آن برابر با 0.718 است.\n",
        "\n",
        "\n",
        "<div>"
      ],
      "metadata": {
        "id": "68ox-6wpJW6E"
      }
    },
    {
      "cell_type": "code",
      "source": [
        "sns.histplot(data=df, x=\"resting blood pressure\")"
      ],
      "metadata": {
        "colab": {
          "base_uri": "https://localhost:8080/",
          "height": 296
        },
        "id": "KFvlVC_UvVq6",
        "outputId": "33d2b1c0-148d-41ae-cc2c-33cc09d95a2e"
      },
      "execution_count": 6,
      "outputs": [
        {
          "output_type": "execute_result",
          "data": {
            "text/plain": [
              "<matplotlib.axes._subplots.AxesSubplot at 0x7fa930f0fbd0>"
            ]
          },
          "metadata": {},
          "execution_count": 6
        },
        {
          "output_type": "display_data",
          "data": {
            "text/plain": [
              "<Figure size 432x288 with 1 Axes>"
            ],
            "image/png": "[encoded data removed]"
          },
          "metadata": {
            "needs_background": "light"
          }
        }
      ]
    },
    {
      "cell_type": "code",
      "source": [
        "skew(df[\"resting blood pressure\"])"
      ],
      "metadata": {
        "colab": {
          "base_uri": "https://localhost:8080/"
        },
        "id": "jY-SO-XGv7Hl",
        "outputId": "beab2a8e-781c-4638-b408-25b6c91e11f6"
      },
      "execution_count": 7,
      "outputs": [
        {
          "output_type": "execute_result",
          "data": {
            "text/plain": [
              "0.7185972511657525"
            ]
          },
          "metadata": {},
          "execution_count": 7
        }
      ]
    },
    {
      "cell_type": "markdown",
      "source": [
        "## <div dir=\"rtl\"> قسمت دوم</div>\n"
      ],
      "metadata": {
        "id": "yBJg2eddJ0Qg"
      }
    },
    {
      "cell_type": "code",
      "source": [
        "eliminate_skew_log = np.log(df[\"resting blood pressure\"])"
      ],
      "metadata": {
        "id": "1yzj_wPrwpyR"
      },
      "execution_count": 8,
      "outputs": []
    },
    {
      "cell_type": "code",
      "source": [
        "sns.histplot(data=eliminate_skew_log)"
      ],
      "metadata": {
        "colab": {
          "base_uri": "https://localhost:8080/",
          "height": 296
        },
        "id": "dCwlp2lrzGQa",
        "outputId": "cccf55c3-23ff-4063-bd96-a24285624ca9"
      },
      "execution_count": 9,
      "outputs": [
        {
          "output_type": "execute_result",
          "data": {
            "text/plain": [
              "<matplotlib.axes._subplots.AxesSubplot at 0x7fa930f135d0>"
            ]
          },
          "metadata": {},
          "execution_count": 9
        },
        {
          "output_type": "display_data",
          "data": {
            "text/plain": [
              "<Figure size 432x288 with 1 Axes>"
            ],
            "image/png": "[encoded data removed]"
          },
          "metadata": {
            "needs_background": "light"
          }
        }
      ]
    },
    {
      "cell_type": "code",
      "source": [
        "skew(eliminate_skew_log)"
      ],
      "metadata": {
        "colab": {
          "base_uri": "https://localhost:8080/"
        },
        "id": "Uk_ict4HzLCP",
        "outputId": "7ad90b94-3c1c-4ad2-a48b-991e255945d5"
      },
      "execution_count": 10,
      "outputs": [
        {
          "output_type": "execute_result",
          "data": {
            "text/plain": [
              "0.28747496517610605"
            ]
          },
          "metadata": {},
          "execution_count": 10
        }
      ]
    },
    {
      "cell_type": "markdown",
      "source": [
        "## <div dir=\"rtl\"> قسمت سوم</div>\n"
      ],
      "metadata": {
        "id": "MtHgNLC8J49Z"
      }
    },
    {
      "cell_type": "code",
      "source": [
        "eliminate_skew_sqrt = np.sqrt(df[\"resting blood pressure\"])"
      ],
      "metadata": {
        "id": "HbdkcdmSzXMq"
      },
      "execution_count": 11,
      "outputs": []
    },
    {
      "cell_type": "code",
      "source": [
        "sns.histplot(data=eliminate_skew_sqrt)"
      ],
      "metadata": {
        "colab": {
          "base_uri": "https://localhost:8080/",
          "height": 296
        },
        "id": "Q80CK_gZzho3",
        "outputId": "ec9f01f1-281f-4164-9c24-5830f4d8a6a5"
      },
      "execution_count": 12,
      "outputs": [
        {
          "output_type": "execute_result",
          "data": {
            "text/plain": [
              "<matplotlib.axes._subplots.AxesSubplot at 0x7fa9308c8a50>"
            ]
          },
          "metadata": {},
          "execution_count": 12
        },
        {
          "output_type": "display_data",
          "data": {
            "text/plain": [
              "<Figure size 432x288 with 1 Axes>"
            ],
            "image/png": "[encoded data removed]"
          },
          "metadata": {
            "needs_background": "light"
          }
        }
      ]
    },
    {
      "cell_type": "code",
      "source": [
        "skew(eliminate_skew_sqrt)"
      ],
      "metadata": {
        "colab": {
          "base_uri": "https://localhost:8080/"
        },
        "id": "We3mDwjSzmW6",
        "outputId": "0aacee8b-6773-4cff-e2c2-298b6be7c7e9"
      },
      "execution_count": 13,
      "outputs": [
        {
          "output_type": "execute_result",
          "data": {
            "text/plain": [
              "0.4979970346860892"
            ]
          },
          "metadata": {},
          "execution_count": 13
        }
      ]
    },
    {
      "cell_type": "markdown",
      "source": [
        "## <div dir=\"rtl\"> قسمت چهارم</div>\n"
      ],
      "metadata": {
        "id": "DR__piQzJ_GC"
      }
    },
    {
      "cell_type": "code",
      "source": [
        "eliminate_skew_boxcox = list(boxcox(df[\"resting blood pressure\"])[0])"
      ],
      "metadata": {
        "id": "LvMiMqXozqjQ"
      },
      "execution_count": 14,
      "outputs": []
    },
    {
      "cell_type": "code",
      "source": [
        "sns.histplot(data=eliminate_skew_boxcox)"
      ],
      "metadata": {
        "colab": {
          "base_uri": "https://localhost:8080/",
          "height": 282
        },
        "id": "GOywvNt40IVq",
        "outputId": "214c2bf4-58f6-485c-bd28-fbd4167b3612"
      },
      "execution_count": 15,
      "outputs": [
        {
          "output_type": "execute_result",
          "data": {
            "text/plain": [
              "<matplotlib.axes._subplots.AxesSubplot at 0x7fa930863b50>"
            ]
          },
          "metadata": {},
          "execution_count": 15
        },
        {
          "output_type": "display_data",
          "data": {
            "text/plain": [
              "<Figure size 432x288 with 1 Axes>"
            ],
            "image/png": "[encoded data removed]"
          },
          "metadata": {
            "needs_background": "light"
          }
        }
      ]
    },
    {
      "cell_type": "code",
      "source": [
        "skew(eliminate_skew_boxcox)"
      ],
      "metadata": {
        "colab": {
          "base_uri": "https://localhost:8080/"
        },
        "id": "PviiillR0Mz7",
        "outputId": "5c78cb5c-d842-4d38-f90b-b9b7477e3e2a"
      },
      "execution_count": 16,
      "outputs": [
        {
          "output_type": "execute_result",
          "data": {
            "text/plain": [
              "0.0007433824739680461"
            ]
          },
          "metadata": {},
          "execution_count": 16
        }
      ]
    },
    {
      "cell_type": "markdown",
      "source": [
        "## <div dir=\"rtl\"> تحلیل روشهای قبلی</div>\n",
        "\n",
        "<div dir=\"rtl\">\n",
        "\n",
        "در این سوال از سه روش لگاریتم طبیعی، جذر و boxcox برای رفع کجی داده ها استفاده کردیم.\n",
        "\n",
        "مقدار کجی داده ها در ابتدا برابر با 0.71 بود. بعد از اعمال وش اول مقدار کجی به 0.28 کاهش پیدا کرد و با استفاده از روش دوم مقدار کجی برابر با 0.49 شد. نهایتا با بکارگیری سومین روش کجی داده ها به 0.0007 تقلیل پیدا کرد.\n",
        "\n",
        "همانطور که قابل استنباط است آخرین روش یعنی boxcox قدرتمندترین روش برای رفع کجی داده ها بود و بعد از آن لگاریتم طبیعی و جذر گرفتن کمترین قدرت را داشت. \n",
        "\n",
        "روش boxcox توانست به خوبی کجی داده ها را برطرف کند.\n",
        "\n",
        "<div>"
      ],
      "metadata": {
        "id": "0bjfu4VXKKaa"
      }
    },
    {
      "cell_type": "code",
      "source": [
        ""
      ],
      "metadata": {
        "id": "GfqMwxffKaLQ"
      },
      "execution_count": 29,
      "outputs": []
    }
  ]
}