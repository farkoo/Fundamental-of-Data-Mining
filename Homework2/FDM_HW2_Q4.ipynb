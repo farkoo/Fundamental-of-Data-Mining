{
  "nbformat": 4,
  "nbformat_minor": 0,
  "metadata": {
    "colab": {
      "name": "FDM-HW2-Q4.ipynb",
      "provenance": [],
      "collapsed_sections": []
    },
    "kernelspec": {
      "name": "python3",
      "display_name": "Python 3"
    },
    "language_info": {
      "name": "python"
    }
  },
  "cells": [
    {
      "cell_type": "code",
      "execution_count": 1,
      "metadata": {
        "colab": {
          "base_uri": "https://localhost:8080/"
        },
        "id": "XsZSbK7CTYbD",
        "outputId": "57c15a7a-9ed4-426a-ad63-f23d3e17e801"
      },
      "outputs": [
        {
          "output_type": "stream",
          "name": "stdout",
          "text": [
            "/content/drive/MyDrive/DataMining/hw2\n"
          ]
        }
      ],
      "source": [
        "%cd drive/MyDrive/DataMining/hw2"
      ]
    },
    {
      "cell_type": "markdown",
      "source": [
        "# <div dir=\"rtl\"> سوال چهارم</div>"
      ],
      "metadata": {
        "id": "0hIZHdxFRnwG"
      }
    },
    {
      "cell_type": "code",
      "source": [
        "import pandas as pd\n",
        "import seaborn as sns\n",
        "import matplotlib.pyplot as plt"
      ],
      "metadata": {
        "id": "qY76zWRNTjwI"
      },
      "execution_count": 2,
      "outputs": []
    },
    {
      "cell_type": "code",
      "source": [
        "df = pd.read_csv(\"heart_diagnose.csv\")"
      ],
      "metadata": {
        "id": "9yw0aqbfTlB6"
      },
      "execution_count": 3,
      "outputs": []
    },
    {
      "cell_type": "code",
      "source": [
        "df.head()"
      ],
      "metadata": {
        "colab": {
          "base_uri": "https://localhost:8080/",
          "height": 337
        },
        "id": "P8Kw3fNtTphH",
        "outputId": "a6a89ab5-5052-4c2d-9f20-514846e90381"
      },
      "execution_count": 4,
      "outputs": [
        {
          "output_type": "execute_result",
          "data": {
            "text/plain": [
              "   age  sex pain type  resting blood pressure  cholestoral  \\\n",
              "0   70  1.0      four                   130.0        322.0   \n",
              "1   67  0.0     three                   115.0        564.0   \n",
              "2   57  1.0       two                   124.0        261.0   \n",
              "3   64  1.0      four                   128.0        263.0   \n",
              "4   74  0.0       two                   120.0        269.0   \n",
              "\n",
              "   fasting blood sugar  resting electrocardiographic results  \\\n",
              "0                  0.0                                   2.0   \n",
              "1                  0.0                                   2.0   \n",
              "2                  0.0                                   0.0   \n",
              "3                  0.0                                   0.0   \n",
              "4                  0.0                                   2.0   \n",
              "\n",
              "   maximum heart rate  exercise induced angina  oldpeak  slope of peak  \\\n",
              "0               109.0                      0.0      2.4            2.0   \n",
              "1               160.0                      0.0      1.6            2.0   \n",
              "2               141.0                      0.0      0.3            1.0   \n",
              "3               105.0                      1.0      0.2            2.0   \n",
              "4               121.0                      1.0      0.2            1.0   \n",
              "\n",
              "   num of major vessels               thal  heart disease  \n",
              "0                   3.0             normal              1  \n",
              "1                   0.0  reversable defect              0  \n",
              "2                   0.0  reversable defect              1  \n",
              "3                   1.0  reversable defect              0  \n",
              "4                   1.0             normal              0  "
            ],
            "text/html": [
              "\n",
              "  <div id=\"df-02811e63-c95b-4ca7-b198-64d16049aee0\">\n",
              "    <div class=\"colab-df-container\">\n",
              "      <div>\n",
              "<style scoped>\n",
              "    .dataframe tbody tr th:only-of-type {\n",
              "        vertical-align: middle;\n",
              "    }\n",
              "\n",
              "    .dataframe tbody tr th {\n",
              "        vertical-align: top;\n",
              "    }\n",
              "\n",
              "    .dataframe thead th {\n",
              "        text-align: right;\n",
              "    }\n",
              "</style>\n",
              "<table border=\"1\" class=\"dataframe\">\n",
              "  <thead>\n",
              "    <tr style=\"text-align: right;\">\n",
              "      <th></th>\n",
              "      <th>age</th>\n",
              "      <th>sex</th>\n",
              "      <th>pain type</th>\n",
              "      <th>resting blood pressure</th>\n",
              "      <th>cholestoral</th>\n",
              "      <th>fasting blood sugar</th>\n",
              "      <th>resting electrocardiographic results</th>\n",
              "      <th>maximum heart rate</th>\n",
              "      <th>exercise induced angina</th>\n",
              "      <th>oldpeak</th>\n",
              "      <th>slope of peak</th>\n",
              "      <th>num of major vessels</th>\n",
              "      <th>thal</th>\n",
              "      <th>heart disease</th>\n",
              "    </tr>\n",
              "  </thead>\n",
              "  <tbody>\n",
              "    <tr>\n",
              "      <th>0</th>\n",
              "      <td>70</td>\n",
              "      <td>1.0</td>\n",
              "      <td>four</td>\n",
              "      <td>130.0</td>\n",
              "      <td>322.0</td>\n",
              "      <td>0.0</td>\n",
              "      <td>2.0</td>\n",
              "      <td>109.0</td>\n",
              "      <td>0.0</td>\n",
              "      <td>2.4</td>\n",
              "      <td>2.0</td>\n",
              "      <td>3.0</td>\n",
              "      <td>normal</td>\n",
              "      <td>1</td>\n",
              "    </tr>\n",
              "    <tr>\n",
              "      <th>1</th>\n",
              "      <td>67</td>\n",
              "      <td>0.0</td>\n",
              "      <td>three</td>\n",
              "      <td>115.0</td>\n",
              "      <td>564.0</td>\n",
              "      <td>0.0</td>\n",
              "      <td>2.0</td>\n",
              "      <td>160.0</td>\n",
              "      <td>0.0</td>\n",
              "      <td>1.6</td>\n",
              "      <td>2.0</td>\n",
              "      <td>0.0</td>\n",
              "      <td>reversable defect</td>\n",
              "      <td>0</td>\n",
              "    </tr>\n",
              "    <tr>\n",
              "      <th>2</th>\n",
              "      <td>57</td>\n",
              "      <td>1.0</td>\n",
              "      <td>two</td>\n",
              "      <td>124.0</td>\n",
              "      <td>261.0</td>\n",
              "      <td>0.0</td>\n",
              "      <td>0.0</td>\n",
              "      <td>141.0</td>\n",
              "      <td>0.0</td>\n",
              "      <td>0.3</td>\n",
              "      <td>1.0</td>\n",
              "      <td>0.0</td>\n",
              "      <td>reversable defect</td>\n",
              "      <td>1</td>\n",
              "    </tr>\n",
              "    <tr>\n",
              "      <th>3</th>\n",
              "      <td>64</td>\n",
              "      <td>1.0</td>\n",
              "      <td>four</td>\n",
              "      <td>128.0</td>\n",
              "      <td>263.0</td>\n",
              "      <td>0.0</td>\n",
              "      <td>0.0</td>\n",
              "      <td>105.0</td>\n",
              "      <td>1.0</td>\n",
              "      <td>0.2</td>\n",
              "      <td>2.0</td>\n",
              "      <td>1.0</td>\n",
              "      <td>reversable defect</td>\n",
              "      <td>0</td>\n",
              "    </tr>\n",
              "    <tr>\n",
              "      <th>4</th>\n",
              "      <td>74</td>\n",
              "      <td>0.0</td>\n",
              "      <td>two</td>\n",
              "      <td>120.0</td>\n",
              "      <td>269.0</td>\n",
              "      <td>0.0</td>\n",
              "      <td>2.0</td>\n",
              "      <td>121.0</td>\n",
              "      <td>1.0</td>\n",
              "      <td>0.2</td>\n",
              "      <td>1.0</td>\n",
              "      <td>1.0</td>\n",
              "      <td>normal</td>\n",
              "      <td>0</td>\n",
              "    </tr>\n",
              "  </tbody>\n",
              "</table>\n",
              "</div>\n",
              "      <button class=\"colab-df-convert\" onclick=\"convertToInteractive('df-02811e63-c95b-4ca7-b198-64d16049aee0')\"\n",
              "              title=\"Convert this dataframe to an interactive table.\"\n",
              "              style=\"display:none;\">\n",
              "        \n",
              "  <svg xmlns=\"http://www.w3.org/2000/svg\" height=\"24px\"viewBox=\"0 0 24 24\"\n",
              "       width=\"24px\">\n",
              "    <path d=\"M0 0h24v24H0V0z\" fill=\"none\"/>\n",
              "    <path d=\"M18.56 5.44l.94 2.06.94-2.06 2.06-.94-2.06-.94-.94-2.06-.94 2.06-2.06.94zm-11 1L8.5 8.5l.94-2.06 2.06-.94-2.06-.94L8.5 2.5l-.94 2.06-2.06.94zm10 10l.94 2.06.94-2.06 2.06-.94-2.06-.94-.94-2.06-.94 2.06-2.06.94z\"/><path d=\"M17.41 7.96l-1.37-1.37c-.4-.4-.92-.59-1.43-.59-.52 0-1.04.2-1.43.59L10.3 9.45l-7.72 7.72c-.78.78-.78 2.05 0 2.83L4 21.41c.39.39.9.59 1.41.59.51 0 1.02-.2 1.41-.59l7.78-7.78 2.81-2.81c.8-.78.8-2.07 0-2.86zM5.41 20L4 18.59l7.72-7.72 1.47 1.35L5.41 20z\"/>\n",
              "  </svg>\n",
              "      </button>\n",
              "      \n",
              "  <style>\n",
              "    .colab-df-container {\n",
              "      display:flex;\n",
              "      flex-wrap:wrap;\n",
              "      gap: 12px;\n",
              "    }\n",
              "\n",
              "    .colab-df-convert {\n",
              "      background-color: #E8F0FE;\n",
              "      border: none;\n",
              "      border-radius: 50%;\n",
              "      cursor: pointer;\n",
              "      display: none;\n",
              "      fill: #1967D2;\n",
              "      height: 32px;\n",
              "      padding: 0 0 0 0;\n",
              "      width: 32px;\n",
              "    }\n",
              "\n",
              "    .colab-df-convert:hover {\n",
              "      background-color: #E2EBFA;\n",
              "      box-shadow: 0px 1px 2px rgba(60, 64, 67, 0.3), 0px 1px 3px 1px rgba(60, 64, 67, 0.15);\n",
              "      fill: #174EA6;\n",
              "    }\n",
              "\n",
              "    [theme=dark] .colab-df-convert {\n",
              "      background-color: #3B4455;\n",
              "      fill: #D2E3FC;\n",
              "    }\n",
              "\n",
              "    [theme=dark] .colab-df-convert:hover {\n",
              "      background-color: #434B5C;\n",
              "      box-shadow: 0px 1px 3px 1px rgba(0, 0, 0, 0.15);\n",
              "      filter: drop-shadow(0px 1px 2px rgba(0, 0, 0, 0.3));\n",
              "      fill: #FFFFFF;\n",
              "    }\n",
              "  </style>\n",
              "\n",
              "      <script>\n",
              "        const buttonEl =\n",
              "          document.querySelector('#df-02811e63-c95b-4ca7-b198-64d16049aee0 button.colab-df-convert');\n",
              "        buttonEl.style.display =\n",
              "          google.colab.kernel.accessAllowed ? 'block' : 'none';\n",
              "\n",
              "        async function convertToInteractive(key) {\n",
              "          const element = document.querySelector('#df-02811e63-c95b-4ca7-b198-64d16049aee0');\n",
              "          const dataTable =\n",
              "            await google.colab.kernel.invokeFunction('convertToInteractive',\n",
              "                                                     [key], {});\n",
              "          if (!dataTable) return;\n",
              "\n",
              "          const docLinkHtml = 'Like what you see? Visit the ' +\n",
              "            '<a target=\"_blank\" href=https://colab.research.google.com/notebooks/data_table.ipynb>data table notebook</a>'\n",
              "            + ' to learn more about interactive tables.';\n",
              "          element.innerHTML = '';\n",
              "          dataTable['output_type'] = 'display_data';\n",
              "          await google.colab.output.renderOutput(dataTable, element);\n",
              "          const docLink = document.createElement('div');\n",
              "          docLink.innerHTML = docLinkHtml;\n",
              "          element.appendChild(docLink);\n",
              "        }\n",
              "      </script>\n",
              "    </div>\n",
              "  </div>\n",
              "  "
            ]
          },
          "metadata": {},
          "execution_count": 4
        }
      ]
    },
    {
      "cell_type": "code",
      "source": [
        "df.info()"
      ],
      "metadata": {
        "colab": {
          "base_uri": "https://localhost:8080/"
        },
        "id": "We2SqIFdTq9h",
        "outputId": "0b731274-15ce-4cb0-c67e-ebb180c84a29"
      },
      "execution_count": 5,
      "outputs": [
        {
          "output_type": "stream",
          "name": "stdout",
          "text": [
            "<class 'pandas.core.frame.DataFrame'>\n",
            "RangeIndex: 270 entries, 0 to 269\n",
            "Data columns (total 14 columns):\n",
            " #   Column                                Non-Null Count  Dtype  \n",
            "---  ------                                --------------  -----  \n",
            " 0   age                                   270 non-null    int64  \n",
            " 1   sex                                   270 non-null    float64\n",
            " 2   pain type                             270 non-null    object \n",
            " 3   resting blood pressure                270 non-null    float64\n",
            " 4   cholestoral                           270 non-null    float64\n",
            " 5   fasting blood sugar                   270 non-null    float64\n",
            " 6   resting electrocardiographic results  270 non-null    float64\n",
            " 7   maximum heart rate                    270 non-null    float64\n",
            " 8   exercise induced angina               270 non-null    float64\n",
            " 9   oldpeak                               270 non-null    float64\n",
            " 10  slope of peak                         270 non-null    float64\n",
            " 11  num of major vessels                  270 non-null    float64\n",
            " 12  thal                                  270 non-null    object \n",
            " 13  heart disease                         270 non-null    int64  \n",
            "dtypes: float64(10), int64(2), object(2)\n",
            "memory usage: 29.7+ KB\n"
          ]
        }
      ]
    },
    {
      "cell_type": "markdown",
      "source": [
        "## <div dir=\"rtl\"> قسمت اول</div>\n",
        "\n",
        "<div dir=\"rtl\">\n",
        "\n",
        "در دو سلول زیر نمودار overlay بین ویژگی سن و برچسب داده در حالت اسکیل نشده رسم شده است. \n",
        "\n",
        "این طور که به نظر میرسد در سنین جوانی بیماری قلبی در نسبت خیلی کمی از افراد مشاهده میشود .\n",
        "\n",
        "این نسبت در افراد میانسال کمی بیشتر میشود اما همچنان کمتر از نیمی از جمعیت است.\n",
        "\n",
        "نهایتا در افراد کهنسال مشاهده میشود که جمعیت حداکثری به بیماری قلبی مبتلا هستند.\n",
        "\n",
        "\n",
        "<div>"
      ],
      "metadata": {
        "id": "Q39uIbvyRxNW"
      }
    },
    {
      "cell_type": "code",
      "source": [
        "plt.hist([df[df['heart disease']==0]['age'], df[df['heart disease']==1]['age']], \n",
        "         bins=20, stacked=True)\n",
        "plt.legend(['heart disease = 0', 'heart disease = 1'])\n",
        "plt.title('Histogram of Age with heart disease')\n",
        "plt.xlabel('Age'); plt.ylabel('Frequency'); plt.show()"
      ],
      "metadata": {
        "colab": {
          "base_uri": "https://localhost:8080/",
          "height": 384
        },
        "id": "7mLdD12TTryI",
        "outputId": "d6b8f8b9-6c4c-4806-a698-18923af93d16"
      },
      "execution_count": 6,
      "outputs": [
        {
          "output_type": "stream",
          "name": "stderr",
          "text": [
            "/usr/local/lib/python3.7/dist-packages/numpy/core/fromnumeric.py:3208: VisibleDeprecationWarning: Creating an ndarray from ragged nested sequences (which is a list-or-tuple of lists-or-tuples-or ndarrays with different lengths or shapes) is deprecated. If you meant to do this, you must specify 'dtype=object' when creating the ndarray.\n",
            "  return asarray(a).size\n",
            "/usr/local/lib/python3.7/dist-packages/matplotlib/cbook/__init__.py:1376: VisibleDeprecationWarning: Creating an ndarray from ragged nested sequences (which is a list-or-tuple of lists-or-tuples-or ndarrays with different lengths or shapes) is deprecated. If you meant to do this, you must specify 'dtype=object' when creating the ndarray.\n",
            "  X = np.atleast_1d(X.T if isinstance(X, np.ndarray) else np.asarray(X))\n"
          ]
        },
        {
          "output_type": "display_data",
          "data": {
            "text/plain": [
              "<Figure size 432x288 with 1 Axes>"
            ],
            "image/png": "[encoded data removed]"
          },
          "metadata": {
            "needs_background": "light"
          }
        }
      ]
    },
    {
      "cell_type": "code",
      "source": [
        "crosstab_01 = pd.crosstab(df['age'], df['heart disease'])\n",
        "crosstab_01.plot(kind='bar', stacked=True)"
      ],
      "metadata": {
        "id": "xn6z4prgT5tY",
        "colab": {
          "base_uri": "https://localhost:8080/",
          "height": 299
        },
        "outputId": "12746693-630d-4477-98bb-5a8870d4aef1"
      },
      "execution_count": 7,
      "outputs": [
        {
          "output_type": "execute_result",
          "data": {
            "text/plain": [
              "<matplotlib.axes._subplots.AxesSubplot at 0x7fcf9a8e8dd0>"
            ]
          },
          "metadata": {},
          "execution_count": 7
        },
        {
          "output_type": "display_data",
          "data": {
            "text/plain": [
              "<Figure size 432x288 with 1 Axes>"
            ],
            "image/png": "[encoded data removed]"
          },
          "metadata": {
            "needs_background": "light"
          }
        }
      ]
    },
    {
      "cell_type": "markdown",
      "source": [
        "## <div dir=\"rtl\"> قسمت دوم</div>\n",
        "\n",
        "<div dir=\"rtl\">\n",
        "\n",
        "در دو سلول زیر نمودار overlay بین ویژگی سن و برچسب داده در حالت اسکیل شده رسم شده است. \n",
        "\n",
        "این طور که به نظر میرسد در سنین جوانی بیماری قلبی در نسبت خیلی کمی از افراد مشاهده میشود .\n",
        "\n",
        "این نسبت در افراد میانسال کمی بیشتر میشود اما همچنان کمتر از نیمی از جمعیت است.\n",
        "\n",
        "نهایتا در افراد کهنسال مشاهده میشود که جمعیت حداکثری به بیماری قلبی مبتلا هستند.\n",
        "\n",
        "لازم به ذکر است که این روابط در اکثر سنین یک گروه وجود دارد و ممکن است در بعضی از سنین رفتار غیر هماهنگی با بقیه سنین آن گروه مشاهده شود که طبیعی است.\n",
        "\n",
        "نتیجه برداشت شده از این قسمت با قسمت قبلی مشابه است اگرچه برداشت این تایج از نمودار اسکیل شده بسیار راحتتر و روشن تر است.\n",
        "\n",
        "<div>"
      ],
      "metadata": {
        "id": "Fiv4gV2bSXqk"
      }
    },
    {
      "cell_type": "code",
      "source": [
        "crosstab_norm = crosstab_01.div(crosstab_01.sum(1), axis=0)\n",
        "crosstab_norm.plot(kind='bar', stacked=True)"
      ],
      "metadata": {
        "colab": {
          "base_uri": "https://localhost:8080/",
          "height": 299
        },
        "id": "krOxFyzmLSIP",
        "outputId": "b2244ab8-4a9c-4eb4-8ce6-d57c91b23559"
      },
      "execution_count": 8,
      "outputs": [
        {
          "output_type": "execute_result",
          "data": {
            "text/plain": [
              "<matplotlib.axes._subplots.AxesSubplot at 0x7fcf9a6726d0>"
            ]
          },
          "metadata": {},
          "execution_count": 8
        },
        {
          "output_type": "display_data",
          "data": {
            "text/plain": [
              "<Figure size 432x288 with 1 Axes>"
            ],
            "image/png": "[encoded data removed]"
          },
          "metadata": {
            "needs_background": "light"
          }
        }
      ]
    },
    {
      "cell_type": "markdown",
      "source": [
        "## <div dir=\"rtl\"> قسمت سوم</div>\n",
        "\n",
        "<div dir=\"rtl\">\n",
        "\n",
        "افراد را به سه قسمت جوان، میانسال و کهنسال تقسیم بندی میکنیم:\n",
        "\n",
        "\n",
        "<div>"
      ],
      "metadata": {
        "id": "36YJsKb-S3y7"
      }
    },
    {
      "cell_type": "code",
      "source": [
        "df['age_binned'] = pd.cut(x=df['age'], bins=[0,45, 53, 80], labels=['low', 'medium', 'high'])"
      ],
      "metadata": {
        "id": "U5k-eTI9LoyF"
      },
      "execution_count": 9,
      "outputs": []
    },
    {
      "cell_type": "markdown",
      "source": [
        "## <div dir=\"rtl\"> قسمت چهارم</div>\n",
        "\n",
        "<div dir=\"rtl\">\n",
        "\n",
        "مشاهده میشود که در گروه جوان کمتر از یک چهارم افراد به بیماری قلبی مبتلا هستند.\n",
        "\n",
        "در افراد میانسال کمتر از نیمی از افراد و چیزی حدود یک سوم افراد به بیماری قلبی مبتلا هستند.\n",
        "\n",
        "و نهایتا در گروه تفراد کهنسال بیش از نیمی از افراد به بیماری قلبی مبتلا هستند.\n",
        "\n",
        "\n",
        "<div>"
      ],
      "metadata": {
        "id": "eXQCVpI4TIZm"
      }
    },
    {
      "cell_type": "code",
      "source": [
        "crosstab_02 = pd.crosstab(df['age_binned'], df['heart disease'])\n",
        "crosstab_02.plot(kind='bar', stacked=True)"
      ],
      "metadata": {
        "colab": {
          "base_uri": "https://localhost:8080/",
          "height": 330
        },
        "id": "9pb_FtMWOPZ3",
        "outputId": "a4676190-dcd1-4a6a-a589-d7442bcaf659"
      },
      "execution_count": 10,
      "outputs": [
        {
          "output_type": "execute_result",
          "data": {
            "text/plain": [
              "<matplotlib.axes._subplots.AxesSubplot at 0x7fcf9a4cd6d0>"
            ]
          },
          "metadata": {},
          "execution_count": 10
        },
        {
          "output_type": "display_data",
          "data": {
            "text/plain": [
              "<Figure size 432x288 with 1 Axes>"
            ],
            "image/png": "[encoded data removed]"
          },
          "metadata": {
            "needs_background": "light"
          }
        }
      ]
    },
    {
      "cell_type": "markdown",
      "source": [
        "## <div dir=\"rtl\"> قسمت پنجم</div>\n",
        "\n",
        "<div dir=\"rtl\">\n",
        "\n",
        "مشاهده میشود که در گروه جوان کمتر از یک چهارم افراد به بیماری قلبی مبتلا هستند.\n",
        "\n",
        "در افراد میانسال کمتر از نیمی از افراد و چیزی حدود یک سوم افراد به بیماری قلبی مبتلا هستند.\n",
        "\n",
        "و نهایتا در گروه تفراد کهنسال بیش از نیمی از افراد به بیماری قلبی مبتلا هستند.\n",
        "\n",
        "نتایج برداشت شده از این قسمت با قسمت قبلی هماهنگ است، هر چند نتیجه گیری از نمودار فعلی نسبت به حالت قبلی بسیار ساده تر و روشن تر است.\n",
        "\n",
        "<div>"
      ],
      "metadata": {
        "id": "syCGnT34Tmzb"
      }
    },
    {
      "cell_type": "code",
      "source": [
        "crosstab_norm2 = crosstab_02.div(crosstab_02.sum(1), axis=0)\n",
        "crosstab_norm2.plot(kind='bar', stacked=True)"
      ],
      "metadata": {
        "colab": {
          "base_uri": "https://localhost:8080/",
          "height": 328
        },
        "id": "zQIRrygLOWgE",
        "outputId": "fd8436d4-c057-4aeb-b968-969cee3bac60"
      },
      "execution_count": 11,
      "outputs": [
        {
          "output_type": "execute_result",
          "data": {
            "text/plain": [
              "<matplotlib.axes._subplots.AxesSubplot at 0x7fcf9a460850>"
            ]
          },
          "metadata": {},
          "execution_count": 11
        },
        {
          "output_type": "display_data",
          "data": {
            "text/plain": [
              "<Figure size 432x288 with 1 Axes>"
            ],
            "image/png": "[encoded data removed]"
          },
          "metadata": {
            "needs_background": "light"
          }
        }
      ]
    },
    {
      "cell_type": "code",
      "source": [
        ""
      ],
      "metadata": {
        "id": "JWKo1beTOcpi"
      },
      "execution_count": 11,
      "outputs": []
    }
  ]
}