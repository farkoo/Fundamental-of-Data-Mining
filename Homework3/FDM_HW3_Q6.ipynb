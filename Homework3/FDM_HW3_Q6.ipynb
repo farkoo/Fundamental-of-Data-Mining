{
  "cells": [
    {
      "cell_type": "code",
      "source": [
        "%cd drive/MyDrive/DataMining/hw3"
      ],
      "metadata": {
        "colab": {
          "base_uri": "https://localhost:8080/"
        },
        "id": "ZNHP3KIesyyE",
        "outputId": "60ef59ae-94ba-4134-9ae8-d94b1b43e138"
      },
      "id": "ZNHP3KIesyyE",
      "execution_count": 4,
      "outputs": [
        {
          "output_type": "stream",
          "name": "stdout",
          "text": [
            "/content/drive/MyDrive/DataMining/hw3\n"
          ]
        }
      ]
    },
    {
      "cell_type": "code",
      "execution_count": 2,
      "id": "584884cc",
      "metadata": {
        "id": "584884cc"
      },
      "outputs": [],
      "source": [
        "import pandas as pd\n",
        "import numpy as np\n",
        "from sklearn.preprocessing import StandardScaler\n",
        "from sklearn.model_selection import LeavePOut\n",
        "from collections import Counter\n",
        "from sklearn.metrics import confusion_matrix\n",
        "import seaborn as sns"
      ]
    },
    {
      "cell_type": "markdown",
      "id": "af5252d5",
      "metadata": {
        "id": "af5252d5"
      },
      "source": [
        "<div dir=\"rtl\">\n",
        "\n",
        "a)\n",
        "در قسمت اول ابتدا مجموعه داده خوانده شده ویژگی های ورودی مدل در متغیر X و ویژگی هدف در متغیر y قرار داده شده است. \n",
        "\n",
        "</div>"
      ]
    },
    {
      "cell_type": "code",
      "execution_count": 5,
      "id": "db3ef873",
      "metadata": {
        "colab": {
          "base_uri": "https://localhost:8080/",
          "height": 206
        },
        "id": "db3ef873",
        "outputId": "8392d8f7-b6d4-4fc9-b3ce-ea1e47e59132"
      },
      "outputs": [
        {
          "output_type": "execute_result",
          "data": {
            "text/plain": [
              "   Class  Petal length  Sepal length  Sepal width  Petal width\n",
              "0      1            51            35           14            2\n",
              "1      1            49            30           14            2\n",
              "2      1            47            32           13            2\n",
              "3      1            46            31           15            2\n",
              "4      1            50            36           14            2"
            ],
            "text/html": [
              "\n",
              "  <div id=\"df-daa22dcc-cc51-46d4-aab7-5c696ae4a6f0\">\n",
              "    <div class=\"colab-df-container\">\n",
              "      <div>\n",
              "<style scoped>\n",
              "    .dataframe tbody tr th:only-of-type {\n",
              "        vertical-align: middle;\n",
              "    }\n",
              "\n",
              "    .dataframe tbody tr th {\n",
              "        vertical-align: top;\n",
              "    }\n",
              "\n",
              "    .dataframe thead th {\n",
              "        text-align: right;\n",
              "    }\n",
              "</style>\n",
              "<table border=\"1\" class=\"dataframe\">\n",
              "  <thead>\n",
              "    <tr style=\"text-align: right;\">\n",
              "      <th></th>\n",
              "      <th>Class</th>\n",
              "      <th>Petal length</th>\n",
              "      <th>Sepal length</th>\n",
              "      <th>Sepal width</th>\n",
              "      <th>Petal width</th>\n",
              "    </tr>\n",
              "  </thead>\n",
              "  <tbody>\n",
              "    <tr>\n",
              "      <th>0</th>\n",
              "      <td>1</td>\n",
              "      <td>51</td>\n",
              "      <td>35</td>\n",
              "      <td>14</td>\n",
              "      <td>2</td>\n",
              "    </tr>\n",
              "    <tr>\n",
              "      <th>1</th>\n",
              "      <td>1</td>\n",
              "      <td>49</td>\n",
              "      <td>30</td>\n",
              "      <td>14</td>\n",
              "      <td>2</td>\n",
              "    </tr>\n",
              "    <tr>\n",
              "      <th>2</th>\n",
              "      <td>1</td>\n",
              "      <td>47</td>\n",
              "      <td>32</td>\n",
              "      <td>13</td>\n",
              "      <td>2</td>\n",
              "    </tr>\n",
              "    <tr>\n",
              "      <th>3</th>\n",
              "      <td>1</td>\n",
              "      <td>46</td>\n",
              "      <td>31</td>\n",
              "      <td>15</td>\n",
              "      <td>2</td>\n",
              "    </tr>\n",
              "    <tr>\n",
              "      <th>4</th>\n",
              "      <td>1</td>\n",
              "      <td>50</td>\n",
              "      <td>36</td>\n",
              "      <td>14</td>\n",
              "      <td>2</td>\n",
              "    </tr>\n",
              "  </tbody>\n",
              "</table>\n",
              "</div>\n",
              "      <button class=\"colab-df-convert\" onclick=\"convertToInteractive('df-daa22dcc-cc51-46d4-aab7-5c696ae4a6f0')\"\n",
              "              title=\"Convert this dataframe to an interactive table.\"\n",
              "              style=\"display:none;\">\n",
              "        \n",
              "  <svg xmlns=\"http://www.w3.org/2000/svg\" height=\"24px\"viewBox=\"0 0 24 24\"\n",
              "       width=\"24px\">\n",
              "    <path d=\"M0 0h24v24H0V0z\" fill=\"none\"/>\n",
              "    <path d=\"M18.56 5.44l.94 2.06.94-2.06 2.06-.94-2.06-.94-.94-2.06-.94 2.06-2.06.94zm-11 1L8.5 8.5l.94-2.06 2.06-.94-2.06-.94L8.5 2.5l-.94 2.06-2.06.94zm10 10l.94 2.06.94-2.06 2.06-.94-2.06-.94-.94-2.06-.94 2.06-2.06.94z\"/><path d=\"M17.41 7.96l-1.37-1.37c-.4-.4-.92-.59-1.43-.59-.52 0-1.04.2-1.43.59L10.3 9.45l-7.72 7.72c-.78.78-.78 2.05 0 2.83L4 21.41c.39.39.9.59 1.41.59.51 0 1.02-.2 1.41-.59l7.78-7.78 2.81-2.81c.8-.78.8-2.07 0-2.86zM5.41 20L4 18.59l7.72-7.72 1.47 1.35L5.41 20z\"/>\n",
              "  </svg>\n",
              "      </button>\n",
              "      \n",
              "  <style>\n",
              "    .colab-df-container {\n",
              "      display:flex;\n",
              "      flex-wrap:wrap;\n",
              "      gap: 12px;\n",
              "    }\n",
              "\n",
              "    .colab-df-convert {\n",
              "      background-color: #E8F0FE;\n",
              "      border: none;\n",
              "      border-radius: 50%;\n",
              "      cursor: pointer;\n",
              "      display: none;\n",
              "      fill: #1967D2;\n",
              "      height: 32px;\n",
              "      padding: 0 0 0 0;\n",
              "      width: 32px;\n",
              "    }\n",
              "\n",
              "    .colab-df-convert:hover {\n",
              "      background-color: #E2EBFA;\n",
              "      box-shadow: 0px 1px 2px rgba(60, 64, 67, 0.3), 0px 1px 3px 1px rgba(60, 64, 67, 0.15);\n",
              "      fill: #174EA6;\n",
              "    }\n",
              "\n",
              "    [theme=dark] .colab-df-convert {\n",
              "      background-color: #3B4455;\n",
              "      fill: #D2E3FC;\n",
              "    }\n",
              "\n",
              "    [theme=dark] .colab-df-convert:hover {\n",
              "      background-color: #434B5C;\n",
              "      box-shadow: 0px 1px 3px 1px rgba(0, 0, 0, 0.15);\n",
              "      filter: drop-shadow(0px 1px 2px rgba(0, 0, 0, 0.3));\n",
              "      fill: #FFFFFF;\n",
              "    }\n",
              "  </style>\n",
              "\n",
              "      <script>\n",
              "        const buttonEl =\n",
              "          document.querySelector('#df-daa22dcc-cc51-46d4-aab7-5c696ae4a6f0 button.colab-df-convert');\n",
              "        buttonEl.style.display =\n",
              "          google.colab.kernel.accessAllowed ? 'block' : 'none';\n",
              "\n",
              "        async function convertToInteractive(key) {\n",
              "          const element = document.querySelector('#df-daa22dcc-cc51-46d4-aab7-5c696ae4a6f0');\n",
              "          const dataTable =\n",
              "            await google.colab.kernel.invokeFunction('convertToInteractive',\n",
              "                                                     [key], {});\n",
              "          if (!dataTable) return;\n",
              "\n",
              "          const docLinkHtml = 'Like what you see? Visit the ' +\n",
              "            '<a target=\"_blank\" href=https://colab.research.google.com/notebooks/data_table.ipynb>data table notebook</a>'\n",
              "            + ' to learn more about interactive tables.';\n",
              "          element.innerHTML = '';\n",
              "          dataTable['output_type'] = 'display_data';\n",
              "          await google.colab.output.renderOutput(dataTable, element);\n",
              "          const docLink = document.createElement('div');\n",
              "          docLink.innerHTML = docLinkHtml;\n",
              "          element.appendChild(docLink);\n",
              "        }\n",
              "      </script>\n",
              "    </div>\n",
              "  </div>\n",
              "  "
            ]
          },
          "metadata": {},
          "execution_count": 5
        }
      ],
      "source": [
        "df = pd.read_csv('Iris.csv')\n",
        "df.drop(['Unnamed: 0'], axis=1, inplace=True)\n",
        "df.head()"
      ]
    },
    {
      "cell_type": "code",
      "source": [
        "from google.colab import drive\n",
        "drive.mount('/content/drive')"
      ],
      "metadata": {
        "colab": {
          "base_uri": "https://localhost:8080/"
        },
        "id": "3_yiXnpXr6j6",
        "outputId": "66a4ed87-b458-473c-f8e4-b998c404d712"
      },
      "id": "3_yiXnpXr6j6",
      "execution_count": 6,
      "outputs": [
        {
          "output_type": "stream",
          "name": "stdout",
          "text": [
            "Drive already mounted at /content/drive; to attempt to forcibly remount, call drive.mount(\"/content/drive\", force_remount=True).\n"
          ]
        }
      ]
    },
    {
      "cell_type": "code",
      "execution_count": 7,
      "id": "dda84c07",
      "metadata": {
        "id": "dda84c07"
      },
      "outputs": [],
      "source": [
        "X = df.iloc[:, 1:].values\n",
        "y = df.iloc[:, 0].values"
      ]
    },
    {
      "cell_type": "markdown",
      "id": "85fb1dc6",
      "metadata": {
        "id": "85fb1dc6"
      },
      "source": [
        "<div dir=\"rtl\">\n",
        "\n",
        "در قسمت بعد الگوریتم knn پیاده سازی شده است. برای این کار از چهار تابع استفاده شده است.\n",
        "<br>\n",
        "در تابع distance_ecu فاصله ی اقلیدسی بین هریک از نمونه های ورودی x_train و نمونه ی موجود در ورودی x_test_point محاسبه میشود و در یک دیتافریم بازگردانده میشود.\n",
        "\n",
        "<div>"
      ]
    },
    {
      "cell_type": "code",
      "execution_count": 8,
      "id": "8f7823e7",
      "metadata": {
        "id": "8f7823e7"
      },
      "outputs": [],
      "source": [
        "def distance_ecu(x_train, x_test_point):\n",
        "    distances= [] \n",
        "    for row in range(len(x_train)): \n",
        "        current_train_point= x_train[row] \n",
        "        current_distance= 0 \n",
        "\n",
        "        for col in range(len(current_train_point)): \n",
        "            current_distance += (current_train_point[col] - x_test_point[col]) **2\n",
        "            \n",
        "        current_distance= np.sqrt(current_distance)\n",
        "\n",
        "        distances.append(current_distance)\n",
        "\n",
        "\n",
        "    distances= pd.DataFrame(data=distances,columns=['dist'])\n",
        "    return distances"
      ]
    },
    {
      "cell_type": "markdown",
      "id": "0b2f92bc",
      "metadata": {
        "id": "0b2f92bc"
      },
      "source": [
        "<div dir=\"rtl\">\n",
        "\n",
        "در تابع nearest_neighbors تعداد k تا از نزدیک ترین فاصله ها (که توسط تابع قبلی محاسبه شد) بازگردانده میشوند. \n",
        "\n",
        "<div>"
      ]
    },
    {
      "cell_type": "code",
      "execution_count": 9,
      "id": "072c32e4",
      "metadata": {
        "id": "072c32e4"
      },
      "outputs": [],
      "source": [
        "def nearest_neighbors(distance_point, K):\n",
        "    df_nearest= distance_point.sort_values(by=['dist'], axis=0)\n",
        "\n",
        "    df_nearest= df_nearest[:K]\n",
        "    return df_nearest"
      ]
    },
    {
      "cell_type": "markdown",
      "id": "efa95bee",
      "metadata": {
        "id": "efa95bee"
      },
      "source": [
        "<div dir=\"rtl\">\n",
        "\n",
        "در تابع voting با توجه به برچسب k همسایه ی نزدیک برچسب داده ی تست با روش maximum voting مشخص میشود. \n",
        "\n",
        "<div>"
      ]
    },
    {
      "cell_type": "code",
      "execution_count": 10,
      "id": "8c54960d",
      "metadata": {
        "id": "8c54960d"
      },
      "outputs": [],
      "source": [
        "def voting(df_nearest, y_train):\n",
        "    counter_vote= Counter(y_train[list(df_nearest.index)])\n",
        "\n",
        "    y_pred= counter_vote.most_common()[0][0]\n",
        "\n",
        "    return y_pred"
      ]
    },
    {
      "cell_type": "markdown",
      "id": "752beb81",
      "metadata": {
        "id": "752beb81"
      },
      "source": [
        "<div dir=\"rtl\">\n",
        "\n",
        "در تابع KNN_from_scratch توابع قبلی برای هر داده ی تست به ترتیب فراخوانده میشوند و برچسب به دست آمده بازگردانده میشود. علاوه براین در ابتدای تابع عمل نرمال سازی روی داده ی آموزشی انجام میشود. \n",
        "\n",
        "<div>"
      ]
    },
    {
      "cell_type": "code",
      "execution_count": 11,
      "id": "92657540",
      "metadata": {
        "id": "92657540"
      },
      "outputs": [],
      "source": [
        "def KNN_from_scratch(x_train, y_train, x_test, K):\n",
        "    sc = StandardScaler()\n",
        "    x_train = sc.fit_transform(x_train)\n",
        "    x_test = sc.transform(x_test)\n",
        "    \n",
        "    y_pred=[]\n",
        "\n",
        "    for x_test_point in x_test:\n",
        "        distance_point  = distance_ecu(x_train, x_test_point)\n",
        "        df_nearest_point= nearest_neighbors(distance_point, K)\n",
        "        y_pred_point    = voting(df_nearest_point, y_train)\n",
        "        y_pred.append(y_pred_point)\n",
        "\n",
        "    return np.array(y_pred)  \n"
      ]
    },
    {
      "cell_type": "markdown",
      "id": "b9ed4ef1",
      "metadata": {
        "id": "b9ed4ef1"
      },
      "source": [
        "<div dir=\"rtl\">\n",
        "\n",
        "در این قسمت با استفاده از روش Leave One Out داده ی آموزش و تست جداشده اند و به ازای k از 1 تا 50 عمل classification به روش knn انجام شده است. علاوه بر این به ازای هر k نرخ خطا به کمک confusion matrix محاسبه شده است.\n",
        "\n",
        "<div>"
      ]
    },
    {
      "cell_type": "code",
      "execution_count": 12,
      "id": "1f99ac08",
      "metadata": {
        "id": "1f99ac08"
      },
      "outputs": [],
      "source": [
        "lpo = LeavePOut(p=1)\n",
        "error = []\n",
        "for k in range(1, 51):\n",
        "    y_true = []\n",
        "    y_pred = []\n",
        "    for train_index, test_index in lpo.split(X):\n",
        "        X_train, X_test = X[train_index], X[test_index]\n",
        "        y_train, y_test = y[train_index], y[test_index]\n",
        "        y_p = KNN_from_scratch(X_train, y_train, X_test, k)\n",
        "        y_true.append(y_test[0])\n",
        "        y_pred.append(y_p[0])\n",
        "    y_true = np.array(y_true)\n",
        "    y_pred = np.array(y_pred)\n",
        "    cm = confusion_matrix(y_true, y_pred)\n",
        "    error.append(1 - (cm[0, 0] + cm[1, 1] + cm[2, 2])/150)"
      ]
    },
    {
      "cell_type": "markdown",
      "id": "4b7c10f9",
      "metadata": {
        "id": "4b7c10f9"
      },
      "source": [
        "<div dir=\"rtl\">\n",
        "\n",
        "در این قسمت نرخ خطای به دست آمده در قسمت قبل رسم شده است.\n",
        "<br>\n",
        "همان طور که مشخص است به طور کلی در ابتدا با افزایش k خطا کاهش یافته است. سپس به ازای چندین مقدار k خطا ثابت مانده است و پس از آن با افزایش مقدار k خطا افزایش پیدا کرده است.\n",
        "<br>\n",
        "کمترین نرخ خطا مربوط به k بین 12 تا 17 است و میزان آن برابر با 0.033 است.\n",
        "\n",
        "<div>"
      ]
    },
    {
      "cell_type": "code",
      "execution_count": 13,
      "id": "24903fe2",
      "metadata": {
        "scrolled": false,
        "colab": {
          "base_uri": "https://localhost:8080/",
          "height": 337
        },
        "id": "24903fe2",
        "outputId": "de491f39-7a5a-4a33-945a-46b21afb6688"
      },
      "outputs": [
        {
          "output_type": "stream",
          "name": "stderr",
          "text": [
            "/usr/local/lib/python3.7/dist-packages/seaborn/_decorators.py:43: FutureWarning: Pass the following variables as keyword args: x, y. From version 0.12, the only valid positional argument will be `data`, and passing other arguments without an explicit keyword will result in an error or misinterpretation.\n",
            "  FutureWarning\n"
          ]
        },
        {
          "output_type": "execute_result",
          "data": {
            "text/plain": [
              "<matplotlib.axes._subplots.AxesSubplot at 0x7f82803a6b10>"
            ]
          },
          "metadata": {},
          "execution_count": 13
        },
        {
          "output_type": "display_data",
          "data": {
            "text/plain": [
              "<Figure size 432x288 with 1 Axes>"
            ],
            "image/png": "[encoded data removed]"
          },
          "metadata": {
            "needs_background": "light"
          }
        }
      ],
      "source": [
        "x = list(range(1, len(error)+1))\n",
        "sns.lineplot(x, error)"
      ]
    },
    {
      "cell_type": "code",
      "execution_count": 14,
      "id": "1eecb685",
      "metadata": {
        "colab": {
          "base_uri": "https://localhost:8080/"
        },
        "id": "1eecb685",
        "outputId": "8ba5fcb8-2a3d-4047-f31a-015655989ae9"
      },
      "outputs": [
        {
          "output_type": "execute_result",
          "data": {
            "text/plain": [
              "0.033333333333333326"
            ]
          },
          "metadata": {},
          "execution_count": 14
        }
      ],
      "source": [
        "y_true = []\n",
        "y_pred = []\n",
        "for train_index, test_index in lpo.split(X):\n",
        "    X_train, X_test = X[train_index], X[test_index]\n",
        "    y_train, y_test = y[train_index], y[test_index]\n",
        "    y_p = KNN_from_scratch(X_train, y_train, X_test, 15)\n",
        "    y_true.append(y_test[0])\n",
        "    y_pred.append(y_p[0])\n",
        "y_true = np.array(y_true)\n",
        "y_pred = np.array(y_pred)\n",
        "cm = confusion_matrix(y_true, y_pred)\n",
        "error  = 1 - (cm[0, 0] + cm[1, 1] + cm[2, 2])/150\n",
        "error"
      ]
    },
    {
      "cell_type": "markdown",
      "id": "2cafeabb",
      "metadata": {
        "id": "2cafeabb"
      },
      "source": [
        "<div dir=\"rtl\">\n",
        "\n",
        "c)\n",
        "در این قسمت همه ی مراحل قبل با روش weighted_voting تکرار شده است. برای این کار تابع weighted_voting نوشته شده است که با استفاده از معکوس فاصله به عنوان وزن عمل voting را انجام میدهد.\n",
        "<br>\n",
        "نمودار رسم شده نشان میدهد که تا حدود k برابر با 25 روند تغییر نرخ خطا مانند روش قبل است. اما از آن جا به بعد روند افزایشی متوقت میشود و پس از ثابت ماندن نرخ خطا در چندین مقدار k، مجددا روند کاهشی شروع میشود. البته در انتها نرخ خطا روند به افزایشی به خود میگیرد.\n",
        "<br>\n",
        "ماکزیمم نرخ خطا در روش اول از روش دوم بیشتر است.\n",
        "<br>\n",
        "کمترین نرخ خطا مربوط به k در بازه ی 8 تا 18 است که مقدار آن برابر با 0.033 است.\n",
        "\n",
        "<div>"
      ]
    },
    {
      "cell_type": "code",
      "execution_count": 15,
      "id": "8bcf4709",
      "metadata": {
        "id": "8bcf4709"
      },
      "outputs": [],
      "source": [
        "def weighted_voting(df_nearest, y_train):\n",
        "    labels = y_train[list(df_nearest.index)]\n",
        "    weights = 1/df_nearest\n",
        "    \n",
        "    l = list(zip(weights.loc[:, 'dist'], labels))\n",
        "    a = dict()\n",
        "    for dist, lbl in l:\n",
        "        if lbl in a.keys():\n",
        "            a[lbl] += dist\n",
        "        else:\n",
        "            a[lbl] = dist\n",
        "\n",
        "    y_pred= max(a, key=a.get)\n",
        "\n",
        "    return y_pred"
      ]
    },
    {
      "cell_type": "code",
      "execution_count": 16,
      "id": "9f07c008",
      "metadata": {
        "id": "9f07c008"
      },
      "outputs": [],
      "source": [
        "def weighted_KNN_from_scratch(x_train, y_train, x_test, K):\n",
        "    sc = StandardScaler()\n",
        "    x_train = sc.fit_transform(x_train)\n",
        "    x_test = sc.transform(x_test)\n",
        "    \n",
        "    y_pred=[]\n",
        "\n",
        "    for x_test_point in x_test:\n",
        "        distance_point  = distance_ecu(x_train, x_test_point)\n",
        "        df_nearest_point= nearest_neighbors(distance_point, K)\n",
        "        y_pred_point    = weighted_voting(df_nearest_point, y_train)\n",
        "        y_pred.append(y_pred_point)\n",
        "\n",
        "    return np.array(y_pred)  "
      ]
    },
    {
      "cell_type": "code",
      "execution_count": 17,
      "id": "af3232f4",
      "metadata": {
        "id": "af3232f4"
      },
      "outputs": [],
      "source": [
        "lpo = LeavePOut(p=1)\n",
        "error = []\n",
        "for k in range(1, 51):\n",
        "    y_true = []\n",
        "    y_pred = []\n",
        "    for train_index, test_index in lpo.split(X):\n",
        "        X_train, X_test = X[train_index], X[test_index]\n",
        "        y_train, y_test = y[train_index], y[test_index]\n",
        "        y_p = weighted_KNN_from_scratch(X_train, y_train, X_test, k)\n",
        "        y_true.append(y_test[0])\n",
        "        y_pred.append(y_p[0])\n",
        "    y_true = np.array(y_true)\n",
        "    y_pred = np.array(y_pred)\n",
        "    cm = confusion_matrix(y_true, y_pred)\n",
        "    error.append(1 - (cm[0, 0] + cm[1, 1] + cm[2, 2])/150)"
      ]
    },
    {
      "cell_type": "code",
      "execution_count": 18,
      "id": "5b24eac3",
      "metadata": {
        "colab": {
          "base_uri": "https://localhost:8080/",
          "height": 337
        },
        "id": "5b24eac3",
        "outputId": "c5425ac0-4e63-4a7e-a698-f0d4538ad4d1"
      },
      "outputs": [
        {
          "output_type": "stream",
          "name": "stderr",
          "text": [
            "/usr/local/lib/python3.7/dist-packages/seaborn/_decorators.py:43: FutureWarning: Pass the following variables as keyword args: x, y. From version 0.12, the only valid positional argument will be `data`, and passing other arguments without an explicit keyword will result in an error or misinterpretation.\n",
            "  FutureWarning\n"
          ]
        },
        {
          "output_type": "execute_result",
          "data": {
            "text/plain": [
              "<matplotlib.axes._subplots.AxesSubplot at 0x7f827fa03b90>"
            ]
          },
          "metadata": {},
          "execution_count": 18
        },
        {
          "output_type": "display_data",
          "data": {
            "text/plain": [
              "<Figure size 432x288 with 1 Axes>"
            ],
            "image/png": "[encoded data removed]"
          },
          "metadata": {
            "needs_background": "light"
          }
        }
      ],
      "source": [
        "x = list(range(1, len(error)+1))\n",
        "sns.lineplot(x, error)"
      ]
    },
    {
      "cell_type": "code",
      "execution_count": 19,
      "id": "3f7d583c",
      "metadata": {
        "colab": {
          "base_uri": "https://localhost:8080/"
        },
        "id": "3f7d583c",
        "outputId": "54350d62-98b9-4bbc-fee4-15e674bdeb93"
      },
      "outputs": [
        {
          "output_type": "execute_result",
          "data": {
            "text/plain": [
              "0.033333333333333326"
            ]
          },
          "metadata": {},
          "execution_count": 19
        }
      ],
      "source": [
        "y_true = []\n",
        "y_pred = []\n",
        "for train_index, test_index in lpo.split(X):\n",
        "    X_train, X_test = X[train_index], X[test_index]\n",
        "    y_train, y_test = y[train_index], y[test_index]\n",
        "    y_p = weighted_KNN_from_scratch(X_train, y_train, X_test, 15)\n",
        "    y_true.append(y_test[0])\n",
        "    y_pred.append(y_p[0])\n",
        "y_true = np.array(y_true)\n",
        "y_pred = np.array(y_pred)\n",
        "cm = confusion_matrix(y_true, y_pred)\n",
        "error = 1 - (cm[0, 0] + cm[1, 1] + cm[2, 2])/150\n",
        "error"
      ]
    },
    {
      "cell_type": "code",
      "source": [
        ""
      ],
      "metadata": {
        "id": "g0ftMzwRs1-t"
      },
      "id": "g0ftMzwRs1-t",
      "execution_count": 19,
      "outputs": []
    }
  ],
  "metadata": {
    "kernelspec": {
      "display_name": "Python 3",
      "language": "python",
      "name": "python3"
    },
    "language_info": {
      "codemirror_mode": {
        "name": "ipython",
        "version": 3
      },
      "file_extension": ".py",
      "mimetype": "text/x-python",
      "name": "python",
      "nbconvert_exporter": "python",
      "pygments_lexer": "ipython3",
      "version": "3.8.8"
    },
    "colab": {
      "name": "Q6.ipynb",
      "provenance": []
    }
  },
  "nbformat": 4,
  "nbformat_minor": 5
}