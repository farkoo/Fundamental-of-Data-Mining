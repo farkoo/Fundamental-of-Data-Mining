{
  "cells": [
    {
      "cell_type": "code",
      "source": [
        "%cd drive/MyDrive/DataMining/hw3"
      ],
      "metadata": {
        "colab": {
          "base_uri": "https://localhost:8080/"
        },
        "id": "PBYpLpP9vqYZ",
        "outputId": "c41e1393-35ec-4393-cfab-fa1be326e16f"
      },
      "id": "PBYpLpP9vqYZ",
      "execution_count": 2,
      "outputs": [
        {
          "output_type": "stream",
          "name": "stdout",
          "text": [
            "/content/drive/MyDrive/DataMining/hw3\n"
          ]
        }
      ]
    },
    {
      "cell_type": "code",
      "execution_count": 3,
      "id": "adapted-comedy",
      "metadata": {
        "id": "adapted-comedy"
      },
      "outputs": [],
      "source": [
        "import pandas as pd\n",
        "import seaborn as sns\n",
        "import numpy as np\n",
        "from sklearn.model_selection import KFold\n",
        "from sklearn.model_selection import cross_val_score\n",
        "from sklearn.neighbors import KNeighborsClassifier\n",
        "from sklearn.naive_bayes import GaussianNB\n",
        "from sklearn.svm import SVC\n",
        "import matplotlib.pyplot as plt\n",
        "from numpy import mean\n",
        "from sklearn.ensemble import StackingClassifier\n",
        "from sklearn.linear_model import LogisticRegression\n",
        "from sklearn.model_selection import train_test_split\n"
      ]
    },
    {
      "cell_type": "code",
      "source": [
        "from google.colab import drive\n",
        "drive.mount('/content/drive')"
      ],
      "metadata": {
        "colab": {
          "base_uri": "https://localhost:8080/"
        },
        "id": "Ouv0cuHdvpbU",
        "outputId": "64d9b7cc-1c68-4c14-bcbc-2cda8b5f9cc5"
      },
      "id": "Ouv0cuHdvpbU",
      "execution_count": 1,
      "outputs": [
        {
          "output_type": "stream",
          "name": "stdout",
          "text": [
            "Mounted at /content/drive\n"
          ]
        }
      ]
    },
    {
      "cell_type": "code",
      "source": [
        "Df = pd.read_csv('pop_failures.csv')"
      ],
      "metadata": {
        "id": "XiM4sYA9uARj"
      },
      "id": "XiM4sYA9uARj",
      "execution_count": 4,
      "outputs": []
    },
    {
      "cell_type": "code",
      "execution_count": 5,
      "id": "satellite-offer",
      "metadata": {
        "colab": {
          "base_uri": "https://localhost:8080/",
          "height": 317
        },
        "id": "satellite-offer",
        "outputId": "b83cee56-356a-4f48-df42-168d675ca2c1"
      },
      "outputs": [
        {
          "output_type": "execute_result",
          "data": {
            "text/plain": [
              "   Unnamed: 0  Study  Run  vconst_corr  vconst_2  vconst_3  vconst_4  \\\n",
              "0           0      1    1     0.859036  0.927825  0.252866  0.298838   \n",
              "1           1      1    2     0.606041  0.457728  0.359448  0.306957   \n",
              "2           2      1    3     0.997600  0.373238  0.517399  0.504993   \n",
              "3           3      1    4     0.783408  0.104055  0.197533  0.421837   \n",
              "4           4      1    5     0.406250  0.513199  0.061812  0.635837   \n",
              "\n",
              "   vconst_5  vconst_7   ah_corr  ...  efficiency_factor  tidal_mix_max  \\\n",
              "0  0.170521  0.735936  0.428325  ...           0.245675       0.104226   \n",
              "1  0.843331  0.934851  0.444572  ...           0.616870       0.975786   \n",
              "2  0.618903  0.605571  0.746225  ...           0.679355       0.803413   \n",
              "3  0.742056  0.490828  0.005525  ...           0.471463       0.597879   \n",
              "4  0.844798  0.441502  0.191926  ...           0.551543       0.743877   \n",
              "\n",
              "   vertical_decay_scale  convect_corr  bckgrnd_vdc1  bckgrnd_vdc_ban  \\\n",
              "0              0.869091      0.997518      0.448620         0.307522   \n",
              "1              0.914344      0.845247      0.864152         0.346713   \n",
              "2              0.643995      0.718441      0.924775         0.315371   \n",
              "3              0.761659      0.362751      0.912819         0.977971   \n",
              "4              0.312349      0.650223      0.522261         0.043545   \n",
              "\n",
              "   bckgrnd_vdc_eq  bckgrnd_vdc_psim   Prandtl  outcome  \n",
              "0        0.858310          0.796997  0.869893        0  \n",
              "1        0.356573          0.438447  0.512256        1  \n",
              "2        0.250642          0.285636  0.365858        1  \n",
              "3        0.845921          0.699431  0.475987        1  \n",
              "4        0.376660          0.280098  0.132283        1  \n",
              "\n",
              "[5 rows x 22 columns]"
            ],
            "text/html": [
              "\n",
              "  <div id=\"df-47211354-935f-4ad7-b9bf-2ad7fb69f857\">\n",
              "    <div class=\"colab-df-container\">\n",
              "      <div>\n",
              "<style scoped>\n",
              "    .dataframe tbody tr th:only-of-type {\n",
              "        vertical-align: middle;\n",
              "    }\n",
              "\n",
              "    .dataframe tbody tr th {\n",
              "        vertical-align: top;\n",
              "    }\n",
              "\n",
              "    .dataframe thead th {\n",
              "        text-align: right;\n",
              "    }\n",
              "</style>\n",
              "<table border=\"1\" class=\"dataframe\">\n",
              "  <thead>\n",
              "    <tr style=\"text-align: right;\">\n",
              "      <th></th>\n",
              "      <th>Unnamed: 0</th>\n",
              "      <th>Study</th>\n",
              "      <th>Run</th>\n",
              "      <th>vconst_corr</th>\n",
              "      <th>vconst_2</th>\n",
              "      <th>vconst_3</th>\n",
              "      <th>vconst_4</th>\n",
              "      <th>vconst_5</th>\n",
              "      <th>vconst_7</th>\n",
              "      <th>ah_corr</th>\n",
              "      <th>...</th>\n",
              "      <th>efficiency_factor</th>\n",
              "      <th>tidal_mix_max</th>\n",
              "      <th>vertical_decay_scale</th>\n",
              "      <th>convect_corr</th>\n",
              "      <th>bckgrnd_vdc1</th>\n",
              "      <th>bckgrnd_vdc_ban</th>\n",
              "      <th>bckgrnd_vdc_eq</th>\n",
              "      <th>bckgrnd_vdc_psim</th>\n",
              "      <th>Prandtl</th>\n",
              "      <th>outcome</th>\n",
              "    </tr>\n",
              "  </thead>\n",
              "  <tbody>\n",
              "    <tr>\n",
              "      <th>0</th>\n",
              "      <td>0</td>\n",
              "      <td>1</td>\n",
              "      <td>1</td>\n",
              "      <td>0.859036</td>\n",
              "      <td>0.927825</td>\n",
              "      <td>0.252866</td>\n",
              "      <td>0.298838</td>\n",
              "      <td>0.170521</td>\n",
              "      <td>0.735936</td>\n",
              "      <td>0.428325</td>\n",
              "      <td>...</td>\n",
              "      <td>0.245675</td>\n",
              "      <td>0.104226</td>\n",
              "      <td>0.869091</td>\n",
              "      <td>0.997518</td>\n",
              "      <td>0.448620</td>\n",
              "      <td>0.307522</td>\n",
              "      <td>0.858310</td>\n",
              "      <td>0.796997</td>\n",
              "      <td>0.869893</td>\n",
              "      <td>0</td>\n",
              "    </tr>\n",
              "    <tr>\n",
              "      <th>1</th>\n",
              "      <td>1</td>\n",
              "      <td>1</td>\n",
              "      <td>2</td>\n",
              "      <td>0.606041</td>\n",
              "      <td>0.457728</td>\n",
              "      <td>0.359448</td>\n",
              "      <td>0.306957</td>\n",
              "      <td>0.843331</td>\n",
              "      <td>0.934851</td>\n",
              "      <td>0.444572</td>\n",
              "      <td>...</td>\n",
              "      <td>0.616870</td>\n",
              "      <td>0.975786</td>\n",
              "      <td>0.914344</td>\n",
              "      <td>0.845247</td>\n",
              "      <td>0.864152</td>\n",
              "      <td>0.346713</td>\n",
              "      <td>0.356573</td>\n",
              "      <td>0.438447</td>\n",
              "      <td>0.512256</td>\n",
              "      <td>1</td>\n",
              "    </tr>\n",
              "    <tr>\n",
              "      <th>2</th>\n",
              "      <td>2</td>\n",
              "      <td>1</td>\n",
              "      <td>3</td>\n",
              "      <td>0.997600</td>\n",
              "      <td>0.373238</td>\n",
              "      <td>0.517399</td>\n",
              "      <td>0.504993</td>\n",
              "      <td>0.618903</td>\n",
              "      <td>0.605571</td>\n",
              "      <td>0.746225</td>\n",
              "      <td>...</td>\n",
              "      <td>0.679355</td>\n",
              "      <td>0.803413</td>\n",
              "      <td>0.643995</td>\n",
              "      <td>0.718441</td>\n",
              "      <td>0.924775</td>\n",
              "      <td>0.315371</td>\n",
              "      <td>0.250642</td>\n",
              "      <td>0.285636</td>\n",
              "      <td>0.365858</td>\n",
              "      <td>1</td>\n",
              "    </tr>\n",
              "    <tr>\n",
              "      <th>3</th>\n",
              "      <td>3</td>\n",
              "      <td>1</td>\n",
              "      <td>4</td>\n",
              "      <td>0.783408</td>\n",
              "      <td>0.104055</td>\n",
              "      <td>0.197533</td>\n",
              "      <td>0.421837</td>\n",
              "      <td>0.742056</td>\n",
              "      <td>0.490828</td>\n",
              "      <td>0.005525</td>\n",
              "      <td>...</td>\n",
              "      <td>0.471463</td>\n",
              "      <td>0.597879</td>\n",
              "      <td>0.761659</td>\n",
              "      <td>0.362751</td>\n",
              "      <td>0.912819</td>\n",
              "      <td>0.977971</td>\n",
              "      <td>0.845921</td>\n",
              "      <td>0.699431</td>\n",
              "      <td>0.475987</td>\n",
              "      <td>1</td>\n",
              "    </tr>\n",
              "    <tr>\n",
              "      <th>4</th>\n",
              "      <td>4</td>\n",
              "      <td>1</td>\n",
              "      <td>5</td>\n",
              "      <td>0.406250</td>\n",
              "      <td>0.513199</td>\n",
              "      <td>0.061812</td>\n",
              "      <td>0.635837</td>\n",
              "      <td>0.844798</td>\n",
              "      <td>0.441502</td>\n",
              "      <td>0.191926</td>\n",
              "      <td>...</td>\n",
              "      <td>0.551543</td>\n",
              "      <td>0.743877</td>\n",
              "      <td>0.312349</td>\n",
              "      <td>0.650223</td>\n",
              "      <td>0.522261</td>\n",
              "      <td>0.043545</td>\n",
              "      <td>0.376660</td>\n",
              "      <td>0.280098</td>\n",
              "      <td>0.132283</td>\n",
              "      <td>1</td>\n",
              "    </tr>\n",
              "  </tbody>\n",
              "</table>\n",
              "<p>5 rows × 22 columns</p>\n",
              "</div>\n",
              "      <button class=\"colab-df-convert\" onclick=\"convertToInteractive('df-47211354-935f-4ad7-b9bf-2ad7fb69f857')\"\n",
              "              title=\"Convert this dataframe to an interactive table.\"\n",
              "              style=\"display:none;\">\n",
              "        \n",
              "  <svg xmlns=\"http://www.w3.org/2000/svg\" height=\"24px\"viewBox=\"0 0 24 24\"\n",
              "       width=\"24px\">\n",
              "    <path d=\"M0 0h24v24H0V0z\" fill=\"none\"/>\n",
              "    <path d=\"M18.56 5.44l.94 2.06.94-2.06 2.06-.94-2.06-.94-.94-2.06-.94 2.06-2.06.94zm-11 1L8.5 8.5l.94-2.06 2.06-.94-2.06-.94L8.5 2.5l-.94 2.06-2.06.94zm10 10l.94 2.06.94-2.06 2.06-.94-2.06-.94-.94-2.06-.94 2.06-2.06.94z\"/><path d=\"M17.41 7.96l-1.37-1.37c-.4-.4-.92-.59-1.43-.59-.52 0-1.04.2-1.43.59L10.3 9.45l-7.72 7.72c-.78.78-.78 2.05 0 2.83L4 21.41c.39.39.9.59 1.41.59.51 0 1.02-.2 1.41-.59l7.78-7.78 2.81-2.81c.8-.78.8-2.07 0-2.86zM5.41 20L4 18.59l7.72-7.72 1.47 1.35L5.41 20z\"/>\n",
              "  </svg>\n",
              "      </button>\n",
              "      \n",
              "  <style>\n",
              "    .colab-df-container {\n",
              "      display:flex;\n",
              "      flex-wrap:wrap;\n",
              "      gap: 12px;\n",
              "    }\n",
              "\n",
              "    .colab-df-convert {\n",
              "      background-color: #E8F0FE;\n",
              "      border: none;\n",
              "      border-radius: 50%;\n",
              "      cursor: pointer;\n",
              "      display: none;\n",
              "      fill: #1967D2;\n",
              "      height: 32px;\n",
              "      padding: 0 0 0 0;\n",
              "      width: 32px;\n",
              "    }\n",
              "\n",
              "    .colab-df-convert:hover {\n",
              "      background-color: #E2EBFA;\n",
              "      box-shadow: 0px 1px 2px rgba(60, 64, 67, 0.3), 0px 1px 3px 1px rgba(60, 64, 67, 0.15);\n",
              "      fill: #174EA6;\n",
              "    }\n",
              "\n",
              "    [theme=dark] .colab-df-convert {\n",
              "      background-color: #3B4455;\n",
              "      fill: #D2E3FC;\n",
              "    }\n",
              "\n",
              "    [theme=dark] .colab-df-convert:hover {\n",
              "      background-color: #434B5C;\n",
              "      box-shadow: 0px 1px 3px 1px rgba(0, 0, 0, 0.15);\n",
              "      filter: drop-shadow(0px 1px 2px rgba(0, 0, 0, 0.3));\n",
              "      fill: #FFFFFF;\n",
              "    }\n",
              "  </style>\n",
              "\n",
              "      <script>\n",
              "        const buttonEl =\n",
              "          document.querySelector('#df-47211354-935f-4ad7-b9bf-2ad7fb69f857 button.colab-df-convert');\n",
              "        buttonEl.style.display =\n",
              "          google.colab.kernel.accessAllowed ? 'block' : 'none';\n",
              "\n",
              "        async function convertToInteractive(key) {\n",
              "          const element = document.querySelector('#df-47211354-935f-4ad7-b9bf-2ad7fb69f857');\n",
              "          const dataTable =\n",
              "            await google.colab.kernel.invokeFunction('convertToInteractive',\n",
              "                                                     [key], {});\n",
              "          if (!dataTable) return;\n",
              "\n",
              "          const docLinkHtml = 'Like what you see? Visit the ' +\n",
              "            '<a target=\"_blank\" href=https://colab.research.google.com/notebooks/data_table.ipynb>data table notebook</a>'\n",
              "            + ' to learn more about interactive tables.';\n",
              "          element.innerHTML = '';\n",
              "          dataTable['output_type'] = 'display_data';\n",
              "          await google.colab.output.renderOutput(dataTable, element);\n",
              "          const docLink = document.createElement('div');\n",
              "          docLink.innerHTML = docLinkHtml;\n",
              "          element.appendChild(docLink);\n",
              "        }\n",
              "      </script>\n",
              "    </div>\n",
              "  </div>\n",
              "  "
            ]
          },
          "metadata": {},
          "execution_count": 5
        }
      ],
      "source": [
        "Df.head()"
      ]
    },
    {
      "cell_type": "code",
      "execution_count": 6,
      "id": "lucky-bosnia",
      "metadata": {
        "id": "lucky-bosnia"
      },
      "outputs": [],
      "source": [
        "# a\n",
        "y = Df['outcome']\n",
        "X = Df.drop(columns=['outcome'])"
      ]
    },
    {
      "cell_type": "code",
      "execution_count": 7,
      "id": "consolidated-minister",
      "metadata": {
        "id": "consolidated-minister"
      },
      "outputs": [],
      "source": [
        "\n",
        "\n",
        "kf = KFold(n_splits=10, random_state=1, shuffle=True)\n",
        "\n",
        "KNN_clf = KNeighborsClassifier(n_neighbors=3)\n",
        "scores_KNN = cross_val_score(KNN_clf, X, y, scoring='accuracy', cv=kf)"
      ]
    },
    {
      "cell_type": "code",
      "execution_count": 8,
      "id": "disturbed-chambers",
      "metadata": {
        "id": "disturbed-chambers"
      },
      "outputs": [],
      "source": [
        "NB_clf = GaussianNB()\n",
        "scores_NB = cross_val_score(NB_clf, X, y, scoring='accuracy', cv=kf)"
      ]
    },
    {
      "cell_type": "code",
      "execution_count": 9,
      "id": "expected-physics",
      "metadata": {
        "id": "expected-physics"
      },
      "outputs": [],
      "source": [
        "SVM_clf = SVC()\n",
        "scores_SVM = cross_val_score(SVM_clf, X, y, scoring='accuracy', cv=kf)"
      ]
    },
    {
      "cell_type": "code",
      "execution_count": 10,
      "id": "indonesian-poverty",
      "metadata": {
        "colab": {
          "base_uri": "https://localhost:8080/",
          "height": 295
        },
        "id": "indonesian-poverty",
        "outputId": "9e49c8fa-6e33-456a-c1fc-ac2b55b70fad"
      },
      "outputs": [
        {
          "output_type": "display_data",
          "data": {
            "text/plain": [
              "<Figure size 432x288 with 1 Axes>"
            ],
            "image/png": "[encoded data removed]"
          },
          "metadata": {
            "needs_background": "light"
          }
        }
      ],
      "source": [
        "\n",
        "Classifier = ['KNN', 'NB', 'SVM']\n",
        "Score = [mean(scores_KNN), mean(scores_NB), mean(scores_SVM)]\n",
        "\n",
        "plt.bar(Classifier, Score)\n",
        "plt.title('Accuracy Comparison')\n",
        "plt.xlabel('Classifier')\n",
        "plt.ylabel('Accuracy')\n",
        "plt.show()"
      ]
    },
    {
      "cell_type": "code",
      "execution_count": 11,
      "id": "dangerous-processor",
      "metadata": {
        "colab": {
          "base_uri": "https://localhost:8080/"
        },
        "id": "dangerous-processor",
        "outputId": "33228190-8800-4587-dbad-60dc8c747b8b"
      },
      "outputs": [
        {
          "output_type": "stream",
          "name": "stdout",
          "text": [
            "KNN_clf accuracy =  0.9092592592592592\n",
            "SVM_clf accuracy =  0.9148148148148147\n",
            "NB_clf accuracy =  0.9444444444444446\n"
          ]
        }
      ],
      "source": [
        "print(\"KNN_clf accuracy = \", mean(scores_KNN))\n",
        "print(\"SVM_clf accuracy = \", mean(scores_SVM))\n",
        "print(\"NB_clf accuracy = \", mean(scores_NB))"
      ]
    },
    {
      "cell_type": "code",
      "execution_count": 12,
      "id": "arbitrary-simple",
      "metadata": {
        "id": "arbitrary-simple"
      },
      "outputs": [],
      "source": [
        "# b\n",
        "x_train, x_test, y_train, y_test = train_test_split(X, y, test_size = 0.2, random_state = 5)"
      ]
    },
    {
      "cell_type": "code",
      "execution_count": 13,
      "id": "thick-rubber",
      "metadata": {
        "colab": {
          "base_uri": "https://localhost:8080/"
        },
        "id": "thick-rubber",
        "outputId": "620c633a-3291-4521-a74a-a5b55f65a936"
      },
      "outputs": [
        {
          "output_type": "stream",
          "name": "stdout",
          "text": [
            "stacking_clf accuracy =  0.89\n"
          ]
        }
      ],
      "source": [
        "\n",
        "models = [('KNN', KNN_clf),('SVM', SVM_clf), ('NB', NB_clf)]\n",
        "stacking_clf = StackingClassifier(estimators=models, final_estimator=LogisticRegression())\n",
        "kf = KFold(n_splits=10, random_state=1, shuffle=True)\n",
        "stacking_clf.fit(x_train, y_train)\n",
        "scores_Lg = cross_val_score(stacking_clf, x_test, y_test, scoring='accuracy', cv=kf)\n",
        "print(\"stacking_clf accuracy = \", mean(scores_Lg))"
      ]
    },
    {
      "cell_type": "code",
      "source": [
        ""
      ],
      "metadata": {
        "id": "qLdyvuShvwV0"
      },
      "id": "qLdyvuShvwV0",
      "execution_count": 13,
      "outputs": []
    }
  ],
  "metadata": {
    "kernelspec": {
      "display_name": "Python 3",
      "language": "python",
      "name": "python3"
    },
    "language_info": {
      "codemirror_mode": {
        "name": "ipython",
        "version": 3
      },
      "file_extension": ".py",
      "mimetype": "text/x-python",
      "name": "python",
      "nbconvert_exporter": "python",
      "pygments_lexer": "ipython3",
      "version": "3.7.1"
    },
    "colab": {
      "name": "Q12.ipynb",
      "provenance": []
    }
  },
  "nbformat": 4,
  "nbformat_minor": 5
}