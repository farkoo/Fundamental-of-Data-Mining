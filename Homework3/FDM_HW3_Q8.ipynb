{
  "nbformat": 4,
  "nbformat_minor": 0,
  "metadata": {
    "colab": {
      "name": "FDM-HW3-Q8.ipynb",
      "provenance": [],
      "collapsed_sections": []
    },
    "kernelspec": {
      "name": "python3",
      "display_name": "Python 3"
    },
    "language_info": {
      "name": "python"
    }
  },
  "cells": [
    {
      "cell_type": "markdown",
      "source": [
        "# <div dir=\"rtl\">سوال هشتم</div>\n",
        "\n",
        "<div dir=\"rtl\">\n",
        "\n",
        "\n",
        "\n",
        "<div>"
      ],
      "metadata": {
        "id": "lhWWuwSNUuzH"
      }
    },
    {
      "cell_type": "markdown",
      "source": [
        "\n",
        "<div dir=\"rtl\">\n",
        "\n",
        "در این سلول ماژول‌های مورد نیاز را به نوت‌بوک اضافه می‌کنیم:\n",
        "\n",
        "<div>"
      ],
      "metadata": {
        "id": "4Xy8CcOMU6Vy"
      }
    },
    {
      "cell_type": "code",
      "execution_count": 1,
      "metadata": {
        "id": "lu7X9HL0Vwh1"
      },
      "outputs": [],
      "source": [
        "import numpy as np\n",
        "from sklearn import datasets\n",
        "from sklearn.model_selection import train_test_split\n",
        "from sklearn.svm import LinearSVC\n",
        "from sklearn.svm import SVC\n",
        "from sklearn.metrics import confusion_matrix\n",
        "import matplotlib.pyplot as plt"
      ]
    },
    {
      "cell_type": "markdown",
      "source": [
        "\n",
        "<div dir=\"rtl\">\n",
        "\n",
        "در این قسمت دیتاست iris را لود می‌کنیم. سپس 80 درصد از دادگان را برای آموزش و 20 درصد از آن را برای تست جداسازی می‌کنیم:\n",
        "\n",
        "<div>"
      ],
      "metadata": {
        "id": "zCIgMUMpU5Q_"
      }
    },
    {
      "cell_type": "code",
      "source": [
        "iris = datasets.load_iris()\n",
        "X = iris.data\n",
        "y = iris.target\n",
        "X_train, X_test, y_train, y_test = train_test_split(X, y, test_size=0.2, random_state=42)"
      ],
      "metadata": {
        "id": "4le0hwMpWWN3"
      },
      "execution_count": 2,
      "outputs": []
    },
    {
      "cell_type": "markdown",
      "source": [
        "\n",
        "<div dir=\"rtl\">\n",
        "\n",
        "حالا با استفاده از الگوریتم SVM خطی کلاسیفایرمان را آموزش می‌دهیم و با کمک داده‌های تست عملکرد آن را می‌سنجیم:\n",
        "\n",
        "<div>"
      ],
      "metadata": {
        "id": "k6EE7l7YV1DS"
      }
    },
    {
      "cell_type": "code",
      "source": [
        "linsvc = LinearSVC()\n",
        "linsvc.fit(X_train,y_train)\n",
        "y_test_predict = linsvc.predict(X_test)\n",
        "linsvc.score(X_test, y_test)"
      ],
      "metadata": {
        "colab": {
          "base_uri": "https://localhost:8080/"
        },
        "id": "zlqjkW8zW1n2",
        "outputId": "bf813504-3918-4214-f871-326621448a0c"
      },
      "execution_count": 13,
      "outputs": [
        {
          "output_type": "stream",
          "name": "stderr",
          "text": [
            "/usr/local/lib/python3.7/dist-packages/sklearn/svm/_base.py:1208: ConvergenceWarning: Liblinear failed to converge, increase the number of iterations.\n",
            "  ConvergenceWarning,\n"
          ]
        },
        {
          "output_type": "execute_result",
          "data": {
            "text/plain": [
              "1.0"
            ]
          },
          "metadata": {},
          "execution_count": 13
        }
      ]
    },
    {
      "cell_type": "markdown",
      "source": [
        "\n",
        "<div dir=\"rtl\">\n",
        "\n",
        "برای تحلیل عملکرد این مدل confusion matrix رانمایش می‌دهیم.\n",
        "\n",
        "با توجه به اینکه صحت 100 درصد داشتیم مشاهده نیز می‌کنیم که تمام داده‌ها به درستی در کلاس خود قرار گرفته‌اند.\n",
        "<div>"
      ],
      "metadata": {
        "id": "ETf91Cc-WIeC"
      }
    },
    {
      "cell_type": "code",
      "source": [
        "confusion_matrix(y_test, y_test_predict)"
      ],
      "metadata": {
        "colab": {
          "base_uri": "https://localhost:8080/"
        },
        "id": "IBBgeToyY0HB",
        "outputId": "6cc9ec72-0e92-4433-88cf-1ef611da88f2"
      },
      "execution_count": 14,
      "outputs": [
        {
          "output_type": "execute_result",
          "data": {
            "text/plain": [
              "array([[10,  0,  0],\n",
              "       [ 0,  9,  0],\n",
              "       [ 0,  0, 11]])"
            ]
          },
          "metadata": {},
          "execution_count": 14
        }
      ]
    },
    {
      "cell_type": "markdown",
      "source": [
        "\n",
        "<div dir=\"rtl\">\n",
        "\n",
        "در دو سلول زیر نیز هدفی مشابه سلول‌های قبلی داریم با این تفاوت که بجای استفاده از Linearsvc از SVC با کرنل linear استفاده کرده‌ایم.\n",
        "\n",
        "همانطور که بصورت واضحی مشخص است نتایج مانند روش قبلی است و به صحت 100 درصد رسیده ایم.\n",
        "\n",
        "<div>"
      ],
      "metadata": {
        "id": "iw1w59gjWmbJ"
      }
    },
    {
      "cell_type": "code",
      "source": [
        "linsvc2 = SVC(kernel = 'linear')\n",
        "linsvc2.fit(X_train,y_train)\n",
        "y_test_predict2 = linsvc2.predict(X_test)\n",
        "linsvc2.score(X_test, y_test)"
      ],
      "metadata": {
        "colab": {
          "base_uri": "https://localhost:8080/"
        },
        "id": "869xX5TjX-p-",
        "outputId": "aa49d7ac-27f0-45ed-a2b6-a274f0b9ac67"
      },
      "execution_count": 17,
      "outputs": [
        {
          "output_type": "execute_result",
          "data": {
            "text/plain": [
              "1.0"
            ]
          },
          "metadata": {},
          "execution_count": 17
        }
      ]
    },
    {
      "cell_type": "code",
      "source": [
        "confusion_matrix(y_test, y_test_predict2)"
      ],
      "metadata": {
        "colab": {
          "base_uri": "https://localhost:8080/"
        },
        "id": "U8WaqsyeYOfL",
        "outputId": "9cf5c452-ff71-47d0-a555-6fe38a1fbcce"
      },
      "execution_count": 16,
      "outputs": [
        {
          "output_type": "execute_result",
          "data": {
            "text/plain": [
              "array([[10,  0,  0],\n",
              "       [ 0,  9,  0],\n",
              "       [ 0,  0, 11]])"
            ]
          },
          "metadata": {},
          "execution_count": 16
        }
      ]
    },
    {
      "cell_type": "markdown",
      "source": [
        "# <div dir=\"rtl\"> قسمت b</div>\n",
        "\n",
        "<div dir=\"rtl\">\n",
        "\n",
        "در این قسمت با استفاده از متود SVC و با کرنل Polynomail قصد داریم داده‌ها را دسته‌بندی کنیم.\n",
        "\n",
        "برای اینکه بهترین پارامتر را پیدا کنیم پارامتر چند جمله ای را از 1 تا 10 تغییر میدهیم و صحت مراحل مختلف را در یک لیست ثبت می‌کنیم.\n",
        "\n",
        "<div>"
      ],
      "metadata": {
        "id": "nwrrxGmoW_i2"
      }
    },
    {
      "cell_type": "code",
      "source": [
        "acc_list = []\n",
        "for value in range(1, 11):\n",
        "  polysvc = SVC(kernel = 'poly', degree=value)\n",
        "  polysvc.fit(X_train,y_train)\n",
        "  acc_list.append(polysvc.score(X_test, y_test))"
      ],
      "metadata": {
        "id": "DYDKlHbRZGgU"
      },
      "execution_count": 20,
      "outputs": []
    },
    {
      "cell_type": "markdown",
      "source": [
        "\n",
        "<div dir=\"rtl\">\n",
        "\n",
        "حالا برای درک بهتر عملکرد این مدل به ازای پارامترهای گوناگون صحت مدل روی داده‌های تست را براساس پارامتر چندجمله ای رسم میکنیم.\n",
        "\n",
        "همانطور که قابل مشاهده است میینیم که از تعداد 1 تا 7 با صحت 100 درصد داده ها کلاسبندی شده اند اما از پارامتر 8 به بعد بیش‌برازش اتفاق افتاده و عملکرد مدل تداوما بدتر از قبل شده است.\n",
        "\n",
        "<div>"
      ],
      "metadata": {
        "id": "B1u9rK3IXhQz"
      }
    },
    {
      "cell_type": "code",
      "source": [
        "plt.scatter(np.arange(1,11),acc_list)"
      ],
      "metadata": {
        "id": "Wo3kL5nWa4yh",
        "colab": {
          "base_uri": "https://localhost:8080/",
          "height": 282
        },
        "outputId": "25f83461-e69e-4b9f-ccce-b088790e28d9"
      },
      "execution_count": 21,
      "outputs": [
        {
          "output_type": "execute_result",
          "data": {
            "text/plain": [
              "<matplotlib.collections.PathCollection at 0x7fbbe377ab50>"
            ]
          },
          "metadata": {},
          "execution_count": 21
        },
        {
          "output_type": "display_data",
          "data": {
            "text/plain": [
              "<Figure size 432x288 with 1 Axes>"
            ],
            "image/png": "[encoded data removed]"
          },
          "metadata": {
            "needs_background": "light"
          }
        }
      ]
    },
    {
      "cell_type": "markdown",
      "source": [
        "# <div dir=\"rtl\"> قسمت b</div>\n",
        "\n",
        "<div dir=\"rtl\">\n",
        "\n",
        "با بررسی قسمت قبل درمی‌یابیم که بهترین صحت به ازای پارامتر 1 تا 7 هست، بدلیل سادگی مجموعه داده مدلهای ساده نیز عملکرد خوبی دارند اما من پارامتر 7 را بعنوان پارامتر بهینه انتخاب میکنم.\n",
        "\n",
        "<div>"
      ],
      "metadata": {
        "id": "fItraYPDao4s"
      }
    },
    {
      "cell_type": "code",
      "source": [
        "polysvc = SVC(kernel = 'poly', degree=7)\n",
        "polysvc.fit(X_train,y_train)\n",
        "y_test_predict4 = polysvc.predict(X_test)\n",
        "polysvc.score(X_test, y_test)"
      ],
      "metadata": {
        "id": "WdTvABXVgtZA",
        "colab": {
          "base_uri": "https://localhost:8080/"
        },
        "outputId": "83fadfa2-51ea-4a7e-ab04-1fddb19af7dd"
      },
      "execution_count": 22,
      "outputs": [
        {
          "output_type": "execute_result",
          "data": {
            "text/plain": [
              "1.0"
            ]
          },
          "metadata": {},
          "execution_count": 22
        }
      ]
    },
    {
      "cell_type": "markdown",
      "source": [
        "\n",
        "<div dir=\"rtl\">\n",
        "\n",
        "با این مدل به صحت 100 درصد می‌رسیم. اگر confusion matrix این مدل را بررسی کنیم درمی‌یابیم که همه ی نمونه ها به درستی سلاسبندی شده اند.\n",
        "\n",
        "<div>"
      ],
      "metadata": {
        "id": "FsDpxMCebDqa"
      }
    },
    {
      "cell_type": "code",
      "source": [
        "confusion_matrix(y_test, y_test_predict4)"
      ],
      "metadata": {
        "colab": {
          "base_uri": "https://localhost:8080/"
        },
        "id": "2QrKJTKoJrZW",
        "outputId": "0eddf125-f451-4a44-dbf9-ee9448f21380"
      },
      "execution_count": 23,
      "outputs": [
        {
          "output_type": "execute_result",
          "data": {
            "text/plain": [
              "array([[10,  0,  0],\n",
              "       [ 0,  9,  0],\n",
              "       [ 0,  0, 11]])"
            ]
          },
          "metadata": {},
          "execution_count": 23
        }
      ]
    }
  ]
}