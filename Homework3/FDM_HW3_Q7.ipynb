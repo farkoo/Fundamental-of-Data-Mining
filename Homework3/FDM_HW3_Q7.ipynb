{
  "nbformat": 4,
  "nbformat_minor": 0,
  "metadata": {
    "colab": {
      "name": "FDM-HW3-Q7.ipynb",
      "provenance": [],
      "collapsed_sections": []
    },
    "kernelspec": {
      "name": "python3",
      "display_name": "Python 3"
    },
    "language_info": {
      "name": "python"
    }
  },
  "cells": [
    {
      "cell_type": "markdown",
      "source": [
        "# <div dir=\"rtl\">سوال هفتم</div>\n",
        "\n",
        "<div dir=\"rtl\">\n",
        "\n",
        "\n",
        "\n",
        "<div>"
      ],
      "metadata": {
        "id": "X5O4xecXb3cr"
      }
    },
    {
      "cell_type": "code",
      "source": [
        "%cd drive/MyDrive/DataMining/hw3"
      ],
      "metadata": {
        "colab": {
          "base_uri": "https://localhost:8080/"
        },
        "id": "II-T_69xKSqI",
        "outputId": "3aef2083-486f-4f6f-84c0-f1617552e1d3"
      },
      "execution_count": 58,
      "outputs": [
        {
          "output_type": "stream",
          "name": "stdout",
          "text": [
            "[Errno 2] No such file or directory: 'drive/MyDrive/DataMining/hw3'\n",
            "/content/drive/MyDrive/DataMining/hw3\n"
          ]
        }
      ]
    },
    {
      "cell_type": "markdown",
      "source": [
        "\n",
        "<div dir=\"rtl\">\n",
        "\n",
        "در این سلول ماژول‌های مورد نیاز را به نوت‌بوک اضافه می‌کنیم:\n",
        "\n",
        "<div>"
      ],
      "metadata": {
        "id": "MFqFOzeAb2QJ"
      }
    },
    {
      "cell_type": "code",
      "execution_count": 59,
      "metadata": {
        "id": "alKuI7nmhtkl"
      },
      "outputs": [],
      "source": [
        "import numpy as np\n",
        "import pandas as pd\n",
        "from sklearn import datasets\n",
        "from sklearn.model_selection import train_test_split\n",
        "from sklearn.neighbors import KNeighborsClassifier\n",
        "from sklearn import preprocessing\n",
        "import matplotlib.pyplot as plt\n",
        "from sklearn.metrics import confusion_matrix\n"
      ]
    },
    {
      "cell_type": "markdown",
      "source": [
        "#a."
      ],
      "metadata": {
        "id": "FqXk4F09MRZr"
      }
    },
    {
      "cell_type": "markdown",
      "source": [
        "\n",
        "<div dir=\"rtl\">\n",
        "\n",
        "در این قسمت دیتاست iris را لود می‌کنیم. سپس 80 درصد از دادگان را برای آموزش و 20 درصد از آن را برای تست جداسازی می‌کنیم\n",
        "\n",
        "سپس داده‌های آموزشی را نرمال میکنیم:\n",
        "\n",
        "\n",
        "<div>"
      ],
      "metadata": {
        "id": "UPeqN3WYcA5W"
      }
    },
    {
      "cell_type": "code",
      "source": [
        "iris = datasets.load_iris()\n",
        "X = iris.data\n",
        "y = iris.target\n",
        "X_train, X_test, y_train, y_test = train_test_split(X, y, test_size=0.2, random_state=42)\n",
        "X_train_nor = preprocessing.normalize(X_train)"
      ],
      "metadata": {
        "id": "xoXVbn0Til-P"
      },
      "execution_count": 60,
      "outputs": []
    },
    {
      "cell_type": "markdown",
      "source": [
        "\n",
        "<div dir=\"rtl\">\n",
        "\n",
        "حال با استفاده از روش KNN و الگوریتم KDTree سعی می‌کنیم داده‌ها را کلاسبندی کنیم.\n",
        "\n",
        "برای اینکه بهترین مقدار برای تعداد همسایه‌ها را بیابیم از تعداد 1 تا 30 همسایه را امتحان میکنیم و صحت مدل روی داده‌های تست را درون یک لیست ذخیره میکنیم.\n",
        "\n",
        "<div>"
      ],
      "metadata": {
        "id": "-KHoPqNsdlUo"
      }
    },
    {
      "cell_type": "code",
      "source": [
        "acc_list_kdtree = []\n",
        "for value in range(1, 31):\n",
        "  knn_kdtree = KNeighborsClassifier(n_neighbors=value, algorithm=\"kd_tree\")\n",
        "  knn_kdtree.fit(X_train_nor,y_train)\n",
        "  acc_list_kdtree.append(knn_kdtree.score(X_test, y_test))"
      ],
      "metadata": {
        "id": "FjIAJgn2ipKA"
      },
      "execution_count": 61,
      "outputs": []
    },
    {
      "cell_type": "markdown",
      "source": [
        "\n",
        "<div dir=\"rtl\">\n",
        "\n",
        "نمودار مقدار صحت مدل روی داده‌های تست را بر اساس تعداد همسایه رسم می‌کنیم تا دید بهتری نسبت به عملکرد این الگوریتم داشته باشیم.\n",
        "\n",
        "<div>"
      ],
      "metadata": {
        "id": "Uvy9bGBNeAq9"
      }
    },
    {
      "cell_type": "code",
      "source": [
        "plt.scatter(np.arange(1,31),acc_list_kdtree)"
      ],
      "metadata": {
        "colab": {
          "base_uri": "https://localhost:8080/",
          "height": 282
        },
        "id": "3OOaLVY26Xbg",
        "outputId": "b3d4961a-6bb9-4a7c-9a03-ffffce904233"
      },
      "execution_count": 62,
      "outputs": [
        {
          "output_type": "execute_result",
          "data": {
            "text/plain": [
              "<matplotlib.collections.PathCollection at 0x7f14af759390>"
            ]
          },
          "metadata": {},
          "execution_count": 62
        },
        {
          "output_type": "display_data",
          "data": {
            "text/plain": [
              "<Figure size 432x288 with 1 Axes>"
            ],
            "image/png": "[encoded data removed]"
          },
          "metadata": {
            "needs_background": "light"
          }
        }
      ]
    },
    {
      "cell_type": "markdown",
      "source": [
        "<div dir=\"rtl\">\n",
        "\n",
        "با بررسی نمودار بالا میبینیم که از k 23 به بعد مدل دچار بیش برازش شده است و برای k های 1 تا 4 و 9 تا 14 مدل موفق نشده است بعضی از نمونه ها را به درستی دسته بندی کند.\n",
        "\n",
        "من مدل با تعداد همسایه برابر با 20 را بعنوان مدل بهینه انتخاب میکنم و داده‌ها را بوسیله این مدل دسته بندی میکنم:\n",
        "\n",
        "<div>"
      ],
      "metadata": {
        "id": "DSKpwSWuiUlK"
      }
    },
    {
      "cell_type": "code",
      "source": [
        "knn_kdtree = KNeighborsClassifier(n_neighbors=20, algorithm=\"kd_tree\")\n",
        "knn_kdtree.fit(X_train_nor,y_train)\n",
        "y_test_kdtree = knn_kdtree.predict(X_test)\n",
        "knn_kdtree.score(X_test, y_test)"
      ],
      "metadata": {
        "colab": {
          "base_uri": "https://localhost:8080/"
        },
        "id": "Nex2t5oV6v-t",
        "outputId": "677a97e0-2a0b-47a7-f10f-681f37552520"
      },
      "execution_count": 63,
      "outputs": [
        {
          "output_type": "execute_result",
          "data": {
            "text/plain": [
              "1.0"
            ]
          },
          "metadata": {},
          "execution_count": 63
        }
      ]
    },
    {
      "cell_type": "markdown",
      "source": [
        "\n",
        "\n",
        "\n",
        "<div dir=\"rtl\">\n",
        "\n",
        "در این قسمت برای مدلی که بالاتر شرح دادم confusion matrix را نمایش می‌دهیم.\n",
        "\n",
        "از آنجا که به صحت 100 درصد رسیده ایم درمیابیم که همه ی نمونه ها به درستی دسته بندی شده است و با توجه به confusion matrix هم به همین نتیجه میرسیم.\n",
        "\n",
        "<div>"
      ],
      "metadata": {
        "id": "8Tf2FSvzjMyv"
      }
    },
    {
      "cell_type": "code",
      "source": [
        "confusion_matrix(y_test, y_test_kdtree)"
      ],
      "metadata": {
        "colab": {
          "base_uri": "https://localhost:8080/"
        },
        "id": "EEoXTQ_i7HZm",
        "outputId": "b86306b4-7018-43d6-c0ae-4c08f85a0a87"
      },
      "execution_count": 64,
      "outputs": [
        {
          "output_type": "execute_result",
          "data": {
            "text/plain": [
              "array([[10,  0,  0],\n",
              "       [ 0,  9,  0],\n",
              "       [ 0,  0, 11]])"
            ]
          },
          "metadata": {},
          "execution_count": 64
        }
      ]
    },
    {
      "cell_type": "markdown",
      "source": [
        "#b."
      ],
      "metadata": {
        "id": "VWCufhI_MfSN"
      }
    },
    {
      "cell_type": "markdown",
      "source": [
        "\n",
        "<div dir=\"rtl\">\n",
        "\n",
        "حال با استفاده از روش KNN و الگوریتم ball tree سعی می‌کنیم داده‌ها را کلاسبندی کنیم.\n",
        "\n",
        "برای اینکه بهترین مقدار برای تعداد همسایه‌ها را بیابیم از تعداد 1 تا 30 همسایه را امتحان میکنیم و صحت مدل روی داده‌های تست را درون یک لیست ذخیره میکنیم.\n",
        "\n",
        "<div>"
      ],
      "metadata": {
        "id": "nB50-FGqjq9Q"
      }
    },
    {
      "cell_type": "code",
      "source": [
        "acc_list_balltree = []\n",
        "for value in range(1, 31):\n",
        "  knn_balltree = KNeighborsClassifier(n_neighbors=value, algorithm=\"ball_tree\")\n",
        "  knn_balltree.fit(X_train_nor,y_train)\n",
        "  acc_list_balltree.append(knn_balltree.score(X_test, y_test))"
      ],
      "metadata": {
        "id": "6jiUw_nE70oq"
      },
      "execution_count": 65,
      "outputs": []
    },
    {
      "cell_type": "markdown",
      "source": [
        "\n",
        "<div dir=\"rtl\">\n",
        "\n",
        "نمودار مقدار صحت مدل روی داده‌های تست را بر اساس تعداد همسایه رسم می‌کنیم تا دید بهتری نسبت به عملکرد این الگوریتم داشته باشیم.\n",
        "\n",
        "<div>"
      ],
      "metadata": {
        "id": "ESimlVNrjwl6"
      }
    },
    {
      "cell_type": "code",
      "source": [
        "plt.scatter(np.arange(1,31),acc_list_balltree)"
      ],
      "metadata": {
        "colab": {
          "base_uri": "https://localhost:8080/",
          "height": 282
        },
        "id": "QlSMSjpL84rZ",
        "outputId": "b04b8f69-34ec-4cc8-e6e9-ff39348aa44a"
      },
      "execution_count": 66,
      "outputs": [
        {
          "output_type": "execute_result",
          "data": {
            "text/plain": [
              "<matplotlib.collections.PathCollection at 0x7f14af759610>"
            ]
          },
          "metadata": {},
          "execution_count": 66
        },
        {
          "output_type": "display_data",
          "data": {
            "text/plain": [
              "<Figure size 432x288 with 1 Axes>"
            ],
            "image/png": "[encoded data removed]"
          },
          "metadata": {
            "needs_background": "light"
          }
        }
      ]
    },
    {
      "cell_type": "markdown",
      "source": [
        "<div dir=\"rtl\">\n",
        "\n",
        "با بررسی نمودار بالا میبینیم که از k 23 به بعد مدل دچار بیش برازش شده است و برای k های 1 تا 4 و 9 تا 14 مدل موفق نشده است بعضی از نمونه ها را به درستی دسته بندی کند.\n",
        "\n",
        "من مدل با تعداد همسایه برابر با 20 را بعنوان مدل بهینه انتخاب میکنم و داده‌ها را بوسیله این مدل دسته بندی میکنم:\n",
        "\n",
        "<div>"
      ],
      "metadata": {
        "id": "txw2TBkOlkpT"
      }
    },
    {
      "cell_type": "code",
      "source": [
        "knn_balltree = KNeighborsClassifier(n_neighbors=20, algorithm=\"ball_tree\")\n",
        "knn_balltree.fit(X_train_nor,y_train)\n",
        "y_test_balltree = knn_balltree.predict(X_test)\n",
        "knn_balltree.score(X_test, y_test)"
      ],
      "metadata": {
        "colab": {
          "base_uri": "https://localhost:8080/"
        },
        "id": "FJhMCiXZ87n7",
        "outputId": "051e07df-ce0e-4392-f7b2-23e58889ee41"
      },
      "execution_count": 67,
      "outputs": [
        {
          "output_type": "execute_result",
          "data": {
            "text/plain": [
              "1.0"
            ]
          },
          "metadata": {},
          "execution_count": 67
        }
      ]
    },
    {
      "cell_type": "code",
      "source": [
        "confusion_matrix(y_test, y_test_balltree)"
      ],
      "metadata": {
        "colab": {
          "base_uri": "https://localhost:8080/"
        },
        "id": "VIi4vDjO9NZ4",
        "outputId": "f49e09e8-66cf-4085-c447-131e09ec7e99"
      },
      "execution_count": 68,
      "outputs": [
        {
          "output_type": "execute_result",
          "data": {
            "text/plain": [
              "array([[10,  0,  0],\n",
              "       [ 0,  9,  0],\n",
              "       [ 0,  0, 11]])"
            ]
          },
          "metadata": {},
          "execution_count": 68
        }
      ]
    },
    {
      "cell_type": "code",
      "source": [
        "iris = datasets.load_iris()\n",
        "iris.data.shape"
      ],
      "metadata": {
        "colab": {
          "base_uri": "https://localhost:8080/"
        },
        "id": "h-fJL13J3ffc",
        "outputId": "a0a14a7d-e647-400e-d15f-a173e220e512"
      },
      "execution_count": 69,
      "outputs": [
        {
          "output_type": "execute_result",
          "data": {
            "text/plain": [
              "(150, 4)"
            ]
          },
          "metadata": {},
          "execution_count": 69
        }
      ]
    },
    {
      "cell_type": "markdown",
      "source": [
        "# <div dir=\"rtl\">نتیجه گیری قسمت a و b:</div>\n",
        "\n",
        "<div dir=\"rtl\">\n",
        "\n",
        "با توجه به اینکه تعداد نمونه ها و ویژگیهای دیتاست iris خیلی زیاد نیست هر دو روش نتیجه یکسانی دارند.\n",
        "\n",
        "این موضوع را با بررسی نمودار صحت براساس تعداد همسایه و همچنین ماتریس confusion نیز میتوان دریافت.\n",
        "\n",
        "<div>"
      ],
      "metadata": {
        "id": "CSOk9JXN2xrV"
      }
    },
    {
      "cell_type": "markdown",
      "source": [
        "#c."
      ],
      "metadata": {
        "id": "QJ-KpMUYMV5p"
      }
    },
    {
      "cell_type": "markdown",
      "source": [
        "<div dir=\"rtl\">\n",
        "\n",
        "در سه سلول بعدی ابتدا دیتاست pop_failures را می‌خوانیم.\n",
        "\n",
        "سپس داده ها را از برچسب جدا میکنیم.\n",
        "\n",
        "در گام داده‌ها را به دو بخش آموزش و تست با توزیع 80/20 تقسیم می‌کنیم.\n",
        "\n",
        "نهایتا داده‌های آموزشی را نرمالسازی می‌کنیم:\n",
        "\n",
        "<div>"
      ],
      "metadata": {
        "id": "sO3eDe83lqUK"
      }
    },
    {
      "cell_type": "code",
      "source": [
        "df_pop_failures = pd.read_csv(\"pop_failures.csv\")"
      ],
      "metadata": {
        "id": "Jcq6B6ua9Vy1"
      },
      "execution_count": 70,
      "outputs": []
    },
    {
      "cell_type": "code",
      "source": [
        "df_pop_failures = df_pop_failures.drop(['Unnamed: 0'], axis=1)\n",
        "y = df_pop_failures['outcome']\n",
        "X = df_pop_failures.drop(['outcome'], axis=1)"
      ],
      "metadata": {
        "id": "a7kaBtVVKuzd"
      },
      "execution_count": 71,
      "outputs": []
    },
    {
      "cell_type": "code",
      "source": [
        "X_train, X_test, y_train, y_test = train_test_split(X, y, test_size=0.2, random_state=42)\n",
        "X_train_nor = preprocessing.normalize(X_train)"
      ],
      "metadata": {
        "id": "gndbo2kdLBCp"
      },
      "execution_count": 72,
      "outputs": []
    },
    {
      "cell_type": "markdown",
      "source": [
        "\n",
        "<div dir=\"rtl\">\n",
        "\n",
        "حال با استفاده از روش KNN و الگوریتم KDTree سعی می‌کنیم داده‌ها را کلاسبندی کنیم.\n",
        "\n",
        "برای اینکه بهترین مقدار برای تعداد همسایه‌ها را بیابیم از تعداد 1 تا 30 همسایه را امتحان میکنیم و صحت مدل روی داده‌های تست را درون یک لیست ذخیره میکنیم.\n",
        "\n",
        "<div>"
      ],
      "metadata": {
        "id": "dUdZBeQqmGwc"
      }
    },
    {
      "cell_type": "code",
      "source": [
        "acc_list_kdtree = []\n",
        "for value in range(1, 31):\n",
        "  knn_kdtree = KNeighborsClassifier(n_neighbors=value, algorithm=\"kd_tree\")\n",
        "  knn_kdtree.fit(X_train_nor,y_train)\n",
        "  acc_list_kdtree.append(knn_kdtree.score(X_test, y_test))"
      ],
      "metadata": {
        "id": "D-PI9ACZLcpu"
      },
      "execution_count": null,
      "outputs": []
    },
    {
      "cell_type": "markdown",
      "source": [
        "\n",
        "<div dir=\"rtl\">\n",
        "\n",
        "نمودار مقدار صحت مدل روی داده‌های تست را بر اساس تعداد همسایه رسم می‌کنیم تا دید بهتری نسبت به عملکرد این الگوریتم داشته باشیم.\n",
        "\n",
        "<div>"
      ],
      "metadata": {
        "id": "Qz81oKe0mMzm"
      }
    },
    {
      "cell_type": "code",
      "source": [
        "plt.scatter(np.arange(1,31),acc_list_kdtree)"
      ],
      "metadata": {
        "colab": {
          "base_uri": "https://localhost:8080/",
          "height": 282
        },
        "id": "IItBFfoBLfiX",
        "outputId": "8cc9286b-2dec-444f-a9ee-91ffc6ab69a8"
      },
      "execution_count": 74,
      "outputs": [
        {
          "output_type": "execute_result",
          "data": {
            "text/plain": [
              "<matplotlib.collections.PathCollection at 0x7f14af682650>"
            ]
          },
          "metadata": {},
          "execution_count": 74
        },
        {
          "output_type": "display_data",
          "data": {
            "text/plain": [
              "<Figure size 432x288 with 1 Axes>"
            ],
            "image/png": "[encoded data removed]"
          },
          "metadata": {
            "needs_background": "light"
          }
        }
      ]
    },
    {
      "cell_type": "markdown",
      "source": [
        "<div dir=\"rtl\">\n",
        "\n",
        "با بررسی نمودار بالا متوجه میشویم که بهترین صحت به ازای k برابر با 3 رخ میدهد و حدودا میتوان گفت بعد از این بجز برای k 5 و 6 مدل مبا افزایش تعداد همسایه ها دچار بیش برازش شده و وضعیت بدتری پیدا کرده است.\n",
        "\n",
        "من مدل با تعداد همسایه برابر با 3 را بعنوان مدل بهینه انتخاب میکنم و داده‌ها را بوسیله این مدل دسته بندی میکنم:\n",
        "\n",
        "<div>"
      ],
      "metadata": {
        "id": "mDqOTSBrmRUk"
      }
    },
    {
      "cell_type": "code",
      "source": [
        "knn_kdtree = KNeighborsClassifier(n_neighbors=3, algorithm=\"kd_tree\")\n",
        "knn_kdtree.fit(X_train_nor,y_train)\n",
        "y_test_kdtree = knn_kdtree.predict(X_test)\n",
        "knn_kdtree.score(X_test, y_test)"
      ],
      "metadata": {
        "colab": {
          "base_uri": "https://localhost:8080/"
        },
        "id": "sHU9-0wYLiiL",
        "outputId": "55f60ccc-2f3b-4805-d08c-c3ef55c6c851"
      },
      "execution_count": 75,
      "outputs": [
        {
          "output_type": "stream",
          "name": "stderr",
          "text": [
            "/usr/local/lib/python3.7/dist-packages/sklearn/base.py:444: UserWarning: X has feature names, but KNeighborsClassifier was fitted without feature names\n",
            "  f\"X has feature names, but {self.__class__.__name__} was fitted without\"\n",
            "/usr/local/lib/python3.7/dist-packages/sklearn/base.py:444: UserWarning: X has feature names, but KNeighborsClassifier was fitted without feature names\n",
            "  f\"X has feature names, but {self.__class__.__name__} was fitted without\"\n"
          ]
        },
        {
          "output_type": "execute_result",
          "data": {
            "text/plain": [
              "0.9351851851851852"
            ]
          },
          "metadata": {},
          "execution_count": 75
        }
      ]
    },
    {
      "cell_type": "markdown",
      "source": [
        "<div dir=\"rtl\">\n",
        "\n",
        "داده‌ها را با مدل بالا کلاسبندی میکنیم و با رسم confusion matrix میبینیم از 108 نمونه 7 نمونه نادرست کلاسبندی شده اند:\n",
        "\n",
        "<div>"
      ],
      "metadata": {
        "id": "LVFQ-rvhmrpQ"
      }
    },
    {
      "cell_type": "code",
      "source": [
        "confusion_matrix(y_test, y_test_kdtree)"
      ],
      "metadata": {
        "colab": {
          "base_uri": "https://localhost:8080/"
        },
        "id": "O1Z06rB1Lu_L",
        "outputId": "11120a29-0aa8-413f-d32a-a4ef4e314363"
      },
      "execution_count": 76,
      "outputs": [
        {
          "output_type": "execute_result",
          "data": {
            "text/plain": [
              "array([[ 3,  7],\n",
              "       [ 0, 98]])"
            ]
          },
          "metadata": {},
          "execution_count": 76
        }
      ]
    },
    {
      "cell_type": "markdown",
      "source": [
        "\n",
        "<div dir=\"rtl\">\n",
        "\n",
        "حال با استفاده از روش KNN و الگوریتم ball tree سعی می‌کنیم داده‌ها را کلاسبندی کنیم.\n",
        "\n",
        "برای اینکه بهترین مقدار برای تعداد همسایه‌ها را بیابیم از تعداد 1 تا 30 همسایه را امتحان میکنیم و صحت مدل روی داده‌های تست را درون یک لیست ذخیره میکنیم.\n",
        "\n",
        "<div>"
      ],
      "metadata": {
        "id": "XXnIDGiym_By"
      }
    },
    {
      "cell_type": "code",
      "source": [
        "acc_list_balltree = []\n",
        "for value in range(1, 31):\n",
        "  knn_balltree = KNeighborsClassifier(n_neighbors=value, algorithm=\"ball_tree\")\n",
        "  knn_balltree.fit(X_train_nor,y_train)\n",
        "  acc_list_balltree.append(knn_balltree.score(X_test, y_test))"
      ],
      "metadata": {
        "id": "7wXISmbBLyaQ"
      },
      "execution_count": null,
      "outputs": []
    },
    {
      "cell_type": "markdown",
      "source": [
        "\n",
        "<div dir=\"rtl\">\n",
        "\n",
        "نمودار مقدار صحت مدل روی داده‌های تست را بر اساس تعداد همسایه رسم می‌کنیم تا دید بهتری نسبت به عملکرد این الگوریتم داشته باشیم.\n",
        "\n",
        "<div>"
      ],
      "metadata": {
        "id": "NM4prMFZnEXz"
      }
    },
    {
      "cell_type": "code",
      "source": [
        "plt.scatter(np.arange(1,31),acc_list_balltree)"
      ],
      "metadata": {
        "colab": {
          "base_uri": "https://localhost:8080/",
          "height": 282
        },
        "id": "ihLnNntiL04x",
        "outputId": "54560ae1-8a9f-463b-cf47-a10056b53f22"
      },
      "execution_count": 78,
      "outputs": [
        {
          "output_type": "execute_result",
          "data": {
            "text/plain": [
              "<matplotlib.collections.PathCollection at 0x7f14af5fe950>"
            ]
          },
          "metadata": {},
          "execution_count": 78
        },
        {
          "output_type": "display_data",
          "data": {
            "text/plain": [
              "<Figure size 432x288 with 1 Axes>"
            ],
            "image/png": "[encoded data removed]"
          },
          "metadata": {
            "needs_background": "light"
          }
        }
      ]
    },
    {
      "cell_type": "markdown",
      "source": [
        "<div dir=\"rtl\">\n",
        "\n",
        "با بررسی نمودار بالا متوجه میشویم که بهترین صحت به ازای k برابر با 3 رخ میدهد و حدودا میتوان گفت بعد از این بجز برای k 5 و 6 مدل مبا افزایش تعداد همسایه ها دچار بیش برازش شده و وضعیت بدتری پیدا کرده است.\n",
        "\n",
        "من مدل با تعداد همسایه برابر با 3 را بعنوان مدل بهینه انتخاب میکنم و داده‌ها را بوسیله این مدل دسته بندی میکنم:\n",
        "\n",
        "<div>"
      ],
      "metadata": {
        "id": "x9BtmSILoOE-"
      }
    },
    {
      "cell_type": "code",
      "source": [
        "knn_balltree = KNeighborsClassifier(n_neighbors=3, algorithm=\"ball_tree\")\n",
        "knn_balltree.fit(X_train_nor,y_train)\n",
        "y_test_balltree = knn_balltree.predict(X_test)\n",
        "knn_balltree.score(X_test, y_test)"
      ],
      "metadata": {
        "colab": {
          "base_uri": "https://localhost:8080/"
        },
        "id": "TWXEsiw3L4eN",
        "outputId": "73e056db-92ff-44a4-c8fd-72bc6efd7fd8"
      },
      "execution_count": 79,
      "outputs": [
        {
          "output_type": "stream",
          "name": "stderr",
          "text": [
            "/usr/local/lib/python3.7/dist-packages/sklearn/base.py:444: UserWarning: X has feature names, but KNeighborsClassifier was fitted without feature names\n",
            "  f\"X has feature names, but {self.__class__.__name__} was fitted without\"\n",
            "/usr/local/lib/python3.7/dist-packages/sklearn/base.py:444: UserWarning: X has feature names, but KNeighborsClassifier was fitted without feature names\n",
            "  f\"X has feature names, but {self.__class__.__name__} was fitted without\"\n"
          ]
        },
        {
          "output_type": "execute_result",
          "data": {
            "text/plain": [
              "0.9351851851851852"
            ]
          },
          "metadata": {},
          "execution_count": 79
        }
      ]
    },
    {
      "cell_type": "markdown",
      "source": [
        "<div dir=\"rtl\">\n",
        "\n",
        "داده‌ها را با مدل بالا کلاسبندی میکنیم و با رسم confusion matrix میبینیم از 108 نمونه 7 نمونه نادرست کلاسبندی شده اند:\n",
        "\n",
        "<div>"
      ],
      "metadata": {
        "id": "1up_0fs1oSrh"
      }
    },
    {
      "cell_type": "code",
      "source": [
        "confusion_matrix(y_test, y_test_balltree)"
      ],
      "metadata": {
        "colab": {
          "base_uri": "https://localhost:8080/"
        },
        "id": "Euxz0AapMAgE",
        "outputId": "3103008f-406b-4ede-8e3c-ed0ded53a4b4"
      },
      "execution_count": 80,
      "outputs": [
        {
          "output_type": "execute_result",
          "data": {
            "text/plain": [
              "array([[ 3,  7],\n",
              "       [ 0, 98]])"
            ]
          },
          "metadata": {},
          "execution_count": 80
        }
      ]
    },
    {
      "cell_type": "code",
      "source": [
        "df_pop_failures.shape"
      ],
      "metadata": {
        "colab": {
          "base_uri": "https://localhost:8080/"
        },
        "id": "emz6pa583YqL",
        "outputId": "077293d5-f4f8-49c3-ce96-bc968bc8cf2e"
      },
      "execution_count": 81,
      "outputs": [
        {
          "output_type": "execute_result",
          "data": {
            "text/plain": [
              "(540, 21)"
            ]
          },
          "metadata": {},
          "execution_count": 81
        }
      ]
    },
    {
      "cell_type": "markdown",
      "source": [
        "# <div dir=\"rtl\">نتیجه گیری قسمت c:</div>\n",
        "\n",
        "<div dir=\"rtl\">\n",
        "\n",
        "با توجه به اینکه تعداد نمونه ها و ویژگیهای دیتاست pop_failures خیلی زیاد نیست هر دو روش نتیجه یکسانی دارند.\n",
        "\n",
        "این موضوع را با بررسی نمودار صحت براساس تعداد همسایه و همچنین ماتریس confusion نیز میتوان دریافت.\n",
        "\n",
        "<div>"
      ],
      "metadata": {
        "id": "TUbIGBQx3Os9"
      }
    },
    {
      "cell_type": "markdown",
      "source": [
        "#d."
      ],
      "metadata": {
        "id": "aAE3Gl2yMX_n"
      }
    },
    {
      "cell_type": "markdown",
      "source": [
        "<div dir=\"rtl\">\n",
        "\n",
        "در سه سلول بعدی ابتدا دیتاست banknote_authntication را می‌خوانیم.\n",
        "\n",
        "سپس داده ها را از برچسب جدا میکنیم.\n",
        "\n",
        "در گام داده‌ها را به دو بخش آموزش و تست با توزیع 80/20 تقسیم می‌کنیم.\n",
        "\n",
        "نهایتا داده‌های آموزشی را نرمالسازی می‌کنیم:\n",
        "\n",
        "<div>"
      ],
      "metadata": {
        "id": "pQ2Jj3sfofQ6"
      }
    },
    {
      "cell_type": "code",
      "source": [
        "df_banknote_authntication = pd.read_csv(\"banknote_authntication.csv\")"
      ],
      "metadata": {
        "id": "S-iRBPjZMGdK"
      },
      "execution_count": 82,
      "outputs": []
    },
    {
      "cell_type": "code",
      "source": [
        "df_banknote_authntication = df_banknote_authntication.drop(['Unnamed: 0'], axis=1)\n",
        "y = df_banknote_authntication['label']\n",
        "X = df_banknote_authntication.drop(['label'], axis=1)"
      ],
      "metadata": {
        "id": "xQnsZC3LMjZf"
      },
      "execution_count": 83,
      "outputs": []
    },
    {
      "cell_type": "code",
      "source": [
        "X_train, X_test, y_train, y_test = train_test_split(X, y, test_size=0.2, random_state=42)\n",
        "X_train_nor = preprocessing.normalize(X_train)"
      ],
      "metadata": {
        "id": "NQT8S6WBM0wh"
      },
      "execution_count": 84,
      "outputs": []
    },
    {
      "cell_type": "markdown",
      "source": [
        "\n",
        "<div dir=\"rtl\">\n",
        "\n",
        "حال با استفاده از روش KNN و الگوریتم KDTree سعی می‌کنیم داده‌ها را کلاسبندی کنیم.\n",
        "\n",
        "برای اینکه بهترین مقدار برای تعداد همسایه‌ها را بیابیم از تعداد 1 تا 30 همسایه را امتحان میکنیم و صحت مدل روی داده‌های تست را درون یک لیست ذخیره میکنیم.\n",
        "\n",
        "<div>"
      ],
      "metadata": {
        "id": "h0G42sgXomd8"
      }
    },
    {
      "cell_type": "code",
      "source": [
        "acc_list_kdtree = []\n",
        "for value in range(1, 31):\n",
        "  knn_kdtree = KNeighborsClassifier(n_neighbors=value, algorithm=\"kd_tree\")\n",
        "  knn_kdtree.fit(X_train_nor,y_train)\n",
        "  acc_list_kdtree.append(knn_kdtree.score(X_test, y_test))"
      ],
      "metadata": {
        "id": "mKaVo00DNA1G"
      },
      "execution_count": null,
      "outputs": []
    },
    {
      "cell_type": "markdown",
      "source": [
        "\n",
        "<div dir=\"rtl\">\n",
        "\n",
        "نمودار مقدار صحت مدل روی داده‌های تست را بر اساس تعداد همسایه رسم می‌کنیم تا دید بهتری نسبت به عملکرد این الگوریتم داشته باشیم.\n",
        "\n",
        "<div>"
      ],
      "metadata": {
        "id": "LpmoHGnMopRJ"
      }
    },
    {
      "cell_type": "code",
      "source": [
        "plt.scatter(np.arange(1,31),acc_list_kdtree)"
      ],
      "metadata": {
        "colab": {
          "base_uri": "https://localhost:8080/",
          "height": 282
        },
        "id": "ZdTzIu__NCzp",
        "outputId": "62a7090b-b387-42f7-a430-1311a71801b4"
      },
      "execution_count": 86,
      "outputs": [
        {
          "output_type": "execute_result",
          "data": {
            "text/plain": [
              "<matplotlib.collections.PathCollection at 0x7f14af57acd0>"
            ]
          },
          "metadata": {},
          "execution_count": 86
        },
        {
          "output_type": "display_data",
          "data": {
            "text/plain": [
              "<Figure size 432x288 with 1 Axes>"
            ],
            "image/png": "[encoded data removed]"
          },
          "metadata": {
            "needs_background": "light"
          }
        }
      ]
    },
    {
      "cell_type": "markdown",
      "source": [
        "\n",
        "<div dir=\"rtl\">\n",
        "\n",
        "با توجه به نمودار در میابیم که تدریجا مدل به سمت بیش برازش پیش میرود با افزایش تعداد همسایه ها\n",
        "\n",
        "برای k های 1 تا 7 11 و 13 تا 18 و 20 مدل صحت 100 درصد دارم و به صورت تدریجی عملکرد مدل کاهش یافته است.\n",
        "\n",
        "من تعداد همسایه برابر با 17 را بعنوان k بهینه انتخاب میکنم.\n",
        "\n",
        "<div>"
      ],
      "metadata": {
        "id": "trDg50ecsyCz"
      }
    },
    {
      "cell_type": "code",
      "source": [
        "knn_kdtree = KNeighborsClassifier(n_neighbors=17, algorithm=\"kd_tree\")\n",
        "knn_kdtree.fit(X_train_nor,y_train)\n",
        "y_test_kdtree = knn_kdtree.predict(X_test)\n",
        "knn_kdtree.score(X_test, y_test)"
      ],
      "metadata": {
        "colab": {
          "base_uri": "https://localhost:8080/"
        },
        "id": "fonj7lxiNFj3",
        "outputId": "a5b3cbf0-4b07-4766-90b2-6c91585a5a28"
      },
      "execution_count": 87,
      "outputs": [
        {
          "output_type": "stream",
          "name": "stderr",
          "text": [
            "/usr/local/lib/python3.7/dist-packages/sklearn/base.py:444: UserWarning: X has feature names, but KNeighborsClassifier was fitted without feature names\n",
            "  f\"X has feature names, but {self.__class__.__name__} was fitted without\"\n",
            "/usr/local/lib/python3.7/dist-packages/sklearn/base.py:444: UserWarning: X has feature names, but KNeighborsClassifier was fitted without feature names\n",
            "  f\"X has feature names, but {self.__class__.__name__} was fitted without\"\n"
          ]
        },
        {
          "output_type": "execute_result",
          "data": {
            "text/plain": [
              "1.0"
            ]
          },
          "metadata": {},
          "execution_count": 87
        }
      ]
    },
    {
      "cell_type": "markdown",
      "source": [
        "\n",
        "<div dir=\"rtl\">\n",
        "\n",
        "حال ماتریس confusionرا رسم میکنیم و در میابیم که همه ی نمونه ها بدرستی کلاسبندی شده اند.\n",
        "\n",
        "با توجه به صحت مدل روی داده های تست نیز انتظار همین نتیجه را داشتیم.\n",
        "\n",
        "<div>"
      ],
      "metadata": {
        "id": "sbe8TUr8tVak"
      }
    },
    {
      "cell_type": "code",
      "source": [
        "confusion_matrix(y_test, y_test_kdtree)"
      ],
      "metadata": {
        "colab": {
          "base_uri": "https://localhost:8080/"
        },
        "id": "cXh6KMFiNJKB",
        "outputId": "bf473185-e7cf-4547-a1ba-9b074393455e"
      },
      "execution_count": 88,
      "outputs": [
        {
          "output_type": "execute_result",
          "data": {
            "text/plain": [
              "array([[148,   0],\n",
              "       [  0, 127]])"
            ]
          },
          "metadata": {},
          "execution_count": 88
        }
      ]
    },
    {
      "cell_type": "markdown",
      "source": [
        "\n",
        "<div dir=\"rtl\">\n",
        "\n",
        "حال با استفاده از روش KNN و الگوریتم ball tree سعی می‌کنیم داده‌ها را کلاسبندی کنیم.\n",
        "\n",
        "برای اینکه بهترین مقدار برای تعداد همسایه‌ها را بیابیم از تعداد 1 تا 30 همسایه را امتحان میکنیم و صحت مدل روی داده‌های تست را درون یک لیست ذخیره میکنیم.\n",
        "\n",
        "<div>"
      ],
      "metadata": {
        "id": "mSrrYQ7coti-"
      }
    },
    {
      "cell_type": "code",
      "source": [
        "acc_list_balltree = []\n",
        "for value in range(1, 31):\n",
        "  knn_balltree = KNeighborsClassifier(n_neighbors=value, algorithm=\"ball_tree\")\n",
        "  knn_balltree.fit(X_train_nor,y_train)\n",
        "  acc_list_balltree.append(knn_balltree.score(X_test, y_test))"
      ],
      "metadata": {
        "id": "I1hr6BuHNTDU"
      },
      "execution_count": null,
      "outputs": []
    },
    {
      "cell_type": "markdown",
      "source": [
        "\n",
        "<div dir=\"rtl\">\n",
        "\n",
        "نمودار مقدار صحت مدل روی داده‌های تست را بر اساس تعداد همسایه رسم می‌کنیم تا دید بهتری نسبت به عملکرد این الگوریتم داشته باشیم.\n",
        "\n",
        "<div>\n",
        "\n",
        "\n",
        "\n"
      ],
      "metadata": {
        "id": "Dfbpqx3CtqhM"
      }
    },
    {
      "cell_type": "code",
      "source": [
        "plt.scatter(np.arange(1,31),acc_list_balltree)"
      ],
      "metadata": {
        "colab": {
          "base_uri": "https://localhost:8080/",
          "height": 282
        },
        "id": "PTajSfMmNVdf",
        "outputId": "447869e7-6e99-4f1b-dfe5-665268ce2ee8"
      },
      "execution_count": 90,
      "outputs": [
        {
          "output_type": "execute_result",
          "data": {
            "text/plain": [
              "<matplotlib.collections.PathCollection at 0x7f14af4efd10>"
            ]
          },
          "metadata": {},
          "execution_count": 90
        },
        {
          "output_type": "display_data",
          "data": {
            "text/plain": [
              "<Figure size 432x288 with 1 Axes>"
            ],
            "image/png": "[encoded data removed]"
          },
          "metadata": {
            "needs_background": "light"
          }
        }
      ]
    },
    {
      "cell_type": "markdown",
      "source": [
        "\n",
        "<div dir=\"rtl\">\n",
        "\n",
        "با توجه به نمودار در میابیم که تدریجا مدل به سمت بیش برازش پیش میرود با افزایش تعداد همسایه ها\n",
        "\n",
        "برای k های 1 تا 7 11 و 13 تا 18 و 20 مدل صحت 100 درصد دارم و به صورت تدریجی عملکرد مدل کاهش یافته است.\n",
        "\n",
        "من تعداد همسایه برابر با 17 را بعنوان k بهینه انتخاب میکنم.\n",
        "\n",
        "<div>"
      ],
      "metadata": {
        "id": "OWmucW0dtv7q"
      }
    },
    {
      "cell_type": "code",
      "source": [
        "knn_balltree = KNeighborsClassifier(n_neighbors=17, algorithm=\"ball_tree\")\n",
        "knn_balltree.fit(X_train_nor,y_train)\n",
        "y_test_balltree = knn_balltree.predict(X_test)\n",
        "knn_balltree.score(X_test, y_test)"
      ],
      "metadata": {
        "colab": {
          "base_uri": "https://localhost:8080/"
        },
        "id": "3E5rlHFINYmm",
        "outputId": "1dd7fcab-758e-4207-ed3e-088a235a804b"
      },
      "execution_count": 91,
      "outputs": [
        {
          "output_type": "stream",
          "name": "stderr",
          "text": [
            "/usr/local/lib/python3.7/dist-packages/sklearn/base.py:444: UserWarning: X has feature names, but KNeighborsClassifier was fitted without feature names\n",
            "  f\"X has feature names, but {self.__class__.__name__} was fitted without\"\n",
            "/usr/local/lib/python3.7/dist-packages/sklearn/base.py:444: UserWarning: X has feature names, but KNeighborsClassifier was fitted without feature names\n",
            "  f\"X has feature names, but {self.__class__.__name__} was fitted without\"\n"
          ]
        },
        {
          "output_type": "execute_result",
          "data": {
            "text/plain": [
              "1.0"
            ]
          },
          "metadata": {},
          "execution_count": 91
        }
      ]
    },
    {
      "cell_type": "markdown",
      "source": [
        "\n",
        "<div dir=\"rtl\">\n",
        "\n",
        "حال ماتریس confusionرا رسم میکنیم و در میابیم که همه ی نمونه ها بدرستی کلاسبندی شده اند.\n",
        "\n",
        "با توجه به صحت مدل روی داده های تست نیز انتظار همین نتیجه را داشتیم.\n",
        "\n",
        "<div>"
      ],
      "metadata": {
        "id": "-a4EOAv-t5OZ"
      }
    },
    {
      "cell_type": "code",
      "source": [
        "confusion_matrix(y_test, y_test_balltree)"
      ],
      "metadata": {
        "colab": {
          "base_uri": "https://localhost:8080/"
        },
        "id": "MwoAMbeZNa_0",
        "outputId": "6c81b062-7278-4b80-90a1-eb5956ac77d8"
      },
      "execution_count": 92,
      "outputs": [
        {
          "output_type": "execute_result",
          "data": {
            "text/plain": [
              "array([[148,   0],\n",
              "       [  0, 127]])"
            ]
          },
          "metadata": {},
          "execution_count": 92
        }
      ]
    },
    {
      "cell_type": "code",
      "source": [
        "X_train.shape"
      ],
      "metadata": {
        "colab": {
          "base_uri": "https://localhost:8080/"
        },
        "id": "9G6vBsgH3w1b",
        "outputId": "4110d588-b903-4d77-e50d-64340ee5a5c0"
      },
      "execution_count": 93,
      "outputs": [
        {
          "output_type": "execute_result",
          "data": {
            "text/plain": [
              "(1097, 4)"
            ]
          },
          "metadata": {},
          "execution_count": 93
        }
      ]
    },
    {
      "cell_type": "markdown",
      "source": [
        "# <div dir=\"rtl\">نتیجه گیری قسمت d:</div>\n",
        "\n",
        "<div dir=\"rtl\">\n",
        "\n",
        "با توجه به اینکه تعداد نمونه ها و ویژگیهای دیتاست banknote_authntication خیلی زیاد نیست هر دو روش نتیجه یکسانی دارند.\n",
        "\n",
        "این موضوع را با بررسی نمودار صحت براساس تعداد همسایه و همچنین ماتریس confusion نیز میتوان دریافت.\n",
        "\n",
        "<div>"
      ],
      "metadata": {
        "id": "t6wi0o3f30-i"
      }
    },
    {
      "cell_type": "markdown",
      "source": [
        "#e."
      ],
      "metadata": {
        "id": "87eog2FQNlrh"
      }
    },
    {
      "cell_type": "markdown",
      "source": [
        "<div dir=\"rtl\">\n",
        "\n",
        "در سه سلول بعدی ابتدا دیتاست credit cards را می‌خوانیم.\n",
        "\n",
        "سپس داده ها را از برچسب جدا میکنیم.\n",
        "\n",
        "در گام داده‌ها را به دو بخش آموزش و تست با توزیع 80/20 تقسیم می‌کنیم.\n",
        "\n",
        "نهایتا داده‌های آموزشی را نرمالسازی می‌کنیم:\n",
        "\n",
        "<div>"
      ],
      "metadata": {
        "id": "YMAk7ZWtuOCD"
      }
    },
    {
      "cell_type": "code",
      "source": [
        "df_credit_cards = pd.read_csv(\"credit cards.csv\")"
      ],
      "metadata": {
        "id": "zxR2DnHbNgQE"
      },
      "execution_count": 94,
      "outputs": []
    },
    {
      "cell_type": "code",
      "source": [
        "y = df_credit_cards['default']\n",
        "X = df_credit_cards.drop(['default'], axis=1)"
      ],
      "metadata": {
        "id": "m2-wc_tQNy9c"
      },
      "execution_count": 95,
      "outputs": []
    },
    {
      "cell_type": "code",
      "source": [
        "X_train, X_test, y_train, y_test = train_test_split(X, y, test_size=0.2, random_state=42)\n",
        "X_train_nor = preprocessing.normalize(X_train)"
      ],
      "metadata": {
        "id": "GVZW9eYgN-up"
      },
      "execution_count": 96,
      "outputs": []
    },
    {
      "cell_type": "markdown",
      "source": [
        "\n",
        "<div dir=\"rtl\">\n",
        "\n",
        "حال با استفاده از روش KNN و الگوریتم KDTree سعی می‌کنیم داده‌ها را کلاسبندی کنیم.\n",
        "\n",
        "برای اینکه بهترین مقدار برای تعداد همسایه‌ها را بیابیم از تعداد 1 تا 30 همسایه را امتحان میکنیم و صحت مدل روی داده‌های تست را درون یک لیست ذخیره میکنیم.\n",
        "\n",
        "<div>"
      ],
      "metadata": {
        "id": "NKNdHyN7uU15"
      }
    },
    {
      "cell_type": "code",
      "source": [
        "acc_list_kdtree = []\n",
        "for value in range(1, 31):\n",
        "  knn_kdtree = KNeighborsClassifier(n_neighbors=value, algorithm=\"kd_tree\")\n",
        "  knn_kdtree.fit(X_train_nor,y_train)\n",
        "  acc_list_kdtree.append(knn_kdtree.score(X_test, y_test))"
      ],
      "metadata": {
        "colab": {
          "base_uri": "https://localhost:8080/"
        },
        "id": "uGGUIFqNOBNk",
        "outputId": "fc198f4e-22cc-46ef-8b90-0608bb1a6960"
      },
      "execution_count": 97,
      "outputs": [
        {
          "output_type": "stream",
          "name": "stderr",
          "text": [
            "/usr/local/lib/python3.7/dist-packages/sklearn/base.py:444: UserWarning: X has feature names, but KNeighborsClassifier was fitted without feature names\n",
            "  f\"X has feature names, but {self.__class__.__name__} was fitted without\"\n",
            "/usr/local/lib/python3.7/dist-packages/sklearn/base.py:444: UserWarning: X has feature names, but KNeighborsClassifier was fitted without feature names\n",
            "  f\"X has feature names, but {self.__class__.__name__} was fitted without\"\n",
            "/usr/local/lib/python3.7/dist-packages/sklearn/base.py:444: UserWarning: X has feature names, but KNeighborsClassifier was fitted without feature names\n",
            "  f\"X has feature names, but {self.__class__.__name__} was fitted without\"\n",
            "/usr/local/lib/python3.7/dist-packages/sklearn/base.py:444: UserWarning: X has feature names, but KNeighborsClassifier was fitted without feature names\n",
            "  f\"X has feature names, but {self.__class__.__name__} was fitted without\"\n",
            "/usr/local/lib/python3.7/dist-packages/sklearn/base.py:444: UserWarning: X has feature names, but KNeighborsClassifier was fitted without feature names\n",
            "  f\"X has feature names, but {self.__class__.__name__} was fitted without\"\n",
            "/usr/local/lib/python3.7/dist-packages/sklearn/base.py:444: UserWarning: X has feature names, but KNeighborsClassifier was fitted without feature names\n",
            "  f\"X has feature names, but {self.__class__.__name__} was fitted without\"\n",
            "/usr/local/lib/python3.7/dist-packages/sklearn/base.py:444: UserWarning: X has feature names, but KNeighborsClassifier was fitted without feature names\n",
            "  f\"X has feature names, but {self.__class__.__name__} was fitted without\"\n",
            "/usr/local/lib/python3.7/dist-packages/sklearn/base.py:444: UserWarning: X has feature names, but KNeighborsClassifier was fitted without feature names\n",
            "  f\"X has feature names, but {self.__class__.__name__} was fitted without\"\n",
            "/usr/local/lib/python3.7/dist-packages/sklearn/base.py:444: UserWarning: X has feature names, but KNeighborsClassifier was fitted without feature names\n",
            "  f\"X has feature names, but {self.__class__.__name__} was fitted without\"\n",
            "/usr/local/lib/python3.7/dist-packages/sklearn/base.py:444: UserWarning: X has feature names, but KNeighborsClassifier was fitted without feature names\n",
            "  f\"X has feature names, but {self.__class__.__name__} was fitted without\"\n",
            "/usr/local/lib/python3.7/dist-packages/sklearn/base.py:444: UserWarning: X has feature names, but KNeighborsClassifier was fitted without feature names\n",
            "  f\"X has feature names, but {self.__class__.__name__} was fitted without\"\n",
            "/usr/local/lib/python3.7/dist-packages/sklearn/base.py:444: UserWarning: X has feature names, but KNeighborsClassifier was fitted without feature names\n",
            "  f\"X has feature names, but {self.__class__.__name__} was fitted without\"\n",
            "/usr/local/lib/python3.7/dist-packages/sklearn/base.py:444: UserWarning: X has feature names, but KNeighborsClassifier was fitted without feature names\n",
            "  f\"X has feature names, but {self.__class__.__name__} was fitted without\"\n",
            "/usr/local/lib/python3.7/dist-packages/sklearn/base.py:444: UserWarning: X has feature names, but KNeighborsClassifier was fitted without feature names\n",
            "  f\"X has feature names, but {self.__class__.__name__} was fitted without\"\n",
            "/usr/local/lib/python3.7/dist-packages/sklearn/base.py:444: UserWarning: X has feature names, but KNeighborsClassifier was fitted without feature names\n",
            "  f\"X has feature names, but {self.__class__.__name__} was fitted without\"\n",
            "/usr/local/lib/python3.7/dist-packages/sklearn/base.py:444: UserWarning: X has feature names, but KNeighborsClassifier was fitted without feature names\n",
            "  f\"X has feature names, but {self.__class__.__name__} was fitted without\"\n",
            "/usr/local/lib/python3.7/dist-packages/sklearn/base.py:444: UserWarning: X has feature names, but KNeighborsClassifier was fitted without feature names\n",
            "  f\"X has feature names, but {self.__class__.__name__} was fitted without\"\n",
            "/usr/local/lib/python3.7/dist-packages/sklearn/base.py:444: UserWarning: X has feature names, but KNeighborsClassifier was fitted without feature names\n",
            "  f\"X has feature names, but {self.__class__.__name__} was fitted without\"\n",
            "/usr/local/lib/python3.7/dist-packages/sklearn/base.py:444: UserWarning: X has feature names, but KNeighborsClassifier was fitted without feature names\n",
            "  f\"X has feature names, but {self.__class__.__name__} was fitted without\"\n",
            "/usr/local/lib/python3.7/dist-packages/sklearn/base.py:444: UserWarning: X has feature names, but KNeighborsClassifier was fitted without feature names\n",
            "  f\"X has feature names, but {self.__class__.__name__} was fitted without\"\n",
            "/usr/local/lib/python3.7/dist-packages/sklearn/base.py:444: UserWarning: X has feature names, but KNeighborsClassifier was fitted without feature names\n",
            "  f\"X has feature names, but {self.__class__.__name__} was fitted without\"\n",
            "/usr/local/lib/python3.7/dist-packages/sklearn/base.py:444: UserWarning: X has feature names, but KNeighborsClassifier was fitted without feature names\n",
            "  f\"X has feature names, but {self.__class__.__name__} was fitted without\"\n",
            "/usr/local/lib/python3.7/dist-packages/sklearn/base.py:444: UserWarning: X has feature names, but KNeighborsClassifier was fitted without feature names\n",
            "  f\"X has feature names, but {self.__class__.__name__} was fitted without\"\n",
            "/usr/local/lib/python3.7/dist-packages/sklearn/base.py:444: UserWarning: X has feature names, but KNeighborsClassifier was fitted without feature names\n",
            "  f\"X has feature names, but {self.__class__.__name__} was fitted without\"\n",
            "/usr/local/lib/python3.7/dist-packages/sklearn/base.py:444: UserWarning: X has feature names, but KNeighborsClassifier was fitted without feature names\n",
            "  f\"X has feature names, but {self.__class__.__name__} was fitted without\"\n",
            "/usr/local/lib/python3.7/dist-packages/sklearn/base.py:444: UserWarning: X has feature names, but KNeighborsClassifier was fitted without feature names\n",
            "  f\"X has feature names, but {self.__class__.__name__} was fitted without\"\n",
            "/usr/local/lib/python3.7/dist-packages/sklearn/base.py:444: UserWarning: X has feature names, but KNeighborsClassifier was fitted without feature names\n",
            "  f\"X has feature names, but {self.__class__.__name__} was fitted without\"\n",
            "/usr/local/lib/python3.7/dist-packages/sklearn/base.py:444: UserWarning: X has feature names, but KNeighborsClassifier was fitted without feature names\n",
            "  f\"X has feature names, but {self.__class__.__name__} was fitted without\"\n",
            "/usr/local/lib/python3.7/dist-packages/sklearn/base.py:444: UserWarning: X has feature names, but KNeighborsClassifier was fitted without feature names\n",
            "  f\"X has feature names, but {self.__class__.__name__} was fitted without\"\n",
            "/usr/local/lib/python3.7/dist-packages/sklearn/base.py:444: UserWarning: X has feature names, but KNeighborsClassifier was fitted without feature names\n",
            "  f\"X has feature names, but {self.__class__.__name__} was fitted without\"\n"
          ]
        }
      ]
    },
    {
      "cell_type": "markdown",
      "source": [
        "\n",
        "<div dir=\"rtl\">\n",
        "\n",
        "نمودار مقدار صحت مدل روی داده‌های تست را بر اساس تعداد همسایه رسم می‌کنیم تا دید بهتری نسبت به عملکرد این الگوریتم داشته باشیم.\n",
        "\n",
        "<div>\n",
        "\n",
        "\n",
        "\n"
      ],
      "metadata": {
        "id": "oV6rpqGWuaHd"
      }
    },
    {
      "cell_type": "code",
      "source": [
        "plt.scatter(np.arange(1,31),acc_list_kdtree)"
      ],
      "metadata": {
        "colab": {
          "base_uri": "https://localhost:8080/",
          "height": 282
        },
        "id": "MORwfZRyODVi",
        "outputId": "a2399201-0ffa-4dbb-8edc-f898ee7a3816"
      },
      "execution_count": 98,
      "outputs": [
        {
          "output_type": "execute_result",
          "data": {
            "text/plain": [
              "<matplotlib.collections.PathCollection at 0x7f14afdd24d0>"
            ]
          },
          "metadata": {},
          "execution_count": 98
        },
        {
          "output_type": "display_data",
          "data": {
            "text/plain": [
              "<Figure size 432x288 with 1 Axes>"
            ],
            "image/png": "[encoded data removed]"
          },
          "metadata": {
            "needs_background": "light"
          }
        }
      ]
    },
    {
      "cell_type": "markdown",
      "source": [
        "\n",
        "<div dir=\"rtl\">\n",
        "\n",
        "با بررسی نمودار بالا در میابیم این دیتاست نسبت به دیتاستهای قبلی پیچیدگی بیشتر دارد و حتی با 30 همسایه نیز نمیتوان به صحت بیشتر از 80 درصد رسید.\n",
        "\n",
        "بهترین نتیجه در این مورد به ازای k برابر با 30 به دست آمده و من نیز همین تعداد را برای دسته بندی داده ها انتخاب میکنم.\n",
        "\n",
        "<div>\n",
        "\n"
      ],
      "metadata": {
        "id": "T8SmsohVu8fD"
      }
    },
    {
      "cell_type": "code",
      "source": [
        "knn_kdtree = KNeighborsClassifier(n_neighbors=30, algorithm=\"kd_tree\")\n",
        "knn_kdtree.fit(X_train_nor,y_train)\n",
        "y_test_kdtree = knn_kdtree.predict(X_test)\n",
        "knn_kdtree.score(X_test, y_test)"
      ],
      "metadata": {
        "colab": {
          "base_uri": "https://localhost:8080/"
        },
        "id": "pretWK_2OFJW",
        "outputId": "aeb81b57-d95d-446b-cafd-cbc483b5bb74"
      },
      "execution_count": 99,
      "outputs": [
        {
          "output_type": "stream",
          "name": "stderr",
          "text": [
            "/usr/local/lib/python3.7/dist-packages/sklearn/base.py:444: UserWarning: X has feature names, but KNeighborsClassifier was fitted without feature names\n",
            "  f\"X has feature names, but {self.__class__.__name__} was fitted without\"\n",
            "/usr/local/lib/python3.7/dist-packages/sklearn/base.py:444: UserWarning: X has feature names, but KNeighborsClassifier was fitted without feature names\n",
            "  f\"X has feature names, but {self.__class__.__name__} was fitted without\"\n"
          ]
        },
        {
          "output_type": "execute_result",
          "data": {
            "text/plain": [
              "0.7831666666666667"
            ]
          },
          "metadata": {},
          "execution_count": 99
        }
      ]
    },
    {
      "cell_type": "markdown",
      "source": [
        "\n",
        "\n",
        "\n",
        "<div dir=\"rtl\">\n",
        "\n",
        "در این قسمت confusion matrix را برای نتیجه کلاسبندی روی داده های تست نمایش میدهیم. 1301 داده از کل دادگان اشتباه دسته بندی شده اند و توزیع آنعا در ماتریس زیر مشخص است.\n",
        "\n",
        "<div>\n",
        "\n"
      ],
      "metadata": {
        "id": "B9gNXhtKvZfQ"
      }
    },
    {
      "cell_type": "code",
      "source": [
        "confusion_matrix(y_test, y_test_kdtree)"
      ],
      "metadata": {
        "colab": {
          "base_uri": "https://localhost:8080/"
        },
        "id": "WZMc2w_rOHK5",
        "outputId": "83d5352b-a81f-4304-b0cd-66fec4ca3df6"
      },
      "execution_count": 100,
      "outputs": [
        {
          "output_type": "execute_result",
          "data": {
            "text/plain": [
              "array([[4613,   74],\n",
              "       [1227,   86]])"
            ]
          },
          "metadata": {},
          "execution_count": 100
        }
      ]
    },
    {
      "cell_type": "markdown",
      "source": [
        "\n",
        "<div dir=\"rtl\">\n",
        "\n",
        "حال با استفاده از روش KNN و الگوریتم ball tree سعی می‌کنیم داده‌ها را کلاسبندی کنیم.\n",
        "\n",
        "برای اینکه بهترین مقدار برای تعداد همسایه‌ها را بیابیم از تعداد 1 تا 30 همسایه را امتحان میکنیم و صحت مدل روی داده‌های تست را درون یک لیست ذخیره میکنیم.\n",
        "\n",
        "<div>"
      ],
      "metadata": {
        "id": "Tzbt4Qq4uj_B"
      }
    },
    {
      "cell_type": "code",
      "source": [
        "acc_list_balltree = []\n",
        "for value in range(1, 31):\n",
        "  knn_balltree = KNeighborsClassifier(n_neighbors=value, algorithm=\"ball_tree\")\n",
        "  knn_balltree.fit(X_train_nor,y_train)\n",
        "  acc_list_balltree.append(knn_balltree.score(X_test, y_test))"
      ],
      "metadata": {
        "id": "8wSQxhgPOJIZ"
      },
      "execution_count": null,
      "outputs": []
    },
    {
      "cell_type": "markdown",
      "source": [
        "\n",
        "<div dir=\"rtl\">\n",
        "\n",
        "نمودار مقدار صحت مدل روی داده‌های تست را بر اساس تعداد همسایه رسم می‌کنیم تا دید بهتری نسبت به عملکرد این الگوریتم داشته باشیم.\n",
        "\n",
        "<div>\n",
        "\n",
        "\n",
        "\n"
      ],
      "metadata": {
        "id": "1I8VhfLoum3W"
      }
    },
    {
      "cell_type": "code",
      "source": [
        "plt.scatter(np.arange(1,31),acc_list_balltree)"
      ],
      "metadata": {
        "colab": {
          "base_uri": "https://localhost:8080/",
          "height": 282
        },
        "id": "0nzubZRaOL09",
        "outputId": "c05dafc3-dfff-47b8-8bc4-37c23a424712"
      },
      "execution_count": 102,
      "outputs": [
        {
          "output_type": "execute_result",
          "data": {
            "text/plain": [
              "<matplotlib.collections.PathCollection at 0x7f14afdd2490>"
            ]
          },
          "metadata": {},
          "execution_count": 102
        },
        {
          "output_type": "display_data",
          "data": {
            "text/plain": [
              "<Figure size 432x288 with 1 Axes>"
            ],
            "image/png": "[encoded data removed]"
          },
          "metadata": {
            "needs_background": "light"
          }
        }
      ]
    },
    {
      "cell_type": "markdown",
      "source": [
        "\n",
        "\n",
        "<div dir=\"rtl\">\n",
        "\n",
        "با بررسی نمودار بالا در میابیم این دیتاست نسبت به دیتاستهای قبلی پیچیدگی بیشتر دارد و حتی با 30 همسایه نیز نمیتوان به صحت بیشتر از 80 درصد رسید.\n",
        "\n",
        "بهترین نتیجه در این مورد به ازای k برابر با 30 به دست آمده و من نیز همین تعداد را برای دسته بندی داده ها انتخاب میکنم.\n",
        "\n",
        "<div>\n",
        "\n"
      ],
      "metadata": {
        "id": "T_8aIMC-zKOH"
      }
    },
    {
      "cell_type": "code",
      "source": [
        "knn_balltree = KNeighborsClassifier(n_neighbors=30, algorithm=\"ball_tree\")\n",
        "knn_balltree.fit(X_train_nor,y_train)\n",
        "y_test_balltree = knn_balltree.predict(X_test)\n",
        "knn_balltree.score(X_test, y_test)"
      ],
      "metadata": {
        "colab": {
          "base_uri": "https://localhost:8080/"
        },
        "id": "MTJN3IsyONkF",
        "outputId": "ac0d84fc-b473-4d64-ffa5-7be5d974d044"
      },
      "execution_count": 103,
      "outputs": [
        {
          "output_type": "stream",
          "name": "stderr",
          "text": [
            "/usr/local/lib/python3.7/dist-packages/sklearn/base.py:444: UserWarning: X has feature names, but KNeighborsClassifier was fitted without feature names\n",
            "  f\"X has feature names, but {self.__class__.__name__} was fitted without\"\n",
            "/usr/local/lib/python3.7/dist-packages/sklearn/base.py:444: UserWarning: X has feature names, but KNeighborsClassifier was fitted without feature names\n",
            "  f\"X has feature names, but {self.__class__.__name__} was fitted without\"\n"
          ]
        },
        {
          "output_type": "execute_result",
          "data": {
            "text/plain": [
              "0.7833333333333333"
            ]
          },
          "metadata": {},
          "execution_count": 103
        }
      ]
    },
    {
      "cell_type": "markdown",
      "source": [
        "\n",
        "\n",
        "\n",
        "<div dir=\"rtl\">\n",
        "\n",
        "در این قسمت confusion matrix را برای نتیجه کلاسبندی روی داده های تست نمایش میدهیم. 1300 داده از کل دادگان اشتباه دسته بندی شده اند و توزیع آنعا در ماتریس زیر مشخص است.\n",
        "\n",
        "<div>\n",
        "\n"
      ],
      "metadata": {
        "id": "mjSba-26zUBw"
      }
    },
    {
      "cell_type": "code",
      "source": [
        "confusion_matrix(y_test, y_test_balltree)"
      ],
      "metadata": {
        "colab": {
          "base_uri": "https://localhost:8080/"
        },
        "id": "tQwNP-zMORRa",
        "outputId": "45a0a8a4-94ed-499f-dd58-baaf432f63e2"
      },
      "execution_count": 104,
      "outputs": [
        {
          "output_type": "execute_result",
          "data": {
            "text/plain": [
              "array([[4614,   73],\n",
              "       [1227,   86]])"
            ]
          },
          "metadata": {},
          "execution_count": 104
        }
      ]
    },
    {
      "cell_type": "code",
      "source": [
        "X_train.shape"
      ],
      "metadata": {
        "colab": {
          "base_uri": "https://localhost:8080/"
        },
        "id": "x8xt6EOJ4DrQ",
        "outputId": "648a567b-c167-4ec3-8ea3-5bcf392cbf29"
      },
      "execution_count": 105,
      "outputs": [
        {
          "output_type": "execute_result",
          "data": {
            "text/plain": [
              "(24000, 23)"
            ]
          },
          "metadata": {},
          "execution_count": 105
        }
      ]
    },
    {
      "cell_type": "markdown",
      "source": [
        "# <div dir=\"rtl\">نتیجه گیری قسمت e:</div>\n",
        "\n",
        "<div dir=\"rtl\">\n",
        "\n",
        "با توجه به اینکه تعداد نمونه های دیتاست credit card خیلی زیاد است پیشبینی میشود که استفاده از روش ball tree نتیجه بهتری داشته باشد.\n",
        "\n",
        "پس از استفاده از هر دو روش و رسم نمودارهای صحت و همچنین ماتریس confusion در میابیم که درست پیشبینی صورت گرفته و الگوریتم ball tree بهتر از روش kdtree نمونه ها را دسته بندی کرده است.\n",
        "\n",
        "<div>"
      ],
      "metadata": {
        "id": "83Y8_TvZ4ADX"
      }
    },
    {
      "cell_type": "markdown",
      "source": [
        "# <div dir=\"rtl\">  نتیجه گیری نهایی:</div>\n",
        "\n",
        "<div dir=\"rtl\">\n",
        "\n",
        "الگوریتم درخت توپ و الگوریتم درخت KD الگوریتم های درختی هستند که برای تقسیم فضایی نقاط داده و تخصیص آنها به مناطق خاص استفاده می شوند. به عبارت دیگر، آنها برای ساختار داده ها در یک فضای چند بعدی استفاده می شوند.\n",
        "\n",
        "\n",
        "برای داده هایی با ویژگیهای کم، الگوریتم درخت KD ممکن است بهترین راه حل باشد.  تقسیم گره های درخت KD به صورت محوری هستند و نمی توانند شکل متفاوتی داشته باشند. بنابراین توزیع ممکن است به درستی ترسیم نشود و منجر به عملکرد ضعیف شود.\n",
        "\n",
        "\n",
        "برای داده هایی با تعداد ویژگی زیاد، الگوریتم درخت توپ ممکن است بهترین راه حل باشد. عملکرد آن به مقدار داده های آموزشی، ابعاد و ساختار داده ها بستگی دارد. وجود بسیاری از نقاط داده که دارای نویز هستند نیز می تواند به دلیل عدم ساختار واضح منجر به عملکرد بد شود.\n",
        "\n",
        "<div>"
      ],
      "metadata": {
        "id": "Y8R_Nm0D2Xr5"
      }
    },
    {
      "cell_type": "code",
      "source": [
        ""
      ],
      "metadata": {
        "id": "eTrox_pwORg7"
      },
      "execution_count": 105,
      "outputs": []
    }
  ]
}