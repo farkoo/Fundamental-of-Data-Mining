{
  "cells": [
    {
      "cell_type": "code",
      "source": [
        "%cd drive/MyDrive/DataMining/hw3"
      ],
      "metadata": {
        "colab": {
          "base_uri": "https://localhost:8080/"
        },
        "id": "9rfQz63SoNQh",
        "outputId": "c89eb667-4964-45dc-978d-5f3366a45f2d"
      },
      "id": "9rfQz63SoNQh",
      "execution_count": null,
      "outputs": [
        {
          "output_type": "stream",
          "name": "stdout",
          "text": [
            "/content/drive/MyDrive/DataMining/hw3\n"
          ]
        }
      ]
    },
    {
      "cell_type": "code",
      "execution_count": null,
      "id": "b48a3103",
      "metadata": {
        "colab": {
          "base_uri": "https://localhost:8080/"
        },
        "id": "b48a3103",
        "outputId": "d313161d-43bc-4ee9-998b-f7a4407e0cad"
      },
      "outputs": [
        {
          "output_type": "stream",
          "name": "stderr",
          "text": [
            "/usr/local/lib/python3.7/dist-packages/statsmodels/tools/_testing.py:19: FutureWarning: pandas.util.testing is deprecated. Use the functions in the public API at pandas.testing instead.\n",
            "  import pandas.util.testing as tm\n"
          ]
        }
      ],
      "source": [
        "import pandas as pd\n",
        "import numpy as np\n",
        "import matplotlib.pyplot as plt\n",
        "import seaborn as sns\n",
        "from sklearn.model_selection import train_test_split, cross_val_score, KFold\n",
        "from sklearn.dummy import DummyRegressor\n",
        "from sklearn.metrics import mean_squared_error, mean_absolute_error\n",
        "from sklearn.linear_model import LinearRegression, Ridge, ElasticNet\n",
        "import statsmodels.api as sm\n",
        "from statsmodels.api import OLS"
      ]
    },
    {
      "cell_type": "markdown",
      "id": "6006f58f",
      "metadata": {
        "id": "6006f58f"
      },
      "source": [
        "### ● Preprocessing"
      ]
    },
    {
      "cell_type": "markdown",
      "id": "bed70275",
      "metadata": {
        "id": "bed70275"
      },
      "source": [
        "\n",
        "\n",
        "# <div dir=\"rtl\">a:</div>\n",
        "\n",
        "<div dir=\"rtl\">\n",
        "\n",
        "\n",
        "در این قسمت ابتدا مجموعه داده خوانده شده در دیتافریم ذخیره شده است. سپس با استفاده از تابع get_dummies ستون های month و day تبدیل شده اند.\n",
        "\n",
        "<div>\n"
      ]
    },
    {
      "cell_type": "code",
      "execution_count": null,
      "id": "238c1992",
      "metadata": {
        "colab": {
          "base_uri": "https://localhost:8080/",
          "height": 206
        },
        "id": "238c1992",
        "outputId": "092fbb5f-ac41-40f3-95c8-ca45a34dd233"
      },
      "outputs": [
        {
          "output_type": "execute_result",
          "data": {
            "text/plain": [
              "   X  Y month  day  FFMC   DMC     DC  ISI  temp  RH  wind  rain  area\n",
              "0  7  5   mar  fri  86.2  26.2   94.3  5.1   8.2  51   6.7   0.0   0.0\n",
              "1  7  4   oct  tue  90.6  35.4  669.1  6.7  18.0  33   0.9   0.0   0.0\n",
              "2  7  4   oct  sat  90.6  43.7  686.9  6.7  14.6  33   1.3   0.0   0.0\n",
              "3  8  6   mar  fri  91.7  33.3   77.5  9.0   8.3  97   4.0   0.2   0.0\n",
              "4  8  6   mar  sun  89.3  51.3  102.2  9.6  11.4  99   1.8   0.0   0.0"
            ],
            "text/html": [
              "\n",
              "  <div id=\"df-3b8f48df-20f4-4657-9140-4a7a3dd74767\">\n",
              "    <div class=\"colab-df-container\">\n",
              "      <div>\n",
              "<style scoped>\n",
              "    .dataframe tbody tr th:only-of-type {\n",
              "        vertical-align: middle;\n",
              "    }\n",
              "\n",
              "    .dataframe tbody tr th {\n",
              "        vertical-align: top;\n",
              "    }\n",
              "\n",
              "    .dataframe thead th {\n",
              "        text-align: right;\n",
              "    }\n",
              "</style>\n",
              "<table border=\"1\" class=\"dataframe\">\n",
              "  <thead>\n",
              "    <tr style=\"text-align: right;\">\n",
              "      <th></th>\n",
              "      <th>X</th>\n",
              "      <th>Y</th>\n",
              "      <th>month</th>\n",
              "      <th>day</th>\n",
              "      <th>FFMC</th>\n",
              "      <th>DMC</th>\n",
              "      <th>DC</th>\n",
              "      <th>ISI</th>\n",
              "      <th>temp</th>\n",
              "      <th>RH</th>\n",
              "      <th>wind</th>\n",
              "      <th>rain</th>\n",
              "      <th>area</th>\n",
              "    </tr>\n",
              "  </thead>\n",
              "  <tbody>\n",
              "    <tr>\n",
              "      <th>0</th>\n",
              "      <td>7</td>\n",
              "      <td>5</td>\n",
              "      <td>mar</td>\n",
              "      <td>fri</td>\n",
              "      <td>86.2</td>\n",
              "      <td>26.2</td>\n",
              "      <td>94.3</td>\n",
              "      <td>5.1</td>\n",
              "      <td>8.2</td>\n",
              "      <td>51</td>\n",
              "      <td>6.7</td>\n",
              "      <td>0.0</td>\n",
              "      <td>0.0</td>\n",
              "    </tr>\n",
              "    <tr>\n",
              "      <th>1</th>\n",
              "      <td>7</td>\n",
              "      <td>4</td>\n",
              "      <td>oct</td>\n",
              "      <td>tue</td>\n",
              "      <td>90.6</td>\n",
              "      <td>35.4</td>\n",
              "      <td>669.1</td>\n",
              "      <td>6.7</td>\n",
              "      <td>18.0</td>\n",
              "      <td>33</td>\n",
              "      <td>0.9</td>\n",
              "      <td>0.0</td>\n",
              "      <td>0.0</td>\n",
              "    </tr>\n",
              "    <tr>\n",
              "      <th>2</th>\n",
              "      <td>7</td>\n",
              "      <td>4</td>\n",
              "      <td>oct</td>\n",
              "      <td>sat</td>\n",
              "      <td>90.6</td>\n",
              "      <td>43.7</td>\n",
              "      <td>686.9</td>\n",
              "      <td>6.7</td>\n",
              "      <td>14.6</td>\n",
              "      <td>33</td>\n",
              "      <td>1.3</td>\n",
              "      <td>0.0</td>\n",
              "      <td>0.0</td>\n",
              "    </tr>\n",
              "    <tr>\n",
              "      <th>3</th>\n",
              "      <td>8</td>\n",
              "      <td>6</td>\n",
              "      <td>mar</td>\n",
              "      <td>fri</td>\n",
              "      <td>91.7</td>\n",
              "      <td>33.3</td>\n",
              "      <td>77.5</td>\n",
              "      <td>9.0</td>\n",
              "      <td>8.3</td>\n",
              "      <td>97</td>\n",
              "      <td>4.0</td>\n",
              "      <td>0.2</td>\n",
              "      <td>0.0</td>\n",
              "    </tr>\n",
              "    <tr>\n",
              "      <th>4</th>\n",
              "      <td>8</td>\n",
              "      <td>6</td>\n",
              "      <td>mar</td>\n",
              "      <td>sun</td>\n",
              "      <td>89.3</td>\n",
              "      <td>51.3</td>\n",
              "      <td>102.2</td>\n",
              "      <td>9.6</td>\n",
              "      <td>11.4</td>\n",
              "      <td>99</td>\n",
              "      <td>1.8</td>\n",
              "      <td>0.0</td>\n",
              "      <td>0.0</td>\n",
              "    </tr>\n",
              "  </tbody>\n",
              "</table>\n",
              "</div>\n",
              "      <button class=\"colab-df-convert\" onclick=\"convertToInteractive('df-3b8f48df-20f4-4657-9140-4a7a3dd74767')\"\n",
              "              title=\"Convert this dataframe to an interactive table.\"\n",
              "              style=\"display:none;\">\n",
              "        \n",
              "  <svg xmlns=\"http://www.w3.org/2000/svg\" height=\"24px\"viewBox=\"0 0 24 24\"\n",
              "       width=\"24px\">\n",
              "    <path d=\"M0 0h24v24H0V0z\" fill=\"none\"/>\n",
              "    <path d=\"M18.56 5.44l.94 2.06.94-2.06 2.06-.94-2.06-.94-.94-2.06-.94 2.06-2.06.94zm-11 1L8.5 8.5l.94-2.06 2.06-.94-2.06-.94L8.5 2.5l-.94 2.06-2.06.94zm10 10l.94 2.06.94-2.06 2.06-.94-2.06-.94-.94-2.06-.94 2.06-2.06.94z\"/><path d=\"M17.41 7.96l-1.37-1.37c-.4-.4-.92-.59-1.43-.59-.52 0-1.04.2-1.43.59L10.3 9.45l-7.72 7.72c-.78.78-.78 2.05 0 2.83L4 21.41c.39.39.9.59 1.41.59.51 0 1.02-.2 1.41-.59l7.78-7.78 2.81-2.81c.8-.78.8-2.07 0-2.86zM5.41 20L4 18.59l7.72-7.72 1.47 1.35L5.41 20z\"/>\n",
              "  </svg>\n",
              "      </button>\n",
              "      \n",
              "  <style>\n",
              "    .colab-df-container {\n",
              "      display:flex;\n",
              "      flex-wrap:wrap;\n",
              "      gap: 12px;\n",
              "    }\n",
              "\n",
              "    .colab-df-convert {\n",
              "      background-color: #E8F0FE;\n",
              "      border: none;\n",
              "      border-radius: 50%;\n",
              "      cursor: pointer;\n",
              "      display: none;\n",
              "      fill: #1967D2;\n",
              "      height: 32px;\n",
              "      padding: 0 0 0 0;\n",
              "      width: 32px;\n",
              "    }\n",
              "\n",
              "    .colab-df-convert:hover {\n",
              "      background-color: #E2EBFA;\n",
              "      box-shadow: 0px 1px 2px rgba(60, 64, 67, 0.3), 0px 1px 3px 1px rgba(60, 64, 67, 0.15);\n",
              "      fill: #174EA6;\n",
              "    }\n",
              "\n",
              "    [theme=dark] .colab-df-convert {\n",
              "      background-color: #3B4455;\n",
              "      fill: #D2E3FC;\n",
              "    }\n",
              "\n",
              "    [theme=dark] .colab-df-convert:hover {\n",
              "      background-color: #434B5C;\n",
              "      box-shadow: 0px 1px 3px 1px rgba(0, 0, 0, 0.15);\n",
              "      filter: drop-shadow(0px 1px 2px rgba(0, 0, 0, 0.3));\n",
              "      fill: #FFFFFF;\n",
              "    }\n",
              "  </style>\n",
              "\n",
              "      <script>\n",
              "        const buttonEl =\n",
              "          document.querySelector('#df-3b8f48df-20f4-4657-9140-4a7a3dd74767 button.colab-df-convert');\n",
              "        buttonEl.style.display =\n",
              "          google.colab.kernel.accessAllowed ? 'block' : 'none';\n",
              "\n",
              "        async function convertToInteractive(key) {\n",
              "          const element = document.querySelector('#df-3b8f48df-20f4-4657-9140-4a7a3dd74767');\n",
              "          const dataTable =\n",
              "            await google.colab.kernel.invokeFunction('convertToInteractive',\n",
              "                                                     [key], {});\n",
              "          if (!dataTable) return;\n",
              "\n",
              "          const docLinkHtml = 'Like what you see? Visit the ' +\n",
              "            '<a target=\"_blank\" href=https://colab.research.google.com/notebooks/data_table.ipynb>data table notebook</a>'\n",
              "            + ' to learn more about interactive tables.';\n",
              "          element.innerHTML = '';\n",
              "          dataTable['output_type'] = 'display_data';\n",
              "          await google.colab.output.renderOutput(dataTable, element);\n",
              "          const docLink = document.createElement('div');\n",
              "          docLink.innerHTML = docLinkHtml;\n",
              "          element.appendChild(docLink);\n",
              "        }\n",
              "      </script>\n",
              "    </div>\n",
              "  </div>\n",
              "  "
            ]
          },
          "metadata": {},
          "execution_count": 6
        }
      ],
      "source": [
        "df = pd.read_csv('forestfires.csv')\n",
        "df.head()"
      ]
    },
    {
      "cell_type": "code",
      "execution_count": null,
      "id": "20b86f4e",
      "metadata": {
        "scrolled": true,
        "colab": {
          "base_uri": "https://localhost:8080/",
          "height": 300
        },
        "id": "20b86f4e",
        "outputId": "6d37c871-47f4-4daa-ae46-2809ada667fc"
      },
      "outputs": [
        {
          "output_type": "execute_result",
          "data": {
            "text/plain": [
              "   X  Y  FFMC   DMC     DC  ISI  temp  RH  wind  rain  ...  month_dec  \\\n",
              "0  7  5  86.2  26.2   94.3  5.1   8.2  51   6.7   0.0  ...          0   \n",
              "1  7  4  90.6  35.4  669.1  6.7  18.0  33   0.9   0.0  ...          0   \n",
              "2  7  4  90.6  43.7  686.9  6.7  14.6  33   1.3   0.0  ...          0   \n",
              "3  8  6  91.7  33.3   77.5  9.0   8.3  97   4.0   0.2  ...          0   \n",
              "4  8  6  89.3  51.3  102.2  9.6  11.4  99   1.8   0.0  ...          0   \n",
              "\n",
              "   month_feb  month_jan  month_jul  month_jun  month_mar  month_may  \\\n",
              "0          0          0          0          0          1          0   \n",
              "1          0          0          0          0          0          0   \n",
              "2          0          0          0          0          0          0   \n",
              "3          0          0          0          0          1          0   \n",
              "4          0          0          0          0          1          0   \n",
              "\n",
              "   month_nov  month_oct  month_sep  \n",
              "0          0          0          0  \n",
              "1          0          1          0  \n",
              "2          0          1          0  \n",
              "3          0          0          0  \n",
              "4          0          0          0  \n",
              "\n",
              "[5 rows x 30 columns]"
            ],
            "text/html": [
              "\n",
              "  <div id=\"df-6787d74c-5d5c-413f-8e5d-1a204b1be11b\">\n",
              "    <div class=\"colab-df-container\">\n",
              "      <div>\n",
              "<style scoped>\n",
              "    .dataframe tbody tr th:only-of-type {\n",
              "        vertical-align: middle;\n",
              "    }\n",
              "\n",
              "    .dataframe tbody tr th {\n",
              "        vertical-align: top;\n",
              "    }\n",
              "\n",
              "    .dataframe thead th {\n",
              "        text-align: right;\n",
              "    }\n",
              "</style>\n",
              "<table border=\"1\" class=\"dataframe\">\n",
              "  <thead>\n",
              "    <tr style=\"text-align: right;\">\n",
              "      <th></th>\n",
              "      <th>X</th>\n",
              "      <th>Y</th>\n",
              "      <th>FFMC</th>\n",
              "      <th>DMC</th>\n",
              "      <th>DC</th>\n",
              "      <th>ISI</th>\n",
              "      <th>temp</th>\n",
              "      <th>RH</th>\n",
              "      <th>wind</th>\n",
              "      <th>rain</th>\n",
              "      <th>...</th>\n",
              "      <th>month_dec</th>\n",
              "      <th>month_feb</th>\n",
              "      <th>month_jan</th>\n",
              "      <th>month_jul</th>\n",
              "      <th>month_jun</th>\n",
              "      <th>month_mar</th>\n",
              "      <th>month_may</th>\n",
              "      <th>month_nov</th>\n",
              "      <th>month_oct</th>\n",
              "      <th>month_sep</th>\n",
              "    </tr>\n",
              "  </thead>\n",
              "  <tbody>\n",
              "    <tr>\n",
              "      <th>0</th>\n",
              "      <td>7</td>\n",
              "      <td>5</td>\n",
              "      <td>86.2</td>\n",
              "      <td>26.2</td>\n",
              "      <td>94.3</td>\n",
              "      <td>5.1</td>\n",
              "      <td>8.2</td>\n",
              "      <td>51</td>\n",
              "      <td>6.7</td>\n",
              "      <td>0.0</td>\n",
              "      <td>...</td>\n",
              "      <td>0</td>\n",
              "      <td>0</td>\n",
              "      <td>0</td>\n",
              "      <td>0</td>\n",
              "      <td>0</td>\n",
              "      <td>1</td>\n",
              "      <td>0</td>\n",
              "      <td>0</td>\n",
              "      <td>0</td>\n",
              "      <td>0</td>\n",
              "    </tr>\n",
              "    <tr>\n",
              "      <th>1</th>\n",
              "      <td>7</td>\n",
              "      <td>4</td>\n",
              "      <td>90.6</td>\n",
              "      <td>35.4</td>\n",
              "      <td>669.1</td>\n",
              "      <td>6.7</td>\n",
              "      <td>18.0</td>\n",
              "      <td>33</td>\n",
              "      <td>0.9</td>\n",
              "      <td>0.0</td>\n",
              "      <td>...</td>\n",
              "      <td>0</td>\n",
              "      <td>0</td>\n",
              "      <td>0</td>\n",
              "      <td>0</td>\n",
              "      <td>0</td>\n",
              "      <td>0</td>\n",
              "      <td>0</td>\n",
              "      <td>0</td>\n",
              "      <td>1</td>\n",
              "      <td>0</td>\n",
              "    </tr>\n",
              "    <tr>\n",
              "      <th>2</th>\n",
              "      <td>7</td>\n",
              "      <td>4</td>\n",
              "      <td>90.6</td>\n",
              "      <td>43.7</td>\n",
              "      <td>686.9</td>\n",
              "      <td>6.7</td>\n",
              "      <td>14.6</td>\n",
              "      <td>33</td>\n",
              "      <td>1.3</td>\n",
              "      <td>0.0</td>\n",
              "      <td>...</td>\n",
              "      <td>0</td>\n",
              "      <td>0</td>\n",
              "      <td>0</td>\n",
              "      <td>0</td>\n",
              "      <td>0</td>\n",
              "      <td>0</td>\n",
              "      <td>0</td>\n",
              "      <td>0</td>\n",
              "      <td>1</td>\n",
              "      <td>0</td>\n",
              "    </tr>\n",
              "    <tr>\n",
              "      <th>3</th>\n",
              "      <td>8</td>\n",
              "      <td>6</td>\n",
              "      <td>91.7</td>\n",
              "      <td>33.3</td>\n",
              "      <td>77.5</td>\n",
              "      <td>9.0</td>\n",
              "      <td>8.3</td>\n",
              "      <td>97</td>\n",
              "      <td>4.0</td>\n",
              "      <td>0.2</td>\n",
              "      <td>...</td>\n",
              "      <td>0</td>\n",
              "      <td>0</td>\n",
              "      <td>0</td>\n",
              "      <td>0</td>\n",
              "      <td>0</td>\n",
              "      <td>1</td>\n",
              "      <td>0</td>\n",
              "      <td>0</td>\n",
              "      <td>0</td>\n",
              "      <td>0</td>\n",
              "    </tr>\n",
              "    <tr>\n",
              "      <th>4</th>\n",
              "      <td>8</td>\n",
              "      <td>6</td>\n",
              "      <td>89.3</td>\n",
              "      <td>51.3</td>\n",
              "      <td>102.2</td>\n",
              "      <td>9.6</td>\n",
              "      <td>11.4</td>\n",
              "      <td>99</td>\n",
              "      <td>1.8</td>\n",
              "      <td>0.0</td>\n",
              "      <td>...</td>\n",
              "      <td>0</td>\n",
              "      <td>0</td>\n",
              "      <td>0</td>\n",
              "      <td>0</td>\n",
              "      <td>0</td>\n",
              "      <td>1</td>\n",
              "      <td>0</td>\n",
              "      <td>0</td>\n",
              "      <td>0</td>\n",
              "      <td>0</td>\n",
              "    </tr>\n",
              "  </tbody>\n",
              "</table>\n",
              "<p>5 rows × 30 columns</p>\n",
              "</div>\n",
              "      <button class=\"colab-df-convert\" onclick=\"convertToInteractive('df-6787d74c-5d5c-413f-8e5d-1a204b1be11b')\"\n",
              "              title=\"Convert this dataframe to an interactive table.\"\n",
              "              style=\"display:none;\">\n",
              "        \n",
              "  <svg xmlns=\"http://www.w3.org/2000/svg\" height=\"24px\"viewBox=\"0 0 24 24\"\n",
              "       width=\"24px\">\n",
              "    <path d=\"M0 0h24v24H0V0z\" fill=\"none\"/>\n",
              "    <path d=\"M18.56 5.44l.94 2.06.94-2.06 2.06-.94-2.06-.94-.94-2.06-.94 2.06-2.06.94zm-11 1L8.5 8.5l.94-2.06 2.06-.94-2.06-.94L8.5 2.5l-.94 2.06-2.06.94zm10 10l.94 2.06.94-2.06 2.06-.94-2.06-.94-.94-2.06-.94 2.06-2.06.94z\"/><path d=\"M17.41 7.96l-1.37-1.37c-.4-.4-.92-.59-1.43-.59-.52 0-1.04.2-1.43.59L10.3 9.45l-7.72 7.72c-.78.78-.78 2.05 0 2.83L4 21.41c.39.39.9.59 1.41.59.51 0 1.02-.2 1.41-.59l7.78-7.78 2.81-2.81c.8-.78.8-2.07 0-2.86zM5.41 20L4 18.59l7.72-7.72 1.47 1.35L5.41 20z\"/>\n",
              "  </svg>\n",
              "      </button>\n",
              "      \n",
              "  <style>\n",
              "    .colab-df-container {\n",
              "      display:flex;\n",
              "      flex-wrap:wrap;\n",
              "      gap: 12px;\n",
              "    }\n",
              "\n",
              "    .colab-df-convert {\n",
              "      background-color: #E8F0FE;\n",
              "      border: none;\n",
              "      border-radius: 50%;\n",
              "      cursor: pointer;\n",
              "      display: none;\n",
              "      fill: #1967D2;\n",
              "      height: 32px;\n",
              "      padding: 0 0 0 0;\n",
              "      width: 32px;\n",
              "    }\n",
              "\n",
              "    .colab-df-convert:hover {\n",
              "      background-color: #E2EBFA;\n",
              "      box-shadow: 0px 1px 2px rgba(60, 64, 67, 0.3), 0px 1px 3px 1px rgba(60, 64, 67, 0.15);\n",
              "      fill: #174EA6;\n",
              "    }\n",
              "\n",
              "    [theme=dark] .colab-df-convert {\n",
              "      background-color: #3B4455;\n",
              "      fill: #D2E3FC;\n",
              "    }\n",
              "\n",
              "    [theme=dark] .colab-df-convert:hover {\n",
              "      background-color: #434B5C;\n",
              "      box-shadow: 0px 1px 3px 1px rgba(0, 0, 0, 0.15);\n",
              "      filter: drop-shadow(0px 1px 2px rgba(0, 0, 0, 0.3));\n",
              "      fill: #FFFFFF;\n",
              "    }\n",
              "  </style>\n",
              "\n",
              "      <script>\n",
              "        const buttonEl =\n",
              "          document.querySelector('#df-6787d74c-5d5c-413f-8e5d-1a204b1be11b button.colab-df-convert');\n",
              "        buttonEl.style.display =\n",
              "          google.colab.kernel.accessAllowed ? 'block' : 'none';\n",
              "\n",
              "        async function convertToInteractive(key) {\n",
              "          const element = document.querySelector('#df-6787d74c-5d5c-413f-8e5d-1a204b1be11b');\n",
              "          const dataTable =\n",
              "            await google.colab.kernel.invokeFunction('convertToInteractive',\n",
              "                                                     [key], {});\n",
              "          if (!dataTable) return;\n",
              "\n",
              "          const docLinkHtml = 'Like what you see? Visit the ' +\n",
              "            '<a target=\"_blank\" href=https://colab.research.google.com/notebooks/data_table.ipynb>data table notebook</a>'\n",
              "            + ' to learn more about interactive tables.';\n",
              "          element.innerHTML = '';\n",
              "          dataTable['output_type'] = 'display_data';\n",
              "          await google.colab.output.renderOutput(dataTable, element);\n",
              "          const docLink = document.createElement('div');\n",
              "          docLink.innerHTML = docLinkHtml;\n",
              "          element.appendChild(docLink);\n",
              "        }\n",
              "      </script>\n",
              "    </div>\n",
              "  </div>\n",
              "  "
            ]
          },
          "metadata": {},
          "execution_count": 7
        }
      ],
      "source": [
        "df = pd.get_dummies(df, columns = ['day', 'month'])\n",
        "df.head()"
      ]
    },
    {
      "cell_type": "markdown",
      "id": "54626891",
      "metadata": {
        "id": "54626891"
      },
      "source": [
        "\n",
        "\n",
        "\n",
        "# <div dir=\"rtl\">b:</div>\n",
        "\n",
        "<div dir=\"rtl\">\n",
        "\n",
        "\n",
        "در این قسمت با استفاده از تابع isnull و sum تعداد مقادیر missing در هر ستون مشخص شده است. همان طور که مشخص است این تعداد برای همه ی ستون ها برابر صفر است.\n",
        "\n",
        "<div>\n"
      ]
    },
    {
      "cell_type": "code",
      "execution_count": null,
      "id": "a78b3f8b",
      "metadata": {
        "colab": {
          "base_uri": "https://localhost:8080/"
        },
        "id": "a78b3f8b",
        "outputId": "3a141c74-e4ef-4e50-cd96-e5471e2ac2e6"
      },
      "outputs": [
        {
          "output_type": "execute_result",
          "data": {
            "text/plain": [
              "X            0\n",
              "Y            0\n",
              "FFMC         0\n",
              "DMC          0\n",
              "DC           0\n",
              "ISI          0\n",
              "temp         0\n",
              "RH           0\n",
              "wind         0\n",
              "rain         0\n",
              "area         0\n",
              "day_fri      0\n",
              "day_mon      0\n",
              "day_sat      0\n",
              "day_sun      0\n",
              "day_thu      0\n",
              "day_tue      0\n",
              "day_wed      0\n",
              "month_apr    0\n",
              "month_aug    0\n",
              "month_dec    0\n",
              "month_feb    0\n",
              "month_jan    0\n",
              "month_jul    0\n",
              "month_jun    0\n",
              "month_mar    0\n",
              "month_may    0\n",
              "month_nov    0\n",
              "month_oct    0\n",
              "month_sep    0\n",
              "dtype: int64"
            ]
          },
          "metadata": {},
          "execution_count": 8
        }
      ],
      "source": [
        "df.isnull().sum()"
      ]
    },
    {
      "cell_type": "markdown",
      "id": "3395476d",
      "metadata": {
        "id": "3395476d"
      },
      "source": [
        "\n",
        "# <div dir=\"rtl\">c:</div>\n",
        "\n",
        "<div dir=\"rtl\">\n",
        "\n",
        "\n",
        "در این قسمت ابتدا با استفاده از دستور duplicated سطرهای تکراری نمایش داده شده اند. سپس با استفاده از دستور drop_duplicated این سطرها حذف شده اند.\n",
        "\n",
        "<div>\n"
      ]
    },
    {
      "cell_type": "code",
      "execution_count": null,
      "id": "571a198c",
      "metadata": {
        "colab": {
          "base_uri": "https://localhost:8080/",
          "height": 268
        },
        "id": "571a198c",
        "outputId": "524d571a-e833-447c-b5db-90cb0ed916c5"
      },
      "outputs": [
        {
          "output_type": "execute_result",
          "data": {
            "text/plain": [
              "     X  Y  FFMC    DMC     DC   ISI  temp  RH  wind  rain  ...  month_dec  \\\n",
              "53   4  3  92.1  111.2  654.1   9.6  20.4  42   4.9   0.0  ...          0   \n",
              "100  3  4  91.4  142.4  601.4  10.6  19.8  39   5.4   0.0  ...          0   \n",
              "215  4  4  91.7   35.8   80.8   7.8  17.0  27   4.9   0.0  ...          0   \n",
              "303  3  6  91.1   94.1  232.1   7.1  19.2  38   4.5   0.0  ...          0   \n",
              "\n",
              "     month_feb  month_jan  month_jul  month_jun  month_mar  month_may  \\\n",
              "53           0          0          0          0          0          0   \n",
              "100          0          0          0          0          0          0   \n",
              "215          0          0          0          0          1          0   \n",
              "303          0          0          0          1          0          0   \n",
              "\n",
              "     month_nov  month_oct  month_sep  \n",
              "53           0          0          0  \n",
              "100          0          0          0  \n",
              "215          0          0          0  \n",
              "303          0          0          0  \n",
              "\n",
              "[4 rows x 30 columns]"
            ],
            "text/html": [
              "\n",
              "  <div id=\"df-1f786777-a138-4d63-a028-02ac58289b29\">\n",
              "    <div class=\"colab-df-container\">\n",
              "      <div>\n",
              "<style scoped>\n",
              "    .dataframe tbody tr th:only-of-type {\n",
              "        vertical-align: middle;\n",
              "    }\n",
              "\n",
              "    .dataframe tbody tr th {\n",
              "        vertical-align: top;\n",
              "    }\n",
              "\n",
              "    .dataframe thead th {\n",
              "        text-align: right;\n",
              "    }\n",
              "</style>\n",
              "<table border=\"1\" class=\"dataframe\">\n",
              "  <thead>\n",
              "    <tr style=\"text-align: right;\">\n",
              "      <th></th>\n",
              "      <th>X</th>\n",
              "      <th>Y</th>\n",
              "      <th>FFMC</th>\n",
              "      <th>DMC</th>\n",
              "      <th>DC</th>\n",
              "      <th>ISI</th>\n",
              "      <th>temp</th>\n",
              "      <th>RH</th>\n",
              "      <th>wind</th>\n",
              "      <th>rain</th>\n",
              "      <th>...</th>\n",
              "      <th>month_dec</th>\n",
              "      <th>month_feb</th>\n",
              "      <th>month_jan</th>\n",
              "      <th>month_jul</th>\n",
              "      <th>month_jun</th>\n",
              "      <th>month_mar</th>\n",
              "      <th>month_may</th>\n",
              "      <th>month_nov</th>\n",
              "      <th>month_oct</th>\n",
              "      <th>month_sep</th>\n",
              "    </tr>\n",
              "  </thead>\n",
              "  <tbody>\n",
              "    <tr>\n",
              "      <th>53</th>\n",
              "      <td>4</td>\n",
              "      <td>3</td>\n",
              "      <td>92.1</td>\n",
              "      <td>111.2</td>\n",
              "      <td>654.1</td>\n",
              "      <td>9.6</td>\n",
              "      <td>20.4</td>\n",
              "      <td>42</td>\n",
              "      <td>4.9</td>\n",
              "      <td>0.0</td>\n",
              "      <td>...</td>\n",
              "      <td>0</td>\n",
              "      <td>0</td>\n",
              "      <td>0</td>\n",
              "      <td>0</td>\n",
              "      <td>0</td>\n",
              "      <td>0</td>\n",
              "      <td>0</td>\n",
              "      <td>0</td>\n",
              "      <td>0</td>\n",
              "      <td>0</td>\n",
              "    </tr>\n",
              "    <tr>\n",
              "      <th>100</th>\n",
              "      <td>3</td>\n",
              "      <td>4</td>\n",
              "      <td>91.4</td>\n",
              "      <td>142.4</td>\n",
              "      <td>601.4</td>\n",
              "      <td>10.6</td>\n",
              "      <td>19.8</td>\n",
              "      <td>39</td>\n",
              "      <td>5.4</td>\n",
              "      <td>0.0</td>\n",
              "      <td>...</td>\n",
              "      <td>0</td>\n",
              "      <td>0</td>\n",
              "      <td>0</td>\n",
              "      <td>0</td>\n",
              "      <td>0</td>\n",
              "      <td>0</td>\n",
              "      <td>0</td>\n",
              "      <td>0</td>\n",
              "      <td>0</td>\n",
              "      <td>0</td>\n",
              "    </tr>\n",
              "    <tr>\n",
              "      <th>215</th>\n",
              "      <td>4</td>\n",
              "      <td>4</td>\n",
              "      <td>91.7</td>\n",
              "      <td>35.8</td>\n",
              "      <td>80.8</td>\n",
              "      <td>7.8</td>\n",
              "      <td>17.0</td>\n",
              "      <td>27</td>\n",
              "      <td>4.9</td>\n",
              "      <td>0.0</td>\n",
              "      <td>...</td>\n",
              "      <td>0</td>\n",
              "      <td>0</td>\n",
              "      <td>0</td>\n",
              "      <td>0</td>\n",
              "      <td>0</td>\n",
              "      <td>1</td>\n",
              "      <td>0</td>\n",
              "      <td>0</td>\n",
              "      <td>0</td>\n",
              "      <td>0</td>\n",
              "    </tr>\n",
              "    <tr>\n",
              "      <th>303</th>\n",
              "      <td>3</td>\n",
              "      <td>6</td>\n",
              "      <td>91.1</td>\n",
              "      <td>94.1</td>\n",
              "      <td>232.1</td>\n",
              "      <td>7.1</td>\n",
              "      <td>19.2</td>\n",
              "      <td>38</td>\n",
              "      <td>4.5</td>\n",
              "      <td>0.0</td>\n",
              "      <td>...</td>\n",
              "      <td>0</td>\n",
              "      <td>0</td>\n",
              "      <td>0</td>\n",
              "      <td>0</td>\n",
              "      <td>1</td>\n",
              "      <td>0</td>\n",
              "      <td>0</td>\n",
              "      <td>0</td>\n",
              "      <td>0</td>\n",
              "      <td>0</td>\n",
              "    </tr>\n",
              "  </tbody>\n",
              "</table>\n",
              "<p>4 rows × 30 columns</p>\n",
              "</div>\n",
              "      <button class=\"colab-df-convert\" onclick=\"convertToInteractive('df-1f786777-a138-4d63-a028-02ac58289b29')\"\n",
              "              title=\"Convert this dataframe to an interactive table.\"\n",
              "              style=\"display:none;\">\n",
              "        \n",
              "  <svg xmlns=\"http://www.w3.org/2000/svg\" height=\"24px\"viewBox=\"0 0 24 24\"\n",
              "       width=\"24px\">\n",
              "    <path d=\"M0 0h24v24H0V0z\" fill=\"none\"/>\n",
              "    <path d=\"M18.56 5.44l.94 2.06.94-2.06 2.06-.94-2.06-.94-.94-2.06-.94 2.06-2.06.94zm-11 1L8.5 8.5l.94-2.06 2.06-.94-2.06-.94L8.5 2.5l-.94 2.06-2.06.94zm10 10l.94 2.06.94-2.06 2.06-.94-2.06-.94-.94-2.06-.94 2.06-2.06.94z\"/><path d=\"M17.41 7.96l-1.37-1.37c-.4-.4-.92-.59-1.43-.59-.52 0-1.04.2-1.43.59L10.3 9.45l-7.72 7.72c-.78.78-.78 2.05 0 2.83L4 21.41c.39.39.9.59 1.41.59.51 0 1.02-.2 1.41-.59l7.78-7.78 2.81-2.81c.8-.78.8-2.07 0-2.86zM5.41 20L4 18.59l7.72-7.72 1.47 1.35L5.41 20z\"/>\n",
              "  </svg>\n",
              "      </button>\n",
              "      \n",
              "  <style>\n",
              "    .colab-df-container {\n",
              "      display:flex;\n",
              "      flex-wrap:wrap;\n",
              "      gap: 12px;\n",
              "    }\n",
              "\n",
              "    .colab-df-convert {\n",
              "      background-color: #E8F0FE;\n",
              "      border: none;\n",
              "      border-radius: 50%;\n",
              "      cursor: pointer;\n",
              "      display: none;\n",
              "      fill: #1967D2;\n",
              "      height: 32px;\n",
              "      padding: 0 0 0 0;\n",
              "      width: 32px;\n",
              "    }\n",
              "\n",
              "    .colab-df-convert:hover {\n",
              "      background-color: #E2EBFA;\n",
              "      box-shadow: 0px 1px 2px rgba(60, 64, 67, 0.3), 0px 1px 3px 1px rgba(60, 64, 67, 0.15);\n",
              "      fill: #174EA6;\n",
              "    }\n",
              "\n",
              "    [theme=dark] .colab-df-convert {\n",
              "      background-color: #3B4455;\n",
              "      fill: #D2E3FC;\n",
              "    }\n",
              "\n",
              "    [theme=dark] .colab-df-convert:hover {\n",
              "      background-color: #434B5C;\n",
              "      box-shadow: 0px 1px 3px 1px rgba(0, 0, 0, 0.15);\n",
              "      filter: drop-shadow(0px 1px 2px rgba(0, 0, 0, 0.3));\n",
              "      fill: #FFFFFF;\n",
              "    }\n",
              "  </style>\n",
              "\n",
              "      <script>\n",
              "        const buttonEl =\n",
              "          document.querySelector('#df-1f786777-a138-4d63-a028-02ac58289b29 button.colab-df-convert');\n",
              "        buttonEl.style.display =\n",
              "          google.colab.kernel.accessAllowed ? 'block' : 'none';\n",
              "\n",
              "        async function convertToInteractive(key) {\n",
              "          const element = document.querySelector('#df-1f786777-a138-4d63-a028-02ac58289b29');\n",
              "          const dataTable =\n",
              "            await google.colab.kernel.invokeFunction('convertToInteractive',\n",
              "                                                     [key], {});\n",
              "          if (!dataTable) return;\n",
              "\n",
              "          const docLinkHtml = 'Like what you see? Visit the ' +\n",
              "            '<a target=\"_blank\" href=https://colab.research.google.com/notebooks/data_table.ipynb>data table notebook</a>'\n",
              "            + ' to learn more about interactive tables.';\n",
              "          element.innerHTML = '';\n",
              "          dataTable['output_type'] = 'display_data';\n",
              "          await google.colab.output.renderOutput(dataTable, element);\n",
              "          const docLink = document.createElement('div');\n",
              "          docLink.innerHTML = docLinkHtml;\n",
              "          element.appendChild(docLink);\n",
              "        }\n",
              "      </script>\n",
              "    </div>\n",
              "  </div>\n",
              "  "
            ]
          },
          "metadata": {},
          "execution_count": 9
        }
      ],
      "source": [
        "df[df.duplicated()]"
      ]
    },
    {
      "cell_type": "code",
      "execution_count": null,
      "id": "97734f8f",
      "metadata": {
        "id": "97734f8f"
      },
      "outputs": [],
      "source": [
        "df.drop_duplicates(inplace=True)"
      ]
    },
    {
      "cell_type": "code",
      "execution_count": null,
      "id": "f7eeabbe",
      "metadata": {
        "colab": {
          "base_uri": "https://localhost:8080/",
          "height": 143
        },
        "id": "f7eeabbe",
        "outputId": "48c72a0b-7703-4354-9724-f2b0c9374fe6"
      },
      "outputs": [
        {
          "output_type": "execute_result",
          "data": {
            "text/plain": [
              "Empty DataFrame\n",
              "Columns: [X, Y, FFMC, DMC, DC, ISI, temp, RH, wind, rain, area, day_fri, day_mon, day_sat, day_sun, day_thu, day_tue, day_wed, month_apr, month_aug, month_dec, month_feb, month_jan, month_jul, month_jun, month_mar, month_may, month_nov, month_oct, month_sep]\n",
              "Index: []\n",
              "\n",
              "[0 rows x 30 columns]"
            ],
            "text/html": [
              "\n",
              "  <div id=\"df-9411c923-b847-4c9d-833b-5bd9a70b56e4\">\n",
              "    <div class=\"colab-df-container\">\n",
              "      <div>\n",
              "<style scoped>\n",
              "    .dataframe tbody tr th:only-of-type {\n",
              "        vertical-align: middle;\n",
              "    }\n",
              "\n",
              "    .dataframe tbody tr th {\n",
              "        vertical-align: top;\n",
              "    }\n",
              "\n",
              "    .dataframe thead th {\n",
              "        text-align: right;\n",
              "    }\n",
              "</style>\n",
              "<table border=\"1\" class=\"dataframe\">\n",
              "  <thead>\n",
              "    <tr style=\"text-align: right;\">\n",
              "      <th></th>\n",
              "      <th>X</th>\n",
              "      <th>Y</th>\n",
              "      <th>FFMC</th>\n",
              "      <th>DMC</th>\n",
              "      <th>DC</th>\n",
              "      <th>ISI</th>\n",
              "      <th>temp</th>\n",
              "      <th>RH</th>\n",
              "      <th>wind</th>\n",
              "      <th>rain</th>\n",
              "      <th>...</th>\n",
              "      <th>month_dec</th>\n",
              "      <th>month_feb</th>\n",
              "      <th>month_jan</th>\n",
              "      <th>month_jul</th>\n",
              "      <th>month_jun</th>\n",
              "      <th>month_mar</th>\n",
              "      <th>month_may</th>\n",
              "      <th>month_nov</th>\n",
              "      <th>month_oct</th>\n",
              "      <th>month_sep</th>\n",
              "    </tr>\n",
              "  </thead>\n",
              "  <tbody>\n",
              "  </tbody>\n",
              "</table>\n",
              "<p>0 rows × 30 columns</p>\n",
              "</div>\n",
              "      <button class=\"colab-df-convert\" onclick=\"convertToInteractive('df-9411c923-b847-4c9d-833b-5bd9a70b56e4')\"\n",
              "              title=\"Convert this dataframe to an interactive table.\"\n",
              "              style=\"display:none;\">\n",
              "        \n",
              "  <svg xmlns=\"http://www.w3.org/2000/svg\" height=\"24px\"viewBox=\"0 0 24 24\"\n",
              "       width=\"24px\">\n",
              "    <path d=\"M0 0h24v24H0V0z\" fill=\"none\"/>\n",
              "    <path d=\"M18.56 5.44l.94 2.06.94-2.06 2.06-.94-2.06-.94-.94-2.06-.94 2.06-2.06.94zm-11 1L8.5 8.5l.94-2.06 2.06-.94-2.06-.94L8.5 2.5l-.94 2.06-2.06.94zm10 10l.94 2.06.94-2.06 2.06-.94-2.06-.94-.94-2.06-.94 2.06-2.06.94z\"/><path d=\"M17.41 7.96l-1.37-1.37c-.4-.4-.92-.59-1.43-.59-.52 0-1.04.2-1.43.59L10.3 9.45l-7.72 7.72c-.78.78-.78 2.05 0 2.83L4 21.41c.39.39.9.59 1.41.59.51 0 1.02-.2 1.41-.59l7.78-7.78 2.81-2.81c.8-.78.8-2.07 0-2.86zM5.41 20L4 18.59l7.72-7.72 1.47 1.35L5.41 20z\"/>\n",
              "  </svg>\n",
              "      </button>\n",
              "      \n",
              "  <style>\n",
              "    .colab-df-container {\n",
              "      display:flex;\n",
              "      flex-wrap:wrap;\n",
              "      gap: 12px;\n",
              "    }\n",
              "\n",
              "    .colab-df-convert {\n",
              "      background-color: #E8F0FE;\n",
              "      border: none;\n",
              "      border-radius: 50%;\n",
              "      cursor: pointer;\n",
              "      display: none;\n",
              "      fill: #1967D2;\n",
              "      height: 32px;\n",
              "      padding: 0 0 0 0;\n",
              "      width: 32px;\n",
              "    }\n",
              "\n",
              "    .colab-df-convert:hover {\n",
              "      background-color: #E2EBFA;\n",
              "      box-shadow: 0px 1px 2px rgba(60, 64, 67, 0.3), 0px 1px 3px 1px rgba(60, 64, 67, 0.15);\n",
              "      fill: #174EA6;\n",
              "    }\n",
              "\n",
              "    [theme=dark] .colab-df-convert {\n",
              "      background-color: #3B4455;\n",
              "      fill: #D2E3FC;\n",
              "    }\n",
              "\n",
              "    [theme=dark] .colab-df-convert:hover {\n",
              "      background-color: #434B5C;\n",
              "      box-shadow: 0px 1px 3px 1px rgba(0, 0, 0, 0.15);\n",
              "      filter: drop-shadow(0px 1px 2px rgba(0, 0, 0, 0.3));\n",
              "      fill: #FFFFFF;\n",
              "    }\n",
              "  </style>\n",
              "\n",
              "      <script>\n",
              "        const buttonEl =\n",
              "          document.querySelector('#df-9411c923-b847-4c9d-833b-5bd9a70b56e4 button.colab-df-convert');\n",
              "        buttonEl.style.display =\n",
              "          google.colab.kernel.accessAllowed ? 'block' : 'none';\n",
              "\n",
              "        async function convertToInteractive(key) {\n",
              "          const element = document.querySelector('#df-9411c923-b847-4c9d-833b-5bd9a70b56e4');\n",
              "          const dataTable =\n",
              "            await google.colab.kernel.invokeFunction('convertToInteractive',\n",
              "                                                     [key], {});\n",
              "          if (!dataTable) return;\n",
              "\n",
              "          const docLinkHtml = 'Like what you see? Visit the ' +\n",
              "            '<a target=\"_blank\" href=https://colab.research.google.com/notebooks/data_table.ipynb>data table notebook</a>'\n",
              "            + ' to learn more about interactive tables.';\n",
              "          element.innerHTML = '';\n",
              "          dataTable['output_type'] = 'display_data';\n",
              "          await google.colab.output.renderOutput(dataTable, element);\n",
              "          const docLink = document.createElement('div');\n",
              "          docLink.innerHTML = docLinkHtml;\n",
              "          element.appendChild(docLink);\n",
              "        }\n",
              "      </script>\n",
              "    </div>\n",
              "  </div>\n",
              "  "
            ]
          },
          "metadata": {},
          "execution_count": 11
        }
      ],
      "source": [
        "df[df.duplicated()]"
      ]
    },
    {
      "cell_type": "markdown",
      "id": "d0e8abc8",
      "metadata": {
        "id": "d0e8abc8"
      },
      "source": [
        "\n",
        "\n",
        "# <div dir=\"rtl\">d:</div>\n",
        "\n",
        "<div dir=\"rtl\">\n",
        "\n",
        "\n",
        "در شکل زیر هیستوگرام متغیر area رسم شده است. همان طور که مشخص است کجی از سمت چپ وجود دارد.\n",
        "مقدار عددی به دست آمده با تابع skew نیز گویای وجود این کجی است.\n",
        "\n",
        "<div>\n"
      ]
    },
    {
      "cell_type": "code",
      "execution_count": null,
      "id": "266d7f4d",
      "metadata": {
        "colab": {
          "base_uri": "https://localhost:8080/",
          "height": 282
        },
        "id": "266d7f4d",
        "outputId": "9b709243-8934-48d5-ac60-d4a83657df7e"
      },
      "outputs": [
        {
          "output_type": "execute_result",
          "data": {
            "text/plain": [
              "<matplotlib.axes._subplots.AxesSubplot at 0x7ffad2df4350>"
            ]
          },
          "metadata": {},
          "execution_count": 12
        },
        {
          "output_type": "display_data",
          "data": {
            "text/plain": [
              "<Figure size 432x288 with 1 Axes>"
            ],
            "image/png": "[encoded data removed]"
          },
          "metadata": {
            "needs_background": "light"
          }
        }
      ],
      "source": [
        "df.area.hist()"
      ]
    },
    {
      "cell_type": "code",
      "execution_count": null,
      "id": "01b9a020",
      "metadata": {
        "colab": {
          "base_uri": "https://localhost:8080/"
        },
        "id": "01b9a020",
        "outputId": "a50d560d-1ff5-417f-9036-2c6e37d48b0a"
      },
      "outputs": [
        {
          "output_type": "execute_result",
          "data": {
            "text/plain": [
              "12.802213419146321"
            ]
          },
          "metadata": {},
          "execution_count": 13
        }
      ],
      "source": [
        "df.area.skew()"
      ]
    },
    {
      "cell_type": "markdown",
      "id": "fd18a1b9",
      "metadata": {
        "id": "fd18a1b9"
      },
      "source": [
        "\n",
        "\n",
        "# <div dir=\"rtl\">e:</div>\n",
        "\n",
        "<div dir=\"rtl\">\n",
        "\n",
        "در این قسمت با استفاده از روش sqrt کجی هیستوگرام متغیر area برطرف شده است.\n",
        "\n",
        "\n",
        "<div>\n"
      ]
    },
    {
      "cell_type": "code",
      "execution_count": null,
      "id": "c1da738e",
      "metadata": {
        "colab": {
          "base_uri": "https://localhost:8080/",
          "height": 282
        },
        "id": "c1da738e",
        "outputId": "b042d1cd-e94f-422f-a325-06940c7c1f75"
      },
      "outputs": [
        {
          "output_type": "execute_result",
          "data": {
            "text/plain": [
              "<matplotlib.axes._subplots.AxesSubplot at 0x7ffad2db1690>"
            ]
          },
          "metadata": {},
          "execution_count": 14
        },
        {
          "output_type": "display_data",
          "data": {
            "text/plain": [
              "<Figure size 432x288 with 1 Axes>"
            ],
            "image/png": "[encoded data removed]"
          },
          "metadata": {
            "needs_background": "light"
          }
        }
      ],
      "source": [
        "df.area = np.sqrt(df.area)\n",
        "df.area.hist()"
      ]
    },
    {
      "cell_type": "code",
      "execution_count": null,
      "id": "9f9f003e",
      "metadata": {
        "colab": {
          "base_uri": "https://localhost:8080/"
        },
        "id": "9f9f003e",
        "outputId": "a8b32e0d-48ac-4bf7-b50c-cd3e43bbfa1e"
      },
      "outputs": [
        {
          "output_type": "execute_result",
          "data": {
            "text/plain": [
              "4.346061153147992"
            ]
          },
          "metadata": {},
          "execution_count": 15
        }
      ],
      "source": [
        "df.area.skew()"
      ]
    },
    {
      "cell_type": "markdown",
      "id": "025f7ac8",
      "metadata": {
        "id": "025f7ac8"
      },
      "source": [
        "\n",
        "\n",
        "\n",
        "# <div dir=\"rtl\">f:</div>\n",
        "\n",
        "<div dir=\"rtl\">\n",
        "\n",
        "در شکل زیر به کمک تابع corr و heatmap همبستگی بین ویژگی های داده با متغیر هدف نشان داده شده است.\n",
        "\n",
        "متغیر هدف area همبستگی پایینی با تک تک ویژگی ها دارد.\n",
        "\n",
        "ویژگی دما در مقایسه با سایر ویژگی ها بیشترین همبستگی را با متغیر هدف دارد.    \n",
        "\n",
        "پس از دما ویژگی های DMC، month_mar و month_sep بیشترین همبستگی را با متغیر هدف دارند.    \n",
        "\n",
        "ویژگی های ISI، day_sun، day_wed، month_jul، month_apr و rain به ترتیب کمترین همبستگی را با متغیر هدف دارند. \n",
        "\n",
        "از بین ویژگی های مربوط به روز day_sat و از بین ویژگی های مربوط به ماه month_mar بیشترین همبستگی را با هدف دارند.\n",
        "\n",
        "<div>\n"
      ]
    },
    {
      "cell_type": "code",
      "execution_count": null,
      "id": "3f7d0f0a",
      "metadata": {
        "scrolled": false,
        "colab": {
          "base_uri": "https://localhost:8080/",
          "height": 201
        },
        "id": "3f7d0f0a",
        "outputId": "f049de51-bfb3-4cc9-fff8-43b07d2ded21"
      },
      "outputs": [
        {
          "output_type": "execute_result",
          "data": {
            "text/plain": [
              "<matplotlib.axes._subplots.AxesSubplot at 0x7ffad2c81990>"
            ]
          },
          "metadata": {},
          "execution_count": 16
        },
        {
          "output_type": "display_data",
          "data": {
            "text/plain": [
              "<Figure size 2160x360 with 2 Axes>"
            ],
            "image/png": "[encoded data removed]"
          },
          "metadata": {
            "needs_background": "light"
          }
        }
      ],
      "source": [
        "corr = df.corr()\n",
        "fig = plt.figure(figsize=(30, 5)), \n",
        "sns.heatmap([corr['area']], annot=True, square=True, xticklabels=corr.columns, yticklabels=['area'])"
      ]
    },
    {
      "cell_type": "markdown",
      "id": "b716ae8d",
      "metadata": {
        "id": "b716ae8d"
      },
      "source": [
        "### ● Feaure selection and Linear Regression"
      ]
    },
    {
      "cell_type": "markdown",
      "id": "f48ac422",
      "metadata": {
        "id": "f48ac422"
      },
      "source": [
        "\n",
        "\n",
        "# <div dir=\"rtl\">g:</div>\n",
        "\n",
        "<div dir=\"rtl\">\n",
        "\n",
        "در این قسمت همه ی ستون ها به جز area در متغیر X و ستون area در متغیر y قرار گرفته است.\n",
        "\n",
        "\n",
        "<div>\n"
      ]
    },
    {
      "cell_type": "code",
      "execution_count": null,
      "id": "15151415",
      "metadata": {
        "id": "15151415"
      },
      "outputs": [],
      "source": [
        "l = list(df.columns)\n",
        "l.remove('area')\n",
        "X = df.loc[:, l]\n",
        "y = df.loc[:, 'area']"
      ]
    },
    {
      "cell_type": "markdown",
      "id": "b3079b44",
      "metadata": {
        "id": "b3079b44"
      },
      "source": [
        "\n",
        "# <div dir=\"rtl\">h:</div>\n",
        "\n",
        "<div dir=\"rtl\">\n",
        "\n",
        "در این قسمت به کمک تابع train_test_split داده ها به دو دسته ی train و test با نسبت 80٪ به 20٪ تقسیم شده اند.\n",
        "\n",
        "\n",
        "<div>\n"
      ]
    },
    {
      "cell_type": "code",
      "execution_count": null,
      "id": "323190cb",
      "metadata": {
        "id": "323190cb"
      },
      "outputs": [],
      "source": [
        "X_train, X_test, y_train, y_test = train_test_split(X, y, test_size=0.8, random_state=42)"
      ]
    },
    {
      "cell_type": "markdown",
      "id": "79efc2ab",
      "metadata": {
        "id": "79efc2ab"
      },
      "source": [
        "\n",
        "\n",
        "# <div dir=\"rtl\">i:</div>\n",
        "\n",
        "<div dir=\"rtl\">\n",
        "\n",
        "در این قسمت به کمک تابع DummyRegressor یک مدل baseline با روش میانگین ساخته شده است و روی داده ی آموزشی آموزش داده شده است. سپس پیش بینی روی داده ی test انجام شده مقدار mse محاسبه شده است که برابر 8.83 است.\n",
        "\n",
        "\n",
        "<div>\n"
      ]
    },
    {
      "cell_type": "code",
      "execution_count": null,
      "id": "830b0a83",
      "metadata": {
        "colab": {
          "base_uri": "https://localhost:8080/"
        },
        "id": "830b0a83",
        "outputId": "d3f3e989-b70e-47a0-ac03-a604dc3de56c"
      },
      "outputs": [
        {
          "output_type": "execute_result",
          "data": {
            "text/plain": [
              "DummyRegressor()"
            ]
          },
          "metadata": {},
          "execution_count": 19
        }
      ],
      "source": [
        "dm = DummyRegressor(strategy='mean')\n",
        "dm.fit(X_train, y_train)"
      ]
    },
    {
      "cell_type": "code",
      "execution_count": null,
      "id": "93abeff9",
      "metadata": {
        "id": "93abeff9"
      },
      "outputs": [],
      "source": [
        "y_pred = dm.predict(X_test)"
      ]
    },
    {
      "cell_type": "code",
      "execution_count": null,
      "id": "505dfb51",
      "metadata": {
        "colab": {
          "base_uri": "https://localhost:8080/"
        },
        "id": "505dfb51",
        "outputId": "4563e32a-93bd-4f35-89fe-e4bc6ca78690"
      },
      "outputs": [
        {
          "output_type": "execute_result",
          "data": {
            "text/plain": [
              "8.838039167799035"
            ]
          },
          "metadata": {},
          "execution_count": 21
        }
      ],
      "source": [
        "mse = mean_squared_error(y_test, y_pred)\n",
        "mse"
      ]
    },
    {
      "cell_type": "markdown",
      "id": "b4a432f0",
      "metadata": {
        "id": "b4a432f0"
      },
      "source": [
        "\n",
        "# <div dir=\"rtl\">j:</div>\n",
        "\n",
        "<div dir=\"rtl\">\n",
        "\n",
        "در این قسمت آموزش روی داده های آموزشی و پیش بینی روی داده های تست با استفاده از مدل Linearregression انجام شده است و مقدار mse محاسبه شده است که برابر 11.41 است.\n",
        "\n",
        "\n",
        "<div>\n"
      ]
    },
    {
      "cell_type": "code",
      "execution_count": null,
      "id": "7a63f0f6",
      "metadata": {
        "id": "7a63f0f6"
      },
      "outputs": [],
      "source": [
        "lr = LinearRegression()\n",
        "lr.fit(X_train, y_train)\n",
        "y_pred = lr.predict(X_test)"
      ]
    },
    {
      "cell_type": "code",
      "execution_count": null,
      "id": "aa15dc28",
      "metadata": {
        "colab": {
          "base_uri": "https://localhost:8080/"
        },
        "id": "aa15dc28",
        "outputId": "60df962b-25e5-4d07-b519-e3f896c72f2d"
      },
      "outputs": [
        {
          "output_type": "execute_result",
          "data": {
            "text/plain": [
              "11.41199796737337"
            ]
          },
          "metadata": {},
          "execution_count": 23
        }
      ],
      "source": [
        "mse = mean_squared_error(y_test, y_pred)\n",
        "mse"
      ]
    },
    {
      "cell_type": "markdown",
      "id": "3c1810ed",
      "metadata": {
        "id": "3c1810ed"
      },
      "source": [
        "<div style=\"direction:rtl\">\n",
        "k)\n",
        "با توجه به اینکه میانگین مربع خطا در مدل LinearRegression از مدل baseline بیشتر است میتوانیم نتیجه بگیریم که LinearRegressoin ضعیف تر از baseline است و عملکرد آن مناسب نیست.\n",
        "<div>"
      ]
    },
    {
      "cell_type": "markdown",
      "id": "92e41383",
      "metadata": {
        "id": "92e41383"
      },
      "source": [
        "\n",
        "\n",
        "\n",
        "# <div dir=\"rtl\">l:</div>\n",
        "\n",
        "<div dir=\"rtl\">\n",
        "\n",
        "در این قسمت به کمک تابع OLS مقدار p-value برای هر یک از ویژگی ها محاسبه شده است.\n",
        "\n",
        "همبستگی محاسبه شده در قسمت f به تعیین کمیت همبستگی کمک میکند ولی مقدار p-value به ارزیابی واقعی بودن یک همبستگی کمک میکند. میزان همبستگی و مقدار p-value باید در کنار هم تفسیر شوند.\n",
        "اگر مقدار p-value کم باشد (به طور کلی کمتر از 0.05) آنگاه همبستگی از نظر آماری معنادار است. اما اگر مقدار p-value کم نباشد همبستگی از نظر آماری معنادار نیست و نباید به آن تکیه کرد. \n",
        "\n",
        "برای مثال در نمودار heatmap ویژگی temp بیشترین همبستگی را با هدف دارد. اما مقدار p_value نشان میدهد که این همبستگی که این همبستگی 40٪ واقعی است.\n",
        "\n",
        "ویژگی DMC پس از دما بیشترین همبستگی را با هدف دارد و مقدار p-value آن نشان میدهد که این همبستگی به اندازه ی 72٪ واقعی است.\n",
        "\n",
        "<div>\n"
      ]
    },
    {
      "cell_type": "code",
      "execution_count": null,
      "id": "95161527",
      "metadata": {
        "colab": {
          "base_uri": "https://localhost:8080/"
        },
        "id": "95161527",
        "outputId": "13dd758b-e356-4994-916f-28511e27e9f9"
      },
      "outputs": [
        {
          "output_type": "stream",
          "name": "stderr",
          "text": [
            "/usr/local/lib/python3.7/dist-packages/statsmodels/tsa/tsatools.py:117: FutureWarning: In a future version of pandas all arguments of concat except for the argument 'objs' will be keyword-only\n",
            "  x = pd.concat(x[::order], 1)\n"
          ]
        },
        {
          "output_type": "execute_result",
          "data": {
            "text/plain": [
              "temp         0.151806\n",
              "wind         0.189613\n",
              "month_jan    0.239927\n",
              "month_mar    0.250970\n",
              "ISI          0.297678\n",
              "day_sat      0.301603\n",
              "day_wed      0.324327\n",
              "month_dec    0.341947\n",
              "day_sun      0.357307\n",
              "day_mon      0.383623\n",
              "DC           0.398580\n",
              "month_apr    0.439765\n",
              "month_nov    0.441348\n",
              "Y            0.464446\n",
              "month_sep    0.509722\n",
              "X            0.534072\n",
              "RH           0.573319\n",
              "month_feb    0.585971\n",
              "const        0.589365\n",
              "day_tue      0.596120\n",
              "month_oct    0.598733\n",
              "day_fri      0.640372\n",
              "month_aug    0.641368\n",
              "month_may    0.655660\n",
              "day_thu      0.706589\n",
              "month_jul    0.714227\n",
              "FFMC         0.721076\n",
              "month_jun    0.824859\n",
              "rain         0.843061\n",
              "DMC          0.998424\n",
              "dtype: float64"
            ]
          },
          "metadata": {},
          "execution_count": 24
        }
      ],
      "source": [
        "ols = OLS(y_train, sm.add_constant(X_train)).fit()\n",
        "ols.pvalues.sort_values()"
      ]
    },
    {
      "cell_type": "markdown",
      "id": "fe10b77b",
      "metadata": {
        "id": "fe10b77b"
      },
      "source": [
        "\n",
        "\n",
        "# <div dir=\"rtl\">m:</div>\n",
        "\n",
        "<div dir=\"rtl\">\n",
        "\n",
        "در این قسمت ابتدا یک تابع به نام backeardElimination ایجاد شده است که در آن در یک حلقه به اندازه ی تعداد ویژگی ها وجود دارد. در هر iteration درون حلقه یک بار مقدار p-value برای ویژگی های باقی مانده محاسبه میشود و ویژگی هایی که p-value آن ها بیشینه است و از مقدار sl نیز بیشتر است حذف میشوند.\n",
        "در نهایت داده های نهایی به همراه نام ویژگی هایی که حذف نشده اند بازگردانده میشوند.\n",
        "\n",
        "در نهایت با استفاده از تابع تعریف شده عمل backward elimination انجام میشود.\n",
        "\n",
        "<div>\n"
      ]
    },
    {
      "cell_type": "code",
      "execution_count": null,
      "id": "dbdf7052",
      "metadata": {
        "id": "dbdf7052"
      },
      "outputs": [],
      "source": [
        "def backwardElimination(x, Y, sl, columns):\n",
        "    numVars = len(x[0])\n",
        "    for i in range(0, numVars):\n",
        "        regressor_OLS = sm.OLS(Y, sm.add_constant(x)).fit()\n",
        "        maxVar = max(regressor_OLS.pvalues).astype(float)\n",
        "        if maxVar > sl:\n",
        "            for j in range(0, numVars - i):\n",
        "                if (regressor_OLS.pvalues[j].astype(float) == maxVar):\n",
        "                    x = np.delete(x, j, 1)\n",
        "                    columns = np.delete(columns, j)\n",
        "                    \n",
        "    regressor_OLS.summary()\n",
        "    return x, columns"
      ]
    },
    {
      "cell_type": "code",
      "execution_count": null,
      "id": "13ba2443",
      "metadata": {
        "id": "13ba2443"
      },
      "outputs": [],
      "source": [
        "sl = 0.05\n",
        "X2, columns = backwardElimination(X.values, y.values, sl, X.columns)"
      ]
    },
    {
      "cell_type": "code",
      "execution_count": null,
      "id": "d172d73b",
      "metadata": {
        "colab": {
          "base_uri": "https://localhost:8080/"
        },
        "id": "d172d73b",
        "outputId": "4a3a7ec2-1af3-4aea-be65-2fa1047e16ea"
      },
      "outputs": [
        {
          "output_type": "execute_result",
          "data": {
            "text/plain": [
              "['DMC', 'DC', 'ISI', 'temp', 'RH', 'wind', 'rain']"
            ]
          },
          "metadata": {},
          "execution_count": 27
        }
      ],
      "source": [
        "list(columns)"
      ]
    },
    {
      "cell_type": "markdown",
      "id": "dc815eb2",
      "metadata": {
        "id": "dc815eb2"
      },
      "source": [
        "\n",
        "\n",
        "\n",
        "\n",
        "# <div dir=\"rtl\">n:</div>\n",
        "\n",
        "<div dir=\"rtl\">\n",
        "\n",
        "در این قسمت کلیه ی قسمت های h، i، j و k مجددا روی داده ی X2 اجرا شده است.\n",
        "\n",
        "همان طور که مشخص است در این حالت به دلیل استفاده از ویژگی های با همبستگی واقعی تر، مدل LinearRegression نزدیک تر به baseline عمل میکند. ولی همچنان عملکرد آن ضعیف تر از baseline است.\n",
        "\n",
        "\n",
        "<div>\n"
      ]
    },
    {
      "cell_type": "code",
      "execution_count": null,
      "id": "70b6233f",
      "metadata": {
        "id": "70b6233f"
      },
      "outputs": [],
      "source": [
        "X2_train, X2_test, y2_train, y2_test = train_test_split(X2, y, test_size=0.8, random_state=42)"
      ]
    },
    {
      "cell_type": "code",
      "execution_count": null,
      "id": "14498da4",
      "metadata": {
        "colab": {
          "base_uri": "https://localhost:8080/"
        },
        "id": "14498da4",
        "outputId": "1a9963a1-59da-4281-f868-81930c5331c9"
      },
      "outputs": [
        {
          "output_type": "execute_result",
          "data": {
            "text/plain": [
              "8.838039167799035"
            ]
          },
          "metadata": {},
          "execution_count": 29
        }
      ],
      "source": [
        "dm = DummyRegressor(strategy='mean')\n",
        "dm.fit(X2_train, y2_train)\n",
        "y2_pred = dm.predict(X2_test)\n",
        "mse = mean_squared_error(y2_test, y2_pred)\n",
        "mse"
      ]
    },
    {
      "cell_type": "code",
      "execution_count": null,
      "id": "86f2bd75",
      "metadata": {
        "colab": {
          "base_uri": "https://localhost:8080/"
        },
        "id": "86f2bd75",
        "outputId": "dc4f7fca-c3f6-4eca-e13a-aec2f52b4fe7"
      },
      "outputs": [
        {
          "output_type": "execute_result",
          "data": {
            "text/plain": [
              "9.580271731690138"
            ]
          },
          "metadata": {},
          "execution_count": 30
        }
      ],
      "source": [
        "lr = LinearRegression()\n",
        "lr.fit(X2_train, y2_train)\n",
        "y2_pred = lr.predict(X2_test)\n",
        "mse = mean_squared_error(y2_test, y2_pred)\n",
        "mse"
      ]
    },
    {
      "cell_type": "markdown",
      "id": "c0503ddd",
      "metadata": {
        "id": "c0503ddd"
      },
      "source": [
        "o)\n",
        "در این قسمت با استفاده از Ridge مجددا عمل رگرسیون انجام شده است. همان طور که مشخص است معیار mse در این حالت در مقایسه با LinearRegression اندکی کاهش داشته است.\n",
        "<br>\n",
        "رگرسیون Ridge روشی است که برای تحلیل multicollinearity در داده های رگرسیون چندگانه استفاده میشود. این روش زمانی استفاده میشود که یک مجموعه داده دارای تعداد بیشتری متغیر پیش بینی کننده نسبت به تعداد مشاهدات باشد. کاربرد دیگر آن زمانی است است که در مجموعه داده multicollinearity وجود داشته باشد.\n",
        "<br>\n",
        "هنگامی که multicollinearity رخ میدهد، unbiase، least squates estimates میشود. اما واریانس آن ها بزرگ میشود. بنابراین ممکن است از مقدار واقعی دور باشد. با افزودن درجه ای از bias به تخمین های رگرسیون، رگرسیون خطی خطاهای استاندارد را کاهش میدهد.\n"
      ]
    },
    {
      "cell_type": "code",
      "execution_count": null,
      "id": "f670ea52",
      "metadata": {
        "colab": {
          "base_uri": "https://localhost:8080/"
        },
        "id": "f670ea52",
        "outputId": "10a1bfe1-ba4f-4bb4-ff02-c4625e475bf2"
      },
      "outputs": [
        {
          "output_type": "execute_result",
          "data": {
            "text/plain": [
              "9.576773938014341"
            ]
          },
          "metadata": {},
          "execution_count": 31
        }
      ],
      "source": [
        "ridge = Ridge()\n",
        "ridge.fit(X2_train, y2_train)\n",
        "y2_pred = ridge.predict(X2_test)\n",
        "mse = mean_squared_error(y2_test, y2_pred)\n",
        "mse"
      ]
    },
    {
      "cell_type": "markdown",
      "id": "90b58a53",
      "metadata": {
        "id": "90b58a53"
      },
      "source": [
        "\n",
        "\n",
        "\n",
        "p)\n",
        "در این حالت با استفاده از elasticnet مجددا عمل رگرسیون انجام شده است. همان طور که مشخص است در این حالت معیار mse نسبت به مدل های قبلی کاهش داشته است.\n",
        "\n",
        "رگرسیون ElasticNet یک مدل رگرسیونی است که هر دو روش نرمال سازی L1 و L2 را ترکیب میکند. در این مدل یک hyperparameter به نام آلفا برای تعیین وزن L1 و L2 در نظر گرفته شده است. regularization به مشکلات overfitting مدل ها کمک میکند. بنابراین ElasticNet یک روش رگرسیونی است که انتخاب متغیر و regularization را به طور همزمان انجام میدهد. با توجه به اینکه این مدل محدودیت های Lasso و Ridge را برطرف میکند معمولا بهتر از آن دو عمل میکند.\n"
      ]
    },
    {
      "cell_type": "code",
      "execution_count": null,
      "id": "a924b46e",
      "metadata": {
        "colab": {
          "base_uri": "https://localhost:8080/"
        },
        "id": "a924b46e",
        "outputId": "9c4894e2-98e5-43cf-fae4-ae78efa1db3c"
      },
      "outputs": [
        {
          "output_type": "execute_result",
          "data": {
            "text/plain": [
              "9.020476756202385"
            ]
          },
          "metadata": {},
          "execution_count": 32
        }
      ],
      "source": [
        "elastic = ElasticNet()\n",
        "elastic.fit(X2_train, y2_train)\n",
        "y2_pred = elastic.predict(X2_test)\n",
        "mse = mean_squared_error(y2_test, y2_pred)\n",
        "mse"
      ]
    },
    {
      "cell_type": "markdown",
      "id": "bb10d84c",
      "metadata": {
        "id": "bb10d84c"
      },
      "source": [
        "\n",
        "\n",
        "q)\n",
        "در این قسمت مدل قبلی مجددا آموزش داده شده است و برای سنجش آن روی داده ی تست از معیار mae استفاده شده است.\n",
        "\n",
        "با توجه به اینکه mse میانگین مربعات خطا را محاسبه میکند زمانی که اختلاف مقادیر پیش بینی شده و مقادیر واقعی بزرگتر از یک باشد مقدار mse از mae بزرگتر است که در اینجا این اتفاق افتاده است.\n",
        "\n"
      ]
    },
    {
      "cell_type": "code",
      "execution_count": null,
      "id": "7dae7fb7",
      "metadata": {
        "colab": {
          "base_uri": "https://localhost:8080/"
        },
        "id": "7dae7fb7",
        "outputId": "8b9a7231-50eb-4a08-abdc-dcc4b072f899"
      },
      "outputs": [
        {
          "output_type": "execute_result",
          "data": {
            "text/plain": [
              "1.972612568866016"
            ]
          },
          "metadata": {},
          "execution_count": 33
        }
      ],
      "source": [
        "elastic = ElasticNet()\n",
        "elastic.fit(X2_train, y2_train)\n",
        "y2_pred = elastic.predict(X2_test)\n",
        "mae = mean_absolute_error(y2_test, y2_pred)\n",
        "mae"
      ]
    },
    {
      "cell_type": "markdown",
      "id": "7a298177",
      "metadata": {
        "id": "7a298177"
      },
      "source": [
        "### ● Model Selection "
      ]
    },
    {
      "cell_type": "markdown",
      "id": "8d09fd99",
      "metadata": {
        "id": "8d09fd99"
      },
      "source": [
        "r)\n",
        "در این قسمت در یک حلقه هربار یک مدل ElasticNet با مقدار آلفا از یک تا 200 ساخته شده است. سپس میانگین خطای این مدل پس از 5 فولد اجرا محاسبه و در یک لیست ذخیره شده است.\n"
      ]
    },
    {
      "cell_type": "code",
      "execution_count": null,
      "id": "52bba821",
      "metadata": {
        "id": "52bba821"
      },
      "outputs": [],
      "source": [
        "mean_mse = []\n",
        "for alpha in range(1, 201):\n",
        "    estimator = ElasticNet(alpha=alpha) \n",
        "    mse = cross_val_score(estimator = estimator, X = X_train, \n",
        "                          y = y_train,\n",
        "                          scoring='neg_mean_squared_error',\n",
        "                          cv = KFold(n_splits=5))\n",
        "    mean_mse.append(np.abs(mse).mean())"
      ]
    },
    {
      "cell_type": "markdown",
      "id": "4b5fa046",
      "metadata": {
        "id": "4b5fa046"
      },
      "source": [
        "s)\n",
        "شکل زیر میانگین mse مدل ElasticNet را پس از هر اجرا بر حسب مقدار آلفا نشان میدهد.\n",
        "\n",
        "همان طور که مشخص است به طور کلی با افزایش آلفا مقدار mse کاهش میابد.\n",
        "\n",
        "از حدود مقدار 175 به بعد تغییرات mse کاهش پیدا میکند و تقریبا به یک مقدار ثابت میرسد. بنابراین مقدار بهینه برای آلفا میتواند مقدار 175 باشد که مقدار mse آن برابر 8.83 است. \n",
        "\n",
        "\n"
      ]
    },
    {
      "cell_type": "code",
      "execution_count": null,
      "id": "406fc84b",
      "metadata": {
        "colab": {
          "base_uri": "https://localhost:8080/",
          "height": 337
        },
        "id": "406fc84b",
        "outputId": "f86e3f0f-81a2-45a7-cf37-2680f6b48666"
      },
      "outputs": [
        {
          "output_type": "stream",
          "name": "stderr",
          "text": [
            "/usr/local/lib/python3.7/dist-packages/seaborn/_decorators.py:43: FutureWarning: Pass the following variables as keyword args: x, y. From version 0.12, the only valid positional argument will be `data`, and passing other arguments without an explicit keyword will result in an error or misinterpretation.\n",
            "  FutureWarning\n"
          ]
        },
        {
          "output_type": "execute_result",
          "data": {
            "text/plain": [
              "<matplotlib.axes._subplots.AxesSubplot at 0x7ffacdd5a610>"
            ]
          },
          "metadata": {},
          "execution_count": 36
        },
        {
          "output_type": "display_data",
          "data": {
            "text/plain": [
              "<Figure size 432x288 with 1 Axes>"
            ],
            "image/png": "[encoded data removed]"
          },
          "metadata": {
            "needs_background": "light"
          }
        }
      ],
      "source": [
        "x = list(range(1, 201))\n",
        "y = mean_mse\n",
        "sns.lineplot(x, y)"
      ]
    },
    {
      "cell_type": "code",
      "execution_count": null,
      "id": "1d459236",
      "metadata": {
        "colab": {
          "base_uri": "https://localhost:8080/"
        },
        "id": "1d459236",
        "outputId": "6eb0d786-c3fd-43ef-e546-9862334f3591"
      },
      "outputs": [
        {
          "output_type": "execute_result",
          "data": {
            "text/plain": [
              "8.838039167799035"
            ]
          },
          "metadata": {},
          "execution_count": 37
        }
      ],
      "source": [
        "elastic = ElasticNet(alpha=175)\n",
        "elastic.fit(X_train, y_train)\n",
        "y_pred = elastic.predict(X_test)\n",
        "mse = mean_squared_error(y_test, y_pred)\n",
        "mse"
      ]
    },
    {
      "cell_type": "code",
      "source": [
        ""
      ],
      "metadata": {
        "id": "q7cX0rQtqJpq"
      },
      "id": "q7cX0rQtqJpq",
      "execution_count": null,
      "outputs": []
    }
  ],
  "metadata": {
    "kernelspec": {
      "display_name": "Python 3",
      "language": "python",
      "name": "python3"
    },
    "language_info": {
      "codemirror_mode": {
        "name": "ipython",
        "version": 3
      },
      "file_extension": ".py",
      "mimetype": "text/x-python",
      "name": "python",
      "nbconvert_exporter": "python",
      "pygments_lexer": "ipython3",
      "version": "3.8.8"
    },
    "colab": {
      "name": "Q4.ipynb",
      "provenance": []
    }
  },
  "nbformat": 4,
  "nbformat_minor": 5
}